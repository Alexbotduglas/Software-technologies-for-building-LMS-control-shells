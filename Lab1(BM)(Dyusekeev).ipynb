{
 "cells": [
  {
   "cell_type": "markdown",
   "metadata": {
    "id": "16fa5749"
   },
   "source": [
    "<font color='red'> Если нет необходимых библиотек инсталируем их </font>"
   ]
  },
  {
   "cell_type": "code",
   "execution_count": 1,
   "metadata": {
    "id": "0528fb57"
   },
   "outputs": [],
   "source": [
    "import matplotlib.pyplot as plt\n",
    "import torch\n",
    "import random\n",
    "import numpy as np\n",
    "import torchvision.datasets\n",
    "import torchvision.transforms as torch_T\n",
    "from PIL import Image\n",
    "import seaborn as sns\n",
    "from sklearn.model_selection import train_test_split\n",
    "import gc\n",
    "gc.enable()"
   ]
  },
  {
   "cell_type": "markdown",
   "metadata": {
    "id": "c73ef959"
   },
   "source": [
    "# Лабораторная №1"
   ]
  },
  {
   "cell_type": "code",
   "execution_count": 2,
   "metadata": {
    "id": "7-rUXGcqZ2SR"
   },
   "outputs": [],
   "source": [
    "n = 5"
   ]
  },
  {
   "cell_type": "code",
   "execution_count": 3,
   "metadata": {
    "colab": {
     "base_uri": "https://localhost:8080/",
     "height": 430,
     "referenced_widgets": [
      "98e648f4798b4619a32a3c0d02d6cb29",
      "580803435ff94475bde32809a0dc9d59",
      "4dcb77be2dec479ebadf92ad7cdcf3a1",
      "0cc64cb51fa24513bea389f69314289d",
      "9f126830065947f8a74dbbfea244842c",
      "8d21a0330a5d40c6971fbae5a22a451d",
      "10f8771ca50b45b9911a59b6ed1ebfbe",
      "ab852b092e314ebaa064f57d4db4a061",
      "38b40535bce74fb89c8bd029e675fbbc",
      "6523df67253b40418489ea434126d42a",
      "64e7486c6a0d4fcdbab268b421f38b40",
      "65e4d13c4f7c4c199ae72c4024aa5289",
      "f58db2ee98e74244b8b893a3ba3ae326",
      "c34a4c86321642c7b92d160c6111ca5e",
      "61b548916d8548e49bd7fa424d56528c",
      "b0ccc6b642134cdd82f7c79d72fe2b33",
      "6f0ea91a228e4e4a93a636cafd4508a3",
      "9cec9333c48f491b8a367454308a9a64",
      "22928bb476c04140b5a323097798b931",
      "3cf8da8130fa46698d1e10ace8911a61",
      "5550d07af775400485a45675c0de2aa5",
      "edba68abad784110aca102b009aec369",
      "7d3ae67aee334da1a4d2f41de18cc5d9",
      "cf09668886bb4726b143c68a546b3985",
      "7255a1b7e0b148f8ae8abdd581d9843b",
      "b8a3ed41e8974b0b9970d02fc26126cf",
      "753f20205d2b42ae86a14176da3d6810",
      "7b874672781940159028785549a343a2",
      "2d35f482d37c4753981885fd2deccd25",
      "b81ce3cc5b224a86853f2a9a3ae70cb8",
      "03246717f9bd4a3c84fb43ef48ee56d6",
      "7e26456a1f4047e5bf9c2e467f63a687",
      "62330091f3524320a9160d20ebeaca0f",
      "c8be7284b2a245b4a88ddbe2e44d848b",
      "9259289e0bd842f0b259c377a09c72d9",
      "e5a7fe2dece740c8bf6f71c48c41ac40",
      "2cb822c33ea64defa7b004c477d5d5e7",
      "6b0cc69b5dec47af95ed96e37af02b1b",
      "8e792860c7ab48aaa7170120419dfa1f",
      "1b761205ba49442083bfd0d5b0f5d530",
      "6c73e41b11d5460ca15a3598ebee33ed",
      "ae04c097106e4ee5b437e2c9d668c130",
      "5bcfba010f7749c18e2eebd5aa340949",
      "e5beceed7a15444794c474c83da1472c"
     ]
    },
    "id": "b9b3cfa4",
    "outputId": "87dd99d8-6ddf-4808-ad6e-b2a6f2d9d05b"
   },
   "outputs": [
    {
     "name": "stdout",
     "output_type": "stream",
     "text": [
      "Downloading http://yann.lecun.com/exdb/mnist/train-images-idx3-ubyte.gz\n",
      "Downloading http://yann.lecun.com/exdb/mnist/train-images-idx3-ubyte.gz to ./MNIST\\raw\\train-images-idx3-ubyte.gz\n"
     ]
    },
    {
     "data": {
      "application/vnd.jupyter.widget-view+json": {
       "model_id": "671aa740232644998a049c291edffe68",
       "version_major": 2,
       "version_minor": 0
      },
      "text/plain": [
       "HBox(children=(HTML(value=''), FloatProgress(value=0.0, max=9912422.0), HTML(value='')))"
      ]
     },
     "metadata": {},
     "output_type": "display_data"
    },
    {
     "name": "stdout",
     "output_type": "stream",
     "text": [
      "\n",
      "Extracting ./MNIST\\raw\\train-images-idx3-ubyte.gz to ./MNIST\\raw\n",
      "\n",
      "Downloading http://yann.lecun.com/exdb/mnist/train-labels-idx1-ubyte.gz\n",
      "Downloading http://yann.lecun.com/exdb/mnist/train-labels-idx1-ubyte.gz to ./MNIST\\raw\\train-labels-idx1-ubyte.gz\n"
     ]
    },
    {
     "data": {
      "application/vnd.jupyter.widget-view+json": {
       "model_id": "287f77d7387e41cc8539d526723b43c5",
       "version_major": 2,
       "version_minor": 0
      },
      "text/plain": [
       "HBox(children=(HTML(value=''), FloatProgress(value=0.0, max=28881.0), HTML(value='')))"
      ]
     },
     "metadata": {},
     "output_type": "display_data"
    },
    {
     "name": "stdout",
     "output_type": "stream",
     "text": [
      "\n",
      "Extracting ./MNIST\\raw\\train-labels-idx1-ubyte.gz to ./MNIST\\raw\n",
      "\n",
      "Downloading http://yann.lecun.com/exdb/mnist/t10k-images-idx3-ubyte.gz\n",
      "Downloading http://yann.lecun.com/exdb/mnist/t10k-images-idx3-ubyte.gz to ./MNIST\\raw\\t10k-images-idx3-ubyte.gz\n"
     ]
    },
    {
     "data": {
      "application/vnd.jupyter.widget-view+json": {
       "model_id": "ad556b3d49d147c5af49ddb3b751aea1",
       "version_major": 2,
       "version_minor": 0
      },
      "text/plain": [
       "HBox(children=(HTML(value=''), FloatProgress(value=0.0, max=1648877.0), HTML(value='')))"
      ]
     },
     "metadata": {},
     "output_type": "display_data"
    },
    {
     "name": "stdout",
     "output_type": "stream",
     "text": [
      "\n",
      "Extracting ./MNIST\\raw\\t10k-images-idx3-ubyte.gz to ./MNIST\\raw\n",
      "\n",
      "Downloading http://yann.lecun.com/exdb/mnist/t10k-labels-idx1-ubyte.gz\n",
      "Downloading http://yann.lecun.com/exdb/mnist/t10k-labels-idx1-ubyte.gz to ./MNIST\\raw\\t10k-labels-idx1-ubyte.gz\n"
     ]
    },
    {
     "data": {
      "application/vnd.jupyter.widget-view+json": {
       "model_id": "0116b2b15e754d8d9c74877c297c68c3",
       "version_major": 2,
       "version_minor": 0
      },
      "text/plain": [
       "HBox(children=(HTML(value=''), FloatProgress(value=0.0, max=4542.0), HTML(value='')))"
      ]
     },
     "metadata": {},
     "output_type": "display_data"
    },
    {
     "name": "stdout",
     "output_type": "stream",
     "text": [
      "\n",
      "Extracting ./MNIST\\raw\\t10k-labels-idx1-ubyte.gz to ./MNIST\\raw\n",
      "\n"
     ]
    }
   ],
   "source": [
    "MNIST_train = torchvision.datasets.MNIST('./', download=True, train=True)\n",
    "MNIST_test = torchvision.datasets.MNIST('./', download=True, train=False)"
   ]
  },
  {
   "cell_type": "code",
   "execution_count": 4,
   "metadata": {
    "colab": {
     "base_uri": "https://localhost:8080/"
    },
    "id": "3df21720",
    "outputId": "5c4516e9-1a67-4c9c-8caa-e098efd9b0e8"
   },
   "outputs": [
    {
     "name": "stderr",
     "output_type": "stream",
     "text": [
      "C:\\Users\\user\\anaconda3\\lib\\site-packages\\torchvision\\datasets\\mnist.py:75: UserWarning: train_data has been renamed data\n",
      "  warnings.warn(\"train_data has been renamed data\")\n",
      "C:\\Users\\user\\anaconda3\\lib\\site-packages\\torchvision\\datasets\\mnist.py:65: UserWarning: train_labels has been renamed targets\n",
      "  warnings.warn(\"train_labels has been renamed targets\")\n"
     ]
    }
   ],
   "source": [
    "X_train = MNIST_train.train_data\n",
    "y_train = MNIST_train.train_labels"
   ]
  },
  {
   "cell_type": "code",
   "execution_count": 5,
   "metadata": {
    "id": "9e902f80"
   },
   "outputs": [],
   "source": [
    "X_train = X_train.float().numpy()"
   ]
  },
  {
   "cell_type": "code",
   "execution_count": 6,
   "metadata": {
    "colab": {
     "base_uri": "https://localhost:8080/"
    },
    "id": "12fb54a0",
    "outputId": "4254a6aa-0d75-4852-e9cc-8919f127e784"
   },
   "outputs": [
    {
     "data": {
      "text/plain": [
       "(60000, 28, 28)"
      ]
     },
     "execution_count": 6,
     "metadata": {},
     "output_type": "execute_result"
    }
   ],
   "source": [
    "X_train.shape"
   ]
  },
  {
   "cell_type": "code",
   "execution_count": 7,
   "metadata": {
    "colab": {
     "base_uri": "https://localhost:8080/"
    },
    "id": "d98501ba",
    "outputId": "83e5780b-e4b0-44a2-c433-5e7e3cfbcafb"
   },
   "outputs": [
    {
     "data": {
      "text/plain": [
       "11"
      ]
     },
     "execution_count": 7,
     "metadata": {},
     "output_type": "execute_result"
    }
   ],
   "source": [
    "x = np.array([1, 2])\n",
    "y = np.array([3, 4])\n",
    "np.matmul(x, y)"
   ]
  },
  {
   "cell_type": "markdown",
   "metadata": {
    "id": "271e90de"
   },
   "source": [
    "# Выбор варианта"
   ]
  },
  {
   "cell_type": "markdown",
   "metadata": {
    "id": "4e66c53f"
   },
   "source": [
    "Всего 60000 картинок, каждый выбирает картинки из диапазона $[6000(n-1)+1,6000\\cdot n]$ где $n$- номер по списку.\n",
    "Постройте гистограмму для ответов (y_train) и убедитесь, что у вас нет дисбаланса классов. Если есть дисбаланс, устраните его удалением соответствующего класса или удалением картинок. Порог для преобразования в $\\{0,1\\}$(см. ниже) установите равным:\n",
    "$$\n",
    "thr = 0.45 + (n-1)/100\n",
    "$$"
   ]
  },
  {
   "cell_type": "markdown",
   "metadata": {
    "id": "84ff4019"
   },
   "source": [
    "## Преобразуем данные в нули и единицы."
   ]
  },
  {
   "cell_type": "code",
   "execution_count": 8,
   "metadata": {
    "colab": {
     "base_uri": "https://localhost:8080/",
     "height": 265
    },
    "id": "683c3f71",
    "outputId": "d3774482-db90-4165-d834-cfe6bd2b8a5c"
   },
   "outputs": [
    {
     "data": {
      "image/png": "[encoded data removed]",
      "text/plain": [
       "<Figure size 432x288 with 1 Axes>"
      ]
     },
     "metadata": {
      "needs_background": "light"
     },
     "output_type": "display_data"
    }
   ],
   "source": [
    "plt.imshow(X_train[0, :, :])\n",
    "plt.show()"
   ]
  },
  {
   "cell_type": "code",
   "execution_count": 9,
   "metadata": {
    "id": "ffd30f61"
   },
   "outputs": [],
   "source": [
    "# thr = 0.45 # Номер варианта см. список группы\n",
    "# X_train[X_train>thr] = 1\n",
    "# X_train[X_train<thr] = 0"
   ]
  },
  {
   "cell_type": "markdown",
   "metadata": {
    "id": "42478ff9"
   },
   "source": [
    "## Картинка после преобразования"
   ]
  },
  {
   "cell_type": "code",
   "execution_count": 10,
   "metadata": {
    "colab": {
     "base_uri": "https://localhost:8080/",
     "height": 283
    },
    "id": "c9a05fe2",
    "outputId": "9aa73cbc-d664-4a29-f8d6-a9b6853835ce"
   },
   "outputs": [
    {
     "data": {
      "image/png": "[encoded data removed]",
      "text/plain": [
       "<Figure size 432x288 with 1 Axes>"
      ]
     },
     "metadata": {
      "needs_background": "light"
     },
     "output_type": "display_data"
    },
    {
     "name": "stdout",
     "output_type": "stream",
     "text": [
      "tensor(5)\n"
     ]
    }
   ],
   "source": [
    "plt.imshow(X_train[0, :, :])\n",
    "plt.show()\n",
    "print(y_train[0])"
   ]
  },
  {
   "cell_type": "markdown",
   "metadata": {
    "id": "e33c7ae0"
   },
   "source": [
    "## Применим EM-алгоритм для смеси распределений Бернулли"
   ]
  },
  {
   "cell_type": "markdown",
   "metadata": {
    "id": "1a8c1c6d"
   },
   "source": [
    "Найти выражения для E-шага и M-шага для смеси C штук распределений\n",
    "Бернулли \n",
    "$$\n",
    "p(X\\mid \\theta) = \\prod_{i=1}^D \\sum_{c=1}^C p (x_i|\\mu_c)\\pi_c, \\quad x_i\\in \\mathbf{R}^N,  \\quad \\mu\\in\\mathbf{R}^N\n",
    "$$\n",
    "$$\n",
    "p(z\\mid\\mu_c) = \\prod_{j=1}^N \\mu_{cj}^{z_j}(1-\\mu_{cj})^{1-z_j}, \\quad  z_j\\in\\{0,1\\},\n",
    "$$\n",
    "\n",
    "где параметры модели $\\theta = \\{\\mu_{11},\\dots,\\mu_{1N},\\dots,\\mu_{C1},\\dots,\\mu_{CN}, \\pi_1,\\dots, \\pi_C\\}$. \n",
    "\n",
    "<font color='red'> В отличие от модели на семинаре здесь параметр $\\mu$ это вектор размера $N$ !!! </font>"
   ]
  },
  {
   "cell_type": "markdown",
   "metadata": {
    "id": "bf79c79d"
   },
   "source": [
    "## Задание 1: получить выражения для E-шага"
   ]
  },
  {
   "cell_type": "markdown",
   "metadata": {
    "id": "259765a5"
   },
   "source": [
    "\n",
    "Получить формулы для E-шага. \n",
    "$$\n",
    "q(t_i) = p (t_i\\mid x_i,\\theta)\n",
    "$$\n",
    "$$\n",
    "\\gamma_{i,c} = q(t_i=c) = \\dots\n",
    "$$\n"
   ]
  },
  {
   "cell_type": "markdown",
   "metadata": {
    "id": "cf85823b"
   },
   "source": [
    "<b>Важный трюк 1:</b> при вычислении произведений, можно использовать логарифмирование, при этом, чтобы избежать нулей под логарифмом, можно нули заменять на очень маленькие числа. \n",
    "\n",
    "<b>Важный трюк 2:</b> важно избегать числовых ошибок. В какой-то момент вам может понадобиться вычислить формулу следующего вида (если использовать логарифмирование (см. трюк 1)): $\\frac{e^{y_i}}{\\sum_j e^{y_j}}$, которая называется _softmax_. Когда вы вычисляете показатели степени больших чисел, некоторые числа могут стать бесконечными. Этого можно избежать, разделив числитель и знаменатель на $e^{\\max(y)}$: \n",
    "$$\n",
    "\\frac{e^{y_i-\\max(y)}}{\\sum_j e^{y_j - \\max(y) )}}.\n",
    "$$ \n",
    "После этого преобразования максимальное значение в знаменателе будет равно единице. Все остальные члены будут вносить меньшие значения. Итак, чтобы вычислить нужную формулу, вы сначала вычитаете максимальное значение из каждой компоненты в векторе $\\mathbf{y}$, а затем вычисляете все остальное, как и раньше.\n"
   ]
  },
  {
   "cell_type": "markdown",
   "metadata": {
    "id": "adebf767"
   },
   "source": [
    "## Задание 2: реализовать E-шаг"
   ]
  },
  {
   "cell_type": "code",
   "execution_count": 11,
   "metadata": {
    "id": "d3181ca5"
   },
   "outputs": [],
   "source": [
    "\n",
    "\n",
    "def E_step(X, pi, mu):       \n",
    "    eps = 1e-6\n",
    "    def G_c_i(xi, pc, mc):\n",
    "        return np.matmul(xi, np.log(mc + eps)) + np.matmul((1 - xi), np.log(1 + eps - mc)) + np.log(pc + eps)\n",
    "\n",
    "    \"\"\"\n",
    "    Performs E-step on GMM model\n",
    "    Each input is numpy array:\n",
    "    X: (D x N), data points\n",
    "    pi: (C), mixture component weights \n",
    "    mu: (C x N), mixture component means\n",
    "    \n",
    "    Returns:\n",
    "    gamma: (C x D), probabilities of clusters for objects\n",
    "    \"\"\"\n",
    "    D = X.shape[0] # number of objects\n",
    "    C = pi.shape[0] # number of clusters\n",
    "    N = mu.shape[1] # dimension of each object\n",
    "    #gamma = np.zeros((C, D)) # distribution q(T)\n",
    "    log_g = np.zeros((C, D))\n",
    "    M = np.array([-1e6] * D)\n",
    "\n",
    "    #print('\\tDefine log(g_c_i)')\n",
    "    #log_g = np.array(list(map(lambda c: np.array(list(map(lambda x: G_c_i(x, pi[c[0]], mu[c[0]]), X))), list(enumerate(log_g)))))\n",
    "    log_g = np.add((np.matmul(np.log(mu + eps), X.T ) + np.matmul(np.log(1 + eps - mu), (1 - X.T))).T, np.log(pi + eps)).T\n",
    "    gc.collect()\n",
    "    # for c in range(C):\n",
    "    #     M = np.array(list(map(lambda x: x[1] if x[1] >= log_g[c][x[0]] else log_g[c][x[0]], list(enumerate(M))))) \n",
    "    M = np.amax(log_g, axis = 0)\n",
    "    gc.collect()\n",
    "\n",
    "    \n",
    "\n",
    "    #print('\\tDefine gamma')\n",
    "\n",
    "\n",
    "    \n",
    "    # for i in range(D):\n",
    "    #     gamma[i] = np.exp(log_g.T[i]- M[i])\n",
    "    #     gamma[i] = gamma[i] / (np.sum(gamma[i]) +  eps)\n",
    "\n",
    "    gamma = np.exp(log_g.T - M.reshape(D, 1))\n",
    "    gamma /= (np.sum(gamma, axis = 1) +  eps).reshape(D, 1)\n",
    "\n",
    "    gc.collect()\n",
    "    \n",
    "    #TO DO\n",
    "    return gamma.T"
   ]
  },
  {
   "cell_type": "markdown",
   "metadata": {
    "id": "496916bb"
   },
   "source": [
    "## Задание 3:  получить выражения для M-шаг\n",
    "\n",
    "\n",
    "$$\n",
    "{\\cal L}(\\theta,q) = \\sum_i\\sum_c \\gamma_{i,c}\\left(\\sum_{j=1}^N x_{ij}\\log(\\mu_{cj}) + (1-x_{ij})\\log(1-\\mu_{cj})+ \\log\\pi_c\\right) \\to \\max_{\\theta}\n",
    "$$\n",
    "\n",
    "Составить функцию Лагранжа и получить выражения для $\\theta$."
   ]
  },
  {
   "cell_type": "markdown",
   "metadata": {
    "id": "4167efb8"
   },
   "source": [
    "## Задание 4: реализовать M-шаг"
   ]
  },
  {
   "cell_type": "code",
   "execution_count": 12,
   "metadata": {
    "colab": {
     "base_uri": "https://localhost:8080/"
    },
    "id": "3a6a0821",
    "outputId": "d974602a-ca66-4432-f605-d3290b419c38"
   },
   "outputs": [
    {
     "data": {
      "text/plain": [
       "1"
      ]
     },
     "execution_count": 12,
     "metadata": {},
     "output_type": "execute_result"
    }
   ],
   "source": [
    "np.array([1]).sum()"
   ]
  },
  {
   "cell_type": "code",
   "execution_count": 13,
   "metadata": {
    "id": "0388d07b"
   },
   "outputs": [],
   "source": [
    "def M_step(X, gamma):\n",
    "    \"\"\"\n",
    "    Performs E-step on GMM model\n",
    "    Each input is numpy array:\n",
    "    X: (D x N), data points\n",
    "    gamma: (C x D), probabilities of clusters for objects\n",
    "    Returns:\n",
    "    pi: (C)\n",
    "    mu: (C x N)\n",
    "    \"\"\"\n",
    "    D = X.shape[0] # number of objects\n",
    "    C = gamma.shape[0] # number of clusters\n",
    "    N = X.shape[1] # dimension of each object\n",
    "    eps = 1e-24\n",
    "    #TO DO\n",
    "    # for c in range(C):\n",
    "    #     pi[c] = gamma[c].sum() / (gamma.sum() + eps)\n",
    "    #     for j in range(N):\n",
    "    #         mu[c][j] = (gamma[c] @  X.T[j]) / (gamma[c].sum() + eps)\n",
    "\n",
    "\n",
    "\n",
    "    # g_summ = (np.sum(gamma) + eps)\n",
    "    # for c in range(C):\n",
    "    #     g_c_summ = np.sum(gamma[c])\n",
    "    #     pi[c] = g_c_summ / D#g_summ\n",
    "    #     for j in range(N):\n",
    "    #         mu[c][j] = (np.matmul(gamma[c],  X.T[j])) / (g_c_summ + eps)\n",
    "\n",
    "    sum_c = np.sum(gamma, axis = 1)\n",
    "    pi = sum_c / D\n",
    "    mu = (gamma @ X) / (sum_c + eps).reshape(C, 1)\n",
    "    \n",
    "    gc.collect()\n",
    "    return pi, mu"
   ]
  },
  {
   "cell_type": "markdown",
   "metadata": {
    "id": "3398523a"
   },
   "source": [
    "## Задание 5: получить функцию потерь"
   ]
  },
  {
   "cell_type": "markdown",
   "metadata": {
    "id": "3c0f0219"
   },
   "source": [
    "Наконец, нам нужна функция для отслеживания сходимости. Для этой цели мы будем использовать вариационную нижнюю границу $\\mathcal{L}$. Мы остановим наши итерации EM, когда $\\mathcal{L}$ перестанет сильно изменяться.  Также полезно проверить, что эта функция никогда не уменьшается во время тренировки. Если это так, у вас есть ошибка в вашем коде.\n",
    "\n",
    "<b>Реализуем функцию, которая будет вычислять $\\mathcal{L}$</b> \n",
    "\n",
    "$$\\mathcal{L}(\\theta, q) =\\mathbb{E}_{q(T)}\\log \\frac{p(X,T | \\theta)}{q(T|\\theta)}  =  \\dots$$ "
   ]
  },
  {
   "cell_type": "markdown",
   "metadata": {
    "id": "8f4caad8"
   },
   "source": [
    "## Задание 6: реализовать функцию потерь"
   ]
  },
  {
   "cell_type": "markdown",
   "metadata": {
    "id": "084b936b"
   },
   "source": [
    "Не забываем использовать <b>трюк 1</b>."
   ]
  },
  {
   "cell_type": "markdown",
   "metadata": {
    "id": "c18442f4"
   },
   "source": [
    "\n",
    "$$\n",
    "{\\cal L}(\\theta,q) = \\sum_c\\sum_i \\gamma_{c,i}\\left(\\sum_{j=1}^N x_{ij}\\log(\\mu_{cj}) + (1-x_{ij})\\log(1-\\mu_{cj})\\right)+ \\log\\pi_c \\to \\max_{\\theta}\n",
    "$$\n",
    "\n"
   ]
  },
  {
   "cell_type": "code",
   "execution_count": 14,
   "metadata": {
    "id": "c5d52039"
   },
   "outputs": [],
   "source": [
    "def compute_vlb(X, pi, mu, gamma):\n",
    "    \"\"\"\n",
    "    Each input is numpy array:\n",
    "    X: (D x N), data points\n",
    "    gamma: (C x D), distribution q(T)  \n",
    "    pi: (C)\n",
    "    mu: (C x N)\n",
    "    \n",
    "    Returns value of variational lower bound\n",
    "    \"\"\"\n",
    "    D = X.shape[0] # number of objects\n",
    "    C = gamma.shape[0] # number of clusters\n",
    "    N = X.shape[1] # dimension of each object\n",
    "    eps =1e-24\n",
    "    #TO DO\n",
    "\n",
    "    # loss = 0\n",
    "    # for c in range(C):\n",
    "    #     for i in range(D):\n",
    "    #         sum_ = 0\n",
    "    #         for j in range(N):\n",
    "    #             sum_ += X[i][j] * np.log(mu[c][j] + eps) + (1 - X[i][j]) * np.log(1 - mu[c][j] + eps)\n",
    "\n",
    "    #         loss += sum_+ np.log(pi[c] + eps)\n",
    "    \n",
    " \n",
    "    # for c in range(C):\n",
    "    #     for i in range(D):\n",
    "    #         loss += gamma[c][i] * (np.matmul(X_val[i], np.log(mu_val[c] + eps)) + np.matmul((1 - X_val[i]), np.log(1 + eps - mu_val[c]))) + np.log(pi[c] + eps) \n",
    "    #     loss -= np.sum(gamma[c] @ np.log(gamma[c] + eps))\n",
    "\n",
    "    \n",
    "    loss = np.sum(np.add((gamma * (np.log(mu + eps) @  X.T)).T, np.log(pi + eps)).T + gamma * (np.log(1 + eps - mu) @  (1 - X).T )) - np.sum(gamma * np.log(gamma + eps))\n",
    "    gc.collect()\n",
    "\n",
    "    return np.sum(loss)"
   ]
  },
  {
   "cell_type": "markdown",
   "metadata": {
    "id": "66c07878"
   },
   "source": [
    "## Задание 7: внедрение процедуры обучения"
   ]
  },
  {
   "cell_type": "markdown",
   "metadata": {
    "id": "6263f29b"
   },
   "source": [
    "Теперь, когда у нас есть шаг E, шаг M и VLB, мы можем реализовать тренировочный цикл. Мы будем инициализировать значения $\\pi$, $\\mu$ и $\\Sigma$ некоторыми случайными числами, обучать до тех пор, пока $\\mathcal{L}$ не перестанет меняться, и возвращать полученные точки. Мы также знаем, что алгоритм EM сходится к локальным оптимумам. Чтобы найти лучшие локальные оптимумы, мы перезапустим алгоритм несколько раз с разных (случайных) начальных позиций. Каждое тренировочное испытание должно останавливаться либо при достижении максимального количества итераций, либо когда относительное улучшение становится меньше заданного допуска $$\\left|\\frac{\\mathcal{L}_i-\\mathcal{L}_{i-1}}{\\mathcal {L}_{i-1}}\\right| \\le \\text{rtol}$$.\n",
    "\n",
    "<b>Начальные данные:</b>\n",
    "Параметры $\\pi_c$ можно задавать одинаковыми, при это не забываем, что сумма равна единице.  Параметры $\\mu$ можно моделировать равномерно на отрезке [0.25, 0.75], далее их надо отнормировать.\n",
    "\n",
    "Также в код можно добавить обработку ситуации, когда целевая функция возвращает nan."
   ]
  },
  {
   "cell_type": "code",
   "execution_count": 15,
   "metadata": {
    "id": "542e9d95"
   },
   "outputs": [],
   "source": [
    "def rand_pi(C):\n",
    "    #TO DO\n",
    "    pic = np.random.uniform(0.25, 0.75, size=(C))\n",
    "    return pic / pic.sum()\n",
    "\n",
    "\n",
    "def rand_mu(X, C, N):\n",
    "    #print('\\n', type(X), '\\n', type(C), '\\n', type(N))\n",
    "    mu = np.abs(np.random.uniform(0.25, 0.75, size=(C, N)))\n",
    "    mu /= mu.sum()\n",
    "    # TO DO\n",
    "    return mu\n",
    "\n",
    "\n",
    "\n",
    "def evaluate_EM(X, mu, pi, gamma):\n",
    "    gamma = E_step(X, pi, mu)\n",
    "    return compute_vlb(X, pi, mu, gamma)\n",
    "\n",
    "\n",
    "def train_EM(X, C=10, rtol=1e-3, max_iter=10, restarts=10):\n",
    "    '''\n",
    "    Starts with random initialization *restarts* times\n",
    "    Runs optimization until saturation with *rtol* reached\n",
    "    or *max_iter* iterations were made.\n",
    "    \n",
    "    X: (D, N), data points\n",
    "    C: int, number of clusters\n",
    "    '''\n",
    "\n",
    "    X_train, X_test, _, _ = train_test_split(X, X)\n",
    "\n",
    "    N = X.shape[0] # number of objects\n",
    "    d = X.shape[1] # dimension of each object\n",
    "    print(N, '\\n', d)\n",
    "    best_loss = None\n",
    "    best_pi = None\n",
    "    best_mu = None\n",
    "    best_sigma = None\n",
    "    loss_prev = None\n",
    "    best_test = None\n",
    "    losses = {'train':[], 'test':[]}\n",
    "    \n",
    "    X = X_train\n",
    "\n",
    "    for iter_ in range(restarts):\n",
    "        train_losses = []\n",
    "        test_losses = []\n",
    "        print(f'\\n\\nNew restart {iter_}')\n",
    "        loss = None\n",
    "        curr_rel_loss = None\n",
    "        pi0 = rand_pi(C)\n",
    "        mu0 = rand_mu(X, C, d) \n",
    "        loss = None\n",
    "        for i in range(max_iter):\n",
    "            gc.collect()\n",
    "            pi, mu = pi0, mu0\n",
    "            #print('\\nRun E - step')\n",
    "            gamma = E_step(X, pi, mu)\n",
    "            #print('Run M - step')\n",
    "            pi, mu  = M_step(X, gamma)\n",
    "            #print('Define Loss')\n",
    "            loss = compute_vlb(X, pi, mu, gamma)\n",
    "            if(np.isnan(loss)):\n",
    "                print('Early stopping')\n",
    "                break;\n",
    "            print(f'Step: {i} ', f'Loss {loss:.2f}\\n')\n",
    "            train_losses.append(loss)\n",
    "            test_losses.append(evaluate_EM(X_test, mu, pi, gamma))\n",
    "            pi0 = pi\n",
    "            mu0 = mu\n",
    "            if loss_prev != None:\n",
    "                curr_rel_loss = np.abs(loss_prev - loss)/np.abs(loss_prev)\n",
    "                loss_prev = loss\n",
    "            else:\n",
    "                loss_prev = loss\n",
    "            if curr_rel_loss!=None and curr_rel_loss < rtol:\n",
    "                break\n",
    "\n",
    "        if best_loss!=None:\n",
    "\n",
    "            if (loss_prev>best_loss):\n",
    "                best_loss = loss\n",
    "                best_test = evaluate_EM(X_test, mu, pi, gamma)\n",
    "                best_mu = mu\n",
    "                best_pi = pi\n",
    "                losses['train'] = train_losses\n",
    "                losses['test'] = test_losses\n",
    "        else:\n",
    "            best_loss = loss\n",
    "            best_test = evaluate_EM(X_test, mu, pi, gamma)\n",
    "            best_mu = mu\n",
    "            best_pi = pi\n",
    "            losses['train'] = train_losses\n",
    "            losses['test'] = test_losses\n",
    "    return  losses, best_pi, best_mu, best_test, best_loss\n",
    "\n",
    "\n",
    "\n",
    "    \n"
   ]
  },
  {
   "cell_type": "code",
   "execution_count": 16,
   "metadata": {
    "colab": {
     "base_uri": "https://localhost:8080/"
    },
    "id": "dbdf84ed",
    "outputId": "d34ab5ec-a344-4e95-e43e-98b65f7b6d67"
   },
   "outputs": [
    {
     "name": "stdout",
     "output_type": "stream",
     "text": [
      "Wall time: 0 ns\n"
     ]
    }
   ],
   "source": [
    "%%time\n",
    "#losses, pi, mu = train_EM(X_train_var.reshape(-1, 28*28), restarts= 1, max_iter=10)"
   ]
  },
  {
   "cell_type": "code",
   "execution_count": 17,
   "metadata": {
    "id": "SFOXd4Bf0IuQ"
   },
   "outputs": [],
   "source": [
    "#plt.imshow(mu[0].reshape(28,28))"
   ]
  },
  {
   "cell_type": "markdown",
   "metadata": {
    "id": "16d038e8"
   },
   "source": []
  },
  {
   "cell_type": "markdown",
   "metadata": {
    "id": "545f21a5"
   },
   "source": [
    "## Задание 8\n",
    "\n",
    "Обучить модель и ответить на следующие вопросы.\n",
    "\n",
    "1. Построить графики для всех математических ожиданий в виде цифр (т.е. преобразовать вектора в матрицы) Похожи ли получившиеся средние на цифры? (С=10)\n",
    "2. Построить несколько картинок для цифр из обучающей выборки и соответствующих математических ожиданий на одном графике для одного класса. Проделать это для нескольких классов. Как можно интерпретировать результат?\n",
    "3. Разбить на обучающую и тестовую выборки, и определить оптимальное кол-во кластеров с помощью графиков правдоподобия для обучения и теста. \n",
    "4. Попробовать улучшить результат (варьировать различные параметры), подумать как оценивать качество.\n",
    "5. Написать вывод.\n"
   ]
  },
  {
   "cell_type": "code",
   "execution_count": 18,
   "metadata": {
    "colab": {
     "base_uri": "https://localhost:8080/"
    },
    "id": "39ea4cd7",
    "outputId": "5a133e6b-f2ec-41a2-a360-e10460f8278c"
   },
   "outputs": [
    {
     "data": {
      "text/plain": [
       "(6000, 28, 28)"
      ]
     },
     "execution_count": 18,
     "metadata": {},
     "output_type": "execute_result"
    }
   ],
   "source": [
    "\n",
    "X_train_var = X_train[6000*(n-1): 6000*n]\n",
    "Y_train_var = y_train[6000*(n-1): 6000*n]\n",
    "X_train_var.shape"
   ]
  },
  {
   "cell_type": "code",
   "execution_count": 19,
   "metadata": {
    "id": "43976964"
   },
   "outputs": [],
   "source": [
    "thr = 0.45 + (n - 1) / 100 # Номер варианта см. список группы\n",
    "X_train_var[X_train_var > thr] = 1\n",
    "X_train_var[X_train_var < thr] = 0\n",
    "np.random.shuffle(X_train_var)"
   ]
  },
  {
   "cell_type": "code",
   "execution_count": 20,
   "metadata": {
    "colab": {
     "base_uri": "https://localhost:8080/",
     "height": 531
    },
    "id": "d88547a1",
    "outputId": "b1ac5ef0-1c0f-4b2b-a5ff-d9845a6d3c19"
   },
   "outputs": [
    {
     "data": {
      "image/png": "[encoded data removed]",
      "text/plain": [
       "<Figure size 432x288 with 1 Axes>"
      ]
     },
     "metadata": {
      "needs_background": "light"
     },
     "output_type": "display_data"
    },
    {
     "data": {
      "text/plain": [
       "<AxesSubplot:ylabel='Count'>"
      ]
     },
     "execution_count": 20,
     "metadata": {},
     "output_type": "execute_result"
    },
    {
     "data": {
      "image/png": "[encoded data removed]",
      "text/plain": [
       "<Figure size 432x288 with 1 Axes>"
      ]
     },
     "metadata": {
      "needs_background": "light"
     },
     "output_type": "display_data"
    }
   ],
   "source": [
    "plt.imshow(X_train_var[0])\n",
    "plt.show()\n",
    "sns.histplot(Y_train_var, bins = 10)"
   ]
  },
  {
   "cell_type": "code",
   "execution_count": 21,
   "metadata": {
    "colab": {
     "base_uri": "https://localhost:8080/"
    },
    "id": "44a912e6",
    "outputId": "4cb4ed9e-57f4-45fd-b223-b57be964255d"
   },
   "outputs": [
    {
     "data": {
      "text/plain": [
       "(6000, 784)"
      ]
     },
     "execution_count": 21,
     "metadata": {},
     "output_type": "execute_result"
    }
   ],
   "source": [
    "X_train_var.reshape(-1, 28*28).shape"
   ]
  },
  {
   "cell_type": "code",
   "execution_count": 22,
   "metadata": {
    "colab": {
     "base_uri": "https://localhost:8080/"
    },
    "id": "b2c54240",
    "outputId": "2b91b3d4-47c1-4605-9f2e-bc346d115091"
   },
   "outputs": [
    {
     "name": "stdout",
     "output_type": "stream",
     "text": [
      "6000 \n",
      " 784\n",
      "\n",
      "\n",
      "New restart 0\n",
      "Step: 0  Loss -1123696.19\n",
      "\n",
      "Step: 1  Loss -988076.73\n",
      "\n",
      "Step: 2  Loss -956965.57\n",
      "\n",
      "Step: 3  Loss -942538.27\n",
      "\n",
      "Step: 4  Loss -932775.91\n",
      "\n",
      "Step: 5  Loss -925756.28\n",
      "\n",
      "Step: 6  Loss -921002.32\n",
      "\n",
      "Step: 7  Loss -916579.16\n",
      "\n",
      "Step: 8  Loss -913138.96\n",
      "\n",
      "Step: 9  Loss -910942.78\n",
      "\n",
      "\n",
      "\n",
      "New restart 1\n",
      "Step: 0  Loss -1134669.08\n",
      "\n",
      "Step: 1  Loss -995226.55\n",
      "\n",
      "Step: 2  Loss -961127.10\n",
      "\n",
      "Step: 3  Loss -942610.76\n",
      "\n",
      "Step: 4  Loss -932159.00\n",
      "\n",
      "Step: 5  Loss -925860.63\n",
      "\n",
      "Step: 6  Loss -922285.87\n",
      "\n",
      "Step: 7  Loss -920103.22\n",
      "\n",
      "Step: 8  Loss -918505.81\n",
      "\n",
      "Step: 9  Loss -916602.26\n",
      "\n",
      "\n",
      "\n",
      "New restart 2\n",
      "Step: 0  Loss -1157101.46\n",
      "\n",
      "Step: 1  Loss -981690.29\n",
      "\n",
      "Step: 2  Loss -946678.37\n",
      "\n",
      "Step: 3  Loss -933785.48\n",
      "\n",
      "Step: 4  Loss -927777.13\n",
      "\n",
      "Step: 5  Loss -923663.10\n",
      "\n",
      "Step: 6  Loss -918674.24\n",
      "\n",
      "Step: 7  Loss -913724.80\n",
      "\n",
      "Step: 8  Loss -909950.55\n",
      "\n",
      "Step: 9  Loss -906734.99\n",
      "\n",
      "\n",
      "\n",
      "New restart 3\n",
      "Step: 0  Loss -1113249.74\n",
      "\n",
      "Step: 1  Loss -962316.53\n",
      "\n",
      "Step: 2  Loss -934335.69\n",
      "\n",
      "Step: 3  Loss -919742.75\n",
      "\n",
      "Step: 4  Loss -912607.12\n",
      "\n",
      "Step: 5  Loss -909130.37\n",
      "\n",
      "Step: 6  Loss -906671.13\n",
      "\n",
      "Step: 7  Loss -904767.94\n",
      "\n",
      "Step: 8  Loss -903652.23\n",
      "\n",
      "Step: 9  Loss -902614.40\n",
      "\n",
      "\n",
      "\n",
      "New restart 4\n",
      "Step: 0  Loss -1158056.92\n",
      "\n",
      "Step: 1  Loss -982676.52\n",
      "\n",
      "Step: 2  Loss -945011.14\n",
      "\n",
      "Step: 3  Loss -931706.00\n",
      "\n",
      "Step: 4  Loss -924862.46\n",
      "\n",
      "Step: 5  Loss -919653.03\n",
      "\n"
     ]
    },
    {
     "name": "stderr",
     "output_type": "stream",
     "text": [
      "<ipython-input-14-6332a8d6f5a2>:33: RuntimeWarning: invalid value encountered in log\n",
      "  loss = np.sum(np.add((gamma * (np.log(mu + eps) @  X.T)).T, np.log(pi + eps)).T + gamma * (np.log(1 + eps - mu) @  (1 - X).T )) - np.sum(gamma * np.log(gamma + eps))\n"
     ]
    },
    {
     "name": "stdout",
     "output_type": "stream",
     "text": [
      "Early stopping\n",
      "\n",
      "\n",
      "New restart 5\n",
      "Step: 0  Loss -1148217.35\n",
      "\n",
      "Step: 1  Loss -975680.24\n",
      "\n",
      "Step: 2  Loss -925651.23\n",
      "\n",
      "Step: 3  Loss -910868.84\n",
      "\n",
      "Step: 4  Loss -904920.89\n",
      "\n",
      "Step: 5  Loss -902313.43\n",
      "\n",
      "Step: 6  Loss -901252.64\n",
      "\n",
      "Step: 7  Loss -900466.20\n",
      "\n",
      "\n",
      "\n",
      "New restart 6\n",
      "Step: 0  Loss -1157647.62\n",
      "\n",
      "Step: 1  Loss -973898.58\n",
      "\n",
      "Early stopping\n",
      "\n",
      "\n",
      "New restart 7\n",
      "Step: 0  Loss -1116070.05\n",
      "\n",
      "Step: 1  Loss -949310.64\n",
      "\n",
      "Step: 2  Loss -918052.39\n",
      "\n",
      "Step: 3  Loss -910505.61\n",
      "\n",
      "Step: 4  Loss -908010.54\n",
      "\n",
      "Step: 5  Loss -907006.10\n",
      "\n",
      "Step: 6  Loss -906436.82\n",
      "\n",
      "\n",
      "\n",
      "New restart 8\n",
      "Step: 0  Loss -1126038.51\n",
      "\n",
      "Step: 1  Loss -974933.80\n",
      "\n",
      "Step: 2  Loss -947092.87\n",
      "\n",
      "Step: 3  Loss -933347.91\n",
      "\n",
      "Step: 4  Loss -920975.86\n",
      "\n",
      "Step: 5  Loss -913200.25\n",
      "\n",
      "Step: 6  Loss -907941.11\n",
      "\n",
      "Step: 7  Loss -905431.36\n",
      "\n",
      "Step: 8  Loss -903966.92\n",
      "\n",
      "Step: 9  Loss -903013.94\n",
      "\n",
      "\n",
      "\n",
      "New restart 9\n",
      "Step: 0  Loss -1136750.85\n",
      "\n",
      "Step: 1  Loss -969749.15\n",
      "\n",
      "Step: 2  Loss -930831.73\n",
      "\n",
      "Step: 3  Loss -918009.82\n",
      "\n",
      "Step: 4  Loss -910341.82\n",
      "\n",
      "Step: 5  Loss -905967.43\n",
      "\n",
      "Step: 6  Loss -904006.36\n",
      "\n",
      "Step: 7  Loss -903047.78\n",
      "\n",
      "Step: 8  Loss -902542.94\n",
      "\n",
      "Wall time: 1min 19s\n"
     ]
    }
   ],
   "source": [
    "%%time\n",
    "losses, pi, mu, _, _ = train_EM(X_train_var.reshape(-1, 28*28))#, restarts = 10, max_iter= 10, C = 10, rtol = 1e-6)#, restarts= 100, max_iter = 100, rtol = 1e-6)"
   ]
  },
  {
   "cell_type": "markdown",
   "metadata": {
    "id": "1dec600b"
   },
   "source": [
    "Построим получивщиеся средние значения"
   ]
  },
  {
   "cell_type": "code",
   "execution_count": 23,
   "metadata": {
    "colab": {
     "base_uri": "https://localhost:8080/",
     "height": 1000
    },
    "id": "fff854de",
    "outputId": "c1910e4f-b7be-43b5-cb54-2d57abdd19a6"
   },
   "outputs": [
    {
     "name": "stdout",
     "output_type": "stream",
     "text": [
      "[0.10454249 0.09330249 0.10489461 0.10358436 0.13856594 0.09201362\n",
      " 0.09119317 0.09752748 0.07307416 0.10130069]\n"
     ]
    },
    {
     "data": {
      "image/png": "[encoded data removed]",
      "text/plain": [
       "<Figure size 14400x1440 with 10 Axes>"
      ]
     },
     "metadata": {
      "needs_background": "light"
     },
     "output_type": "display_data"
    }
   ],
   "source": [
    "# mu[mu > thr] = 1\n",
    "# mu[mu < thr] = 0\n",
    "print(pi)\n",
    "fig, ax = plt.subplots(len(mu), 1, figsize = (len(mu) * 20, 20))\n",
    "for i, v in enumerate(mu):\n",
    "    ax[i].imshow(v.reshape(28, 28))"
   ]
  },
  {
   "cell_type": "markdown",
   "metadata": {
    "id": "218d9ec9"
   },
   "source": [
    "Большинство средних значений отчетливо похожи на цифры"
   ]
  },
  {
   "cell_type": "code",
   "execution_count": 24,
   "metadata": {
    "id": "01a51140"
   },
   "outputs": [],
   "source": [
    "def predict_cluster(X, pi, mu):\n",
    "    gamma = E_step(X.reshape(-1, 28*28), pi, mu)\n",
    "    new_pi, new_mu = M_step(X.reshape(-1, 28*28), gamma)\n",
    "    return mu[np.argmax(new_pi)].reshape(28, 28)\n",
    "\n"
   ]
  },
  {
   "cell_type": "markdown",
   "metadata": {
    "id": "a25a953a"
   },
   "source": [
    "Построим средние для нескольких изображений в каждом кластере"
   ]
  },
  {
   "cell_type": "code",
   "execution_count": 25,
   "metadata": {
    "colab": {
     "base_uri": "https://localhost:8080/",
     "height": 1000
    },
    "id": "3d5abfb2",
    "outputId": "4d561f55-2701-470b-96b2-d5d7f0a9e1dd"
   },
   "outputs": [
    {
     "name": "stderr",
     "output_type": "stream",
     "text": [
      "<ipython-input-25-c815aa54f1f3>:10: VisibleDeprecationWarning: Creating an ndarray from ragged nested sequences (which is a list-or-tuple of lists-or-tuples-or ndarrays with different lengths or shapes) is deprecated. If you meant to do this, you must specify 'dtype=object' when creating the ndarray\n",
      "  XY = np.array(list(zip(X_, Y_)))\n"
     ]
    },
    {
     "data": {
      "image/png": "[encoded data removed]",
      "text/plain": [
       "<Figure size 360x1080 with 10 Axes>"
      ]
     },
     "metadata": {
      "needs_background": "light"
     },
     "output_type": "display_data"
    },
    {
     "data": {
      "image/png": "[encoded data removed]",
      "text/plain": [
       "<Figure size 360x1080 with 10 Axes>"
      ]
     },
     "metadata": {
      "needs_background": "light"
     },
     "output_type": "display_data"
    },
    {
     "data": {
      "image/png": "[encoded data removed]",
      "text/plain": [
       "<Figure size 360x1080 with 10 Axes>"
      ]
     },
     "metadata": {
      "needs_background": "light"
     },
     "output_type": "display_data"
    },
    {
     "data": {
      "image/png": "[encoded data removed]",
      "text/plain": [
       "<Figure size 360x1080 with 10 Axes>"
      ]
     },
     "metadata": {
      "needs_background": "light"
     },
     "output_type": "display_data"
    },
    {
     "data": {
      "image/png": "[encoded data removed]",
      "text/plain": [
       "<Figure size 360x1080 with 10 Axes>"
      ]
     },
     "metadata": {
      "needs_background": "light"
     },
     "output_type": "display_data"
    },
    {
     "data": {
      "image/png": "[encoded data removed]",
      "text/plain": [
       "<Figure size 360x1080 with 10 Axes>"
      ]
     },
     "metadata": {
      "needs_background": "light"
     },
     "output_type": "display_data"
    },
    {
     "data": {
      "image/png": "[encoded data removed]",
      "text/plain": [
       "<Figure size 360x1080 with 10 Axes>"
      ]
     },
     "metadata": {
      "needs_background": "light"
     },
     "output_type": "display_data"
    },
    {
     "data": {
      "image/png": "[encoded data removed]",
      "text/plain": [
       "<Figure size 360x1080 with 10 Axes>"
      ]
     },
     "metadata": {
      "needs_background": "light"
     },
     "output_type": "display_data"
    },
    {
     "data": {
      "image/png": "[encoded data removed]",
      "text/plain": [
       "<Figure size 360x1080 with 10 Axes>"
      ]
     },
     "metadata": {
      "needs_background": "light"
     },
     "output_type": "display_data"
    },
    {
     "data": {
      "image/png": "[encoded data removed]",
      "text/plain": [
       "<Figure size 360x1080 with 10 Axes>"
      ]
     },
     "metadata": {
      "needs_background": "light"
     },
     "output_type": "display_data"
    }
   ],
   "source": [
    "%matplotlib inline\n",
    "n_ = 5\n",
    "X_ = X_train[6000*(n_-1): 6000*n_]\n",
    "Y_ = y_train[6000*(n_-1): 6000*n_]\n",
    "\n",
    "\n",
    "X_[X_ > thr] = 1\n",
    "X_[X_ < thr] = 0\n",
    "\n",
    "XY = np.array(list(zip(X_, Y_)))\n",
    "labels = set(Y_.tolist())\n",
    "\n",
    "for l in labels:\n",
    "    X_ = XY[XY.T[1] == l].T[0][:5]\n",
    "    fig, ax = plt.subplots(len(X_), 2, figsize = (5, 3 * len(X_)))\n",
    "    fig.suptitle(f'Number {l}', fontsize=16)\n",
    "    for i, x in enumerate(X_):\n",
    "        pred = predict_cluster(np.array([x.reshape(28*28)]), pi, mu)\n",
    "        ax[i][0].imshow(x)\n",
    "        ax[i][1].imshow(pred)\n",
    "        ax[i][0].set_title('Input')\n",
    "        ax[i][1].set_title('Predict')\n",
    "    plt.show()\n",
    "\n",
    "        \n"
   ]
  },
  {
   "cell_type": "code",
   "execution_count": 26,
   "metadata": {
    "id": "vQq5DTem8DMc"
   },
   "outputs": [],
   "source": [
    "# fig, ax = plt.subplots(len(losses['train']), 1, figsize = (10,15  * len(losses['train'])))\n",
    "# for i, line in enumerate(losses['train']):\n",
    "#     #if(i == 8):\n",
    "        \n",
    "#         ax[i].plot(np.arange(0, len(line)), line, label = 'Train Loss')\n",
    "#         ax[i].plot(np.arange(0, len(line)), losses['test'][i], label = 'Test Loss')\n",
    "#         ax[i].legend(loc = 2)"
   ]
  },
  {
   "cell_type": "markdown",
   "metadata": {
    "id": "0e12285c"
   },
   "source": [
    "Определим оптимальное количество кластеров с помощью разбиения на обучающую выборку и тестовую "
   ]
  },
  {
   "cell_type": "code",
   "execution_count": 27,
   "metadata": {
    "id": "-pk68zLkr7BA"
   },
   "outputs": [],
   "source": [
    "def rand_pi(C):\n",
    "    #TO DO\n",
    "    pic = np.random.uniform(0.25, 0.75, size=(C))\n",
    "    return pic / pic.sum()\n",
    "\n",
    "\n",
    "def rand_mu(X, C, N):\n",
    "    #print('\\n', type(X), '\\n', type(C), '\\n', type(N))\n",
    "    mu = np.abs(np.random.uniform(0.25, 0.75, size=(C, N)))\n",
    "    mu /= mu.sum()\n",
    "    # TO DO\n",
    "    return mu\n",
    "\n",
    "\n",
    "\n",
    "def evaluate_EM(X, mu, pi, gamma):\n",
    "    gamma = E_step(X, pi, mu)\n",
    "    return compute_vlb(X, pi, mu, gamma)\n",
    "\n",
    "\n",
    "def train_EM(X, C=10, rtol=1e-3, max_iter=10, restarts=10):\n",
    "    '''\n",
    "    Starts with random initialization *restarts* times\n",
    "    Runs optimization until saturation with *rtol* reached\n",
    "    or *max_iter* iterations were made.\n",
    "    \n",
    "    X: (D, N), data points\n",
    "    C: int, number of clusters\n",
    "    '''\n",
    "\n",
    "    X_train, X_test, _, _ = train_test_split(X, X)\n",
    "\n",
    "    N = X.shape[0] # number of objects\n",
    "    d = X.shape[1] # dimension of each object\n",
    "    #print(N, '\\n', d)\n",
    "    best_loss = None\n",
    "    best_pi = None\n",
    "    best_mu = None\n",
    "    best_sigma = None\n",
    "    loss_prev = None\n",
    "    best_test = None\n",
    "    losses = {'train':[], 'test':[]}\n",
    "    \n",
    "    X = X_train\n",
    "\n",
    "    for iter_ in range(restarts):\n",
    "        train_losses = []\n",
    "        test_losses = []\n",
    "        #print(f'\\n\\nNew restart {iter_}')\n",
    "        loss = None\n",
    "        curr_rel_loss = None\n",
    "        pi0 = rand_pi(C)\n",
    "        mu0 = rand_mu(X, C, d) \n",
    "        loss = None\n",
    "        for i in range(max_iter):\n",
    "            gc.collect()\n",
    "            pi, mu = pi0, mu0\n",
    "            #print('\\nRun E - step')\n",
    "            gamma = E_step(X, pi, mu)\n",
    "            #print('Run M - step')\n",
    "            pi, mu  = M_step(X, gamma)\n",
    "            #print('Define Loss')\n",
    "            loss = compute_vlb(X, pi, mu, gamma)\n",
    "            if(np.isnan(loss)):\n",
    "                #print('Early stopping')\n",
    "                break;\n",
    "            #print(f'Step: {i} ', f'Loss {loss:.2f}\\n')\n",
    "            train_losses.append(loss)\n",
    "            test_losses.append(evaluate_EM(X_test, mu, pi, gamma))\n",
    "            pi0 = pi\n",
    "            mu0 = mu\n",
    "            if loss_prev != None:\n",
    "                curr_rel_loss = np.abs(loss_prev - loss)/np.abs(loss_prev)\n",
    "                loss_prev = loss\n",
    "            else:\n",
    "                loss_prev = loss\n",
    "            if curr_rel_loss!=None and curr_rel_loss < rtol:\n",
    "                break\n",
    "\n",
    "        if best_loss!=None:\n",
    "\n",
    "            if (loss_prev>best_loss):\n",
    "                best_loss = loss\n",
    "                best_test = evaluate_EM(X_test, mu, pi, gamma)\n",
    "                best_mu = mu\n",
    "                best_pi = pi\n",
    "        else:\n",
    "            best_loss = loss\n",
    "            best_test = evaluate_EM(X_test, mu, pi, gamma)\n",
    "            best_mu = mu\n",
    "            best_pi = pi\n",
    "        losses['train'] = np.concatenate([losses['train'], train_losses])\n",
    "        losses['test'] = np.concatenate([losses['test'], test_losses])\n",
    "    return  losses, best_pi, best_mu, best_test, best_loss\n",
    "\n",
    "\n",
    "\n",
    "    \n"
   ]
  },
  {
   "cell_type": "code",
   "execution_count": 28,
   "metadata": {
    "id": "3qdmCv9LNuqr"
   },
   "outputs": [],
   "source": [
    "def Get_Test_Train_Loss_EM(C):\n",
    "    np.random.seed(42)\n",
    "    losses, _, _, _, _ = train_EM(X_train_var.reshape(-1, 28*28), C = C,  max_iter = 50, restarts= 10, rtol= 1e-6)\n",
    "    return np.amax(np.array(losses['test']).reshape(-1)), np.amax(np.array(losses['train']).reshape(-1))"
   ]
  },
  {
   "cell_type": "code",
   "execution_count": 29,
   "metadata": {
    "id": "tNdf7KQKNuqu"
   },
   "outputs": [
    {
     "name": "stdout",
     "output_type": "stream",
     "text": [
      "Collecting swifter\n",
      "  Downloading swifter-1.1.3.tar.gz (647 kB)\n",
      "Requirement already satisfied: pandas>=1.0.0 in c:\\users\\user\\anaconda3\\lib\\site-packages (from swifter) (1.1.3)\n",
      "Requirement already satisfied: psutil>=5.6.6 in c:\\users\\user\\anaconda3\\lib\\site-packages (from swifter) (5.7.2)\n",
      "Requirement already satisfied: dask[dataframe]>=2.10.0 in c:\\users\\user\\anaconda3\\lib\\site-packages (from swifter) (2.30.0)\n",
      "Requirement already satisfied: tqdm>=4.33.0 in c:\\users\\user\\anaconda3\\lib\\site-packages (from swifter) (4.50.2)\n",
      "Requirement already satisfied: ipywidgets>=7.0.0 in c:\\users\\user\\anaconda3\\lib\\site-packages (from swifter) (7.5.1)\n",
      "Requirement already satisfied: cloudpickle>=0.2.2 in c:\\users\\user\\anaconda3\\lib\\site-packages (from swifter) (1.6.0)\n",
      "Requirement already satisfied: parso>0.4.0 in c:\\users\\user\\anaconda3\\lib\\site-packages (from swifter) (0.7.0)\n",
      "Requirement already satisfied: bleach>=3.1.1 in c:\\users\\user\\anaconda3\\lib\\site-packages (from swifter) (3.2.1)\n",
      "Requirement already satisfied: pytz>=2017.2 in c:\\users\\user\\anaconda3\\lib\\site-packages (from pandas>=1.0.0->swifter) (2020.1)\n",
      "Requirement already satisfied: numpy>=1.15.4 in c:\\users\\user\\anaconda3\\lib\\site-packages (from pandas>=1.0.0->swifter) (1.19.2)\n",
      "Requirement already satisfied: python-dateutil>=2.7.3 in c:\\users\\user\\anaconda3\\lib\\site-packages (from pandas>=1.0.0->swifter) (2.8.1)\n",
      "Requirement already satisfied: pyyaml in c:\\users\\user\\anaconda3\\lib\\site-packages (from dask[dataframe]>=2.10.0->swifter) (5.3.1)\n",
      "Requirement already satisfied: partd>=0.3.10; extra == \"dataframe\" in c:\\users\\user\\anaconda3\\lib\\site-packages (from dask[dataframe]>=2.10.0->swifter) (1.1.0)\n",
      "Requirement already satisfied: fsspec>=0.6.0; extra == \"dataframe\" in c:\\users\\user\\anaconda3\\lib\\site-packages (from dask[dataframe]>=2.10.0->swifter) (0.8.3)\n",
      "Requirement already satisfied: toolz>=0.8.2; extra == \"dataframe\" in c:\\users\\user\\anaconda3\\lib\\site-packages (from dask[dataframe]>=2.10.0->swifter) (0.11.1)\n",
      "Requirement already satisfied: nbformat>=4.2.0 in c:\\users\\user\\anaconda3\\lib\\site-packages (from ipywidgets>=7.0.0->swifter) (5.0.8)\n",
      "Requirement already satisfied: widgetsnbextension~=3.5.0 in c:\\users\\user\\anaconda3\\lib\\site-packages (from ipywidgets>=7.0.0->swifter) (3.5.1)\n",
      "Requirement already satisfied: traitlets>=4.3.1 in c:\\users\\user\\anaconda3\\lib\\site-packages (from ipywidgets>=7.0.0->swifter) (5.0.5)\n",
      "Requirement already satisfied: ipykernel>=4.5.1 in c:\\users\\user\\anaconda3\\lib\\site-packages (from ipywidgets>=7.0.0->swifter) (5.3.4)\n",
      "Requirement already satisfied: ipython>=4.0.0; python_version >= \"3.3\" in c:\\users\\user\\anaconda3\\lib\\site-packages (from ipywidgets>=7.0.0->swifter) (7.19.0)\n",
      "Requirement already satisfied: packaging in c:\\users\\user\\anaconda3\\lib\\site-packages (from bleach>=3.1.1->swifter) (20.4)\n",
      "Requirement already satisfied: webencodings in c:\\users\\user\\anaconda3\\lib\\site-packages (from bleach>=3.1.1->swifter) (0.5.1)\n",
      "Requirement already satisfied: six>=1.9.0 in c:\\users\\user\\anaconda3\\lib\\site-packages (from bleach>=3.1.1->swifter) (1.15.0)\n",
      "Requirement already satisfied: locket in c:\\users\\user\\anaconda3\\lib\\site-packages (from partd>=0.3.10; extra == \"dataframe\"->dask[dataframe]>=2.10.0->swifter) (0.2.0)\n",
      "Requirement already satisfied: jsonschema!=2.5.0,>=2.4 in c:\\users\\user\\anaconda3\\lib\\site-packages (from nbformat>=4.2.0->ipywidgets>=7.0.0->swifter) (3.2.0)\n",
      "Requirement already satisfied: jupyter-core in c:\\users\\user\\anaconda3\\lib\\site-packages (from nbformat>=4.2.0->ipywidgets>=7.0.0->swifter) (4.6.3)\n",
      "Requirement already satisfied: ipython-genutils in c:\\users\\user\\anaconda3\\lib\\site-packages (from nbformat>=4.2.0->ipywidgets>=7.0.0->swifter) (0.2.0)\n",
      "Requirement already satisfied: notebook>=4.4.1 in c:\\users\\user\\anaconda3\\lib\\site-packages (from widgetsnbextension~=3.5.0->ipywidgets>=7.0.0->swifter) (6.1.4)\n",
      "Requirement already satisfied: tornado>=4.2 in c:\\users\\user\\anaconda3\\lib\\site-packages (from ipykernel>=4.5.1->ipywidgets>=7.0.0->swifter) (6.0.4)\n",
      "Requirement already satisfied: jupyter-client in c:\\users\\user\\anaconda3\\lib\\site-packages (from ipykernel>=4.5.1->ipywidgets>=7.0.0->swifter) (6.1.7)\n",
      "Requirement already satisfied: pickleshare in c:\\users\\user\\anaconda3\\lib\\site-packages (from ipython>=4.0.0; python_version >= \"3.3\"->ipywidgets>=7.0.0->swifter) (0.7.5)\n",
      "Requirement already satisfied: backcall in c:\\users\\user\\anaconda3\\lib\\site-packages (from ipython>=4.0.0; python_version >= \"3.3\"->ipywidgets>=7.0.0->swifter) (0.2.0)\n",
      "Requirement already satisfied: colorama; sys_platform == \"win32\" in c:\\users\\user\\anaconda3\\lib\\site-packages (from ipython>=4.0.0; python_version >= \"3.3\"->ipywidgets>=7.0.0->swifter) (0.4.4)\n",
      "Requirement already satisfied: decorator in c:\\users\\user\\anaconda3\\lib\\site-packages (from ipython>=4.0.0; python_version >= \"3.3\"->ipywidgets>=7.0.0->swifter) (4.4.2)\n",
      "Requirement already satisfied: setuptools>=18.5 in c:\\users\\user\\anaconda3\\lib\\site-packages (from ipython>=4.0.0; python_version >= \"3.3\"->ipywidgets>=7.0.0->swifter) (50.3.1.post20201107)\n",
      "Requirement already satisfied: jedi>=0.10 in c:\\users\\user\\anaconda3\\lib\\site-packages (from ipython>=4.0.0; python_version >= \"3.3\"->ipywidgets>=7.0.0->swifter) (0.17.1)\n",
      "Requirement already satisfied: prompt-toolkit!=3.0.0,!=3.0.1,<3.1.0,>=2.0.0 in c:\\users\\user\\anaconda3\\lib\\site-packages (from ipython>=4.0.0; python_version >= \"3.3\"->ipywidgets>=7.0.0->swifter) (3.0.8)\n",
      "Requirement already satisfied: pygments in c:\\users\\user\\anaconda3\\lib\\site-packages (from ipython>=4.0.0; python_version >= \"3.3\"->ipywidgets>=7.0.0->swifter) (2.7.2)\n",
      "Requirement already satisfied: pyparsing>=2.0.2 in c:\\users\\user\\anaconda3\\lib\\site-packages (from packaging->bleach>=3.1.1->swifter) (2.4.7)\n",
      "Requirement already satisfied: pyrsistent>=0.14.0 in c:\\users\\user\\anaconda3\\lib\\site-packages (from jsonschema!=2.5.0,>=2.4->nbformat>=4.2.0->ipywidgets>=7.0.0->swifter) (0.17.3)\n",
      "Requirement already satisfied: attrs>=17.4.0 in c:\\users\\user\\anaconda3\\lib\\site-packages (from jsonschema!=2.5.0,>=2.4->nbformat>=4.2.0->ipywidgets>=7.0.0->swifter) (20.3.0)\n",
      "Requirement already satisfied: pywin32>=1.0; sys_platform == \"win32\" in c:\\users\\user\\anaconda3\\lib\\site-packages (from jupyter-core->nbformat>=4.2.0->ipywidgets>=7.0.0->swifter) (227)\n",
      "Requirement already satisfied: prometheus-client in c:\\users\\user\\anaconda3\\lib\\site-packages (from notebook>=4.4.1->widgetsnbextension~=3.5.0->ipywidgets>=7.0.0->swifter) (0.8.0)\n",
      "Requirement already satisfied: argon2-cffi in c:\\users\\user\\anaconda3\\lib\\site-packages (from notebook>=4.4.1->widgetsnbextension~=3.5.0->ipywidgets>=7.0.0->swifter) (20.1.0)\n",
      "Requirement already satisfied: nbconvert in c:\\users\\user\\anaconda3\\lib\\site-packages (from notebook>=4.4.1->widgetsnbextension~=3.5.0->ipywidgets>=7.0.0->swifter) (6.0.7)\n",
      "Requirement already satisfied: pyzmq>=17 in c:\\users\\user\\anaconda3\\lib\\site-packages (from notebook>=4.4.1->widgetsnbextension~=3.5.0->ipywidgets>=7.0.0->swifter) (19.0.2)\n",
      "Requirement already satisfied: jinja2 in c:\\users\\user\\anaconda3\\lib\\site-packages (from notebook>=4.4.1->widgetsnbextension~=3.5.0->ipywidgets>=7.0.0->swifter) (2.11.2)\n",
      "Requirement already satisfied: terminado>=0.8.3 in c:\\users\\user\\anaconda3\\lib\\site-packages (from notebook>=4.4.1->widgetsnbextension~=3.5.0->ipywidgets>=7.0.0->swifter) (0.9.1)\n",
      "Requirement already satisfied: Send2Trash in c:\\users\\user\\anaconda3\\lib\\site-packages (from notebook>=4.4.1->widgetsnbextension~=3.5.0->ipywidgets>=7.0.0->swifter) (1.5.0)\n",
      "Requirement already satisfied: wcwidth in c:\\users\\user\\anaconda3\\lib\\site-packages (from prompt-toolkit!=3.0.0,!=3.0.1,<3.1.0,>=2.0.0->ipython>=4.0.0; python_version >= \"3.3\"->ipywidgets>=7.0.0->swifter) (0.2.5)\n",
      "Requirement already satisfied: cffi>=1.0.0 in c:\\users\\user\\anaconda3\\lib\\site-packages (from argon2-cffi->notebook>=4.4.1->widgetsnbextension~=3.5.0->ipywidgets>=7.0.0->swifter) (1.14.3)\n",
      "Requirement already satisfied: mistune<2,>=0.8.1 in c:\\users\\user\\anaconda3\\lib\\site-packages (from nbconvert->notebook>=4.4.1->widgetsnbextension~=3.5.0->ipywidgets>=7.0.0->swifter) (0.8.4)\n",
      "Requirement already satisfied: entrypoints>=0.2.2 in c:\\users\\user\\anaconda3\\lib\\site-packages (from nbconvert->notebook>=4.4.1->widgetsnbextension~=3.5.0->ipywidgets>=7.0.0->swifter) (0.3)\n",
      "Requirement already satisfied: defusedxml in c:\\users\\user\\anaconda3\\lib\\site-packages (from nbconvert->notebook>=4.4.1->widgetsnbextension~=3.5.0->ipywidgets>=7.0.0->swifter) (0.6.0)\n",
      "Requirement already satisfied: jupyterlab-pygments in c:\\users\\user\\anaconda3\\lib\\site-packages (from nbconvert->notebook>=4.4.1->widgetsnbextension~=3.5.0->ipywidgets>=7.0.0->swifter) (0.1.2)\n",
      "Requirement already satisfied: testpath in c:\\users\\user\\anaconda3\\lib\\site-packages (from nbconvert->notebook>=4.4.1->widgetsnbextension~=3.5.0->ipywidgets>=7.0.0->swifter) (0.4.4)\n",
      "Requirement already satisfied: pandocfilters>=1.4.1 in c:\\users\\user\\anaconda3\\lib\\site-packages (from nbconvert->notebook>=4.4.1->widgetsnbextension~=3.5.0->ipywidgets>=7.0.0->swifter) (1.4.3)\n",
      "Requirement already satisfied: nbclient<0.6.0,>=0.5.0 in c:\\users\\user\\anaconda3\\lib\\site-packages (from nbconvert->notebook>=4.4.1->widgetsnbextension~=3.5.0->ipywidgets>=7.0.0->swifter) (0.5.1)\n",
      "Requirement already satisfied: MarkupSafe>=0.23 in c:\\users\\user\\anaconda3\\lib\\site-packages (from jinja2->notebook>=4.4.1->widgetsnbextension~=3.5.0->ipywidgets>=7.0.0->swifter) (1.1.1)\n",
      "Requirement already satisfied: pywinpty>=0.5 in c:\\users\\user\\anaconda3\\lib\\site-packages (from terminado>=0.8.3->notebook>=4.4.1->widgetsnbextension~=3.5.0->ipywidgets>=7.0.0->swifter) (0.5.7)\n",
      "Requirement already satisfied: pycparser in c:\\users\\user\\anaconda3\\lib\\site-packages (from cffi>=1.0.0->argon2-cffi->notebook>=4.4.1->widgetsnbextension~=3.5.0->ipywidgets>=7.0.0->swifter) (2.20)\n",
      "Requirement already satisfied: async-generator in c:\\users\\user\\anaconda3\\lib\\site-packages (from nbclient<0.6.0,>=0.5.0->nbconvert->notebook>=4.4.1->widgetsnbextension~=3.5.0->ipywidgets>=7.0.0->swifter) (1.10)\n",
      "Requirement already satisfied: nest-asyncio in c:\\users\\user\\anaconda3\\lib\\site-packages (from nbclient<0.6.0,>=0.5.0->nbconvert->notebook>=4.4.1->widgetsnbextension~=3.5.0->ipywidgets>=7.0.0->swifter) (1.4.2)\n",
      "Building wheels for collected packages: swifter\n",
      "  Building wheel for swifter (setup.py): started\n",
      "  Building wheel for swifter (setup.py): finished with status 'done'\n",
      "  Created wheel for swifter: filename=swifter-1.1.3-py3-none-any.whl size=13068 sha256=1ac57fd6377f9e84eb285389faf33309feb06c8009d5efd4b722e3e44d997ac2\n",
      "  Stored in directory: c:\\users\\user\\appdata\\local\\pip\\cache\\wheels\\eb\\11\\ab\\0b6c21c1ae17d57b6005df3f022fb7a6ce3c769cdaeb35f258\n",
      "Successfully built swifter\n",
      "Installing collected packages: swifter\n",
      "Successfully installed swifter-1.1.3\n"
     ]
    }
   ],
   "source": [
    "!pip install swifter\n",
    "import swifter\n",
    "import itertools\n",
    "import pandas as pd"
   ]
  },
  {
   "cell_type": "code",
   "execution_count": 31,
   "metadata": {
    "colab": {
     "base_uri": "https://localhost:8080/",
     "height": 370,
     "referenced_widgets": [
      "4b85afd075f6414a8176994b4934dbaf",
      "4d35da2a9e694758a9c62cfff08b7b92",
      "62f7dcacfad045a9ab1b261e8e44455d",
      "c263e5ef6c074974b7a547cbf475be18",
      "28e292e02cac433290c666f74f21067f",
      "05b21ba706144243baeba506b9eb8264",
      "12a77cf9c04242bc890256a084048b32",
      "63cf1f9c70bc4a2887795ee531520a52",
      "eb6fe6e931fd43339fa0c5bda742cf76",
      "c7fbaafc58904eefb4cdbd4a3f4afdd8",
      "025db169f4804111809bc14d45d437c6"
     ]
    },
    "id": "c694c381",
    "outputId": "4676a6d2-e9ea-45ce-f6b6-a26ea4854173"
   },
   "outputs": [
    {
     "data": {
      "application/vnd.jupyter.widget-view+json": {
       "model_id": "c7b04b04556f42a68e30ce31c32cd47e",
       "version_major": 2,
       "version_minor": 0
      },
      "text/plain": [
       "HBox(children=(HTML(value='Dask Apply'), FloatProgress(value=0.0, max=7.0), HTML(value='')))"
      ]
     },
     "metadata": {},
     "output_type": "display_data"
    },
    {
     "name": "stdout",
     "output_type": "stream",
     "text": [
      "\n",
      "Wall time: 35min 2s\n"
     ]
    }
   ],
   "source": [
    "%%time\n",
    "C = np.arange(5, 20, 1)\n",
    "df = pd.DataFrame({'C':C})\n",
    "test_losses = []\n",
    "train_losses = []\n",
    "df['Losses'] = df.swifter.apply(lambda x: Get_Test_Train_Loss_EM(x[0]), axis = 1)\n"
   ]
  },
  {
   "cell_type": "code",
   "execution_count": 32,
   "metadata": {
    "colab": {
     "base_uri": "https://localhost:8080/"
    },
    "id": "5j5TuL7hOgz2",
    "outputId": "020f9ef0-5dfa-4567-f0ef-7abeb63d080f"
   },
   "outputs": [
    {
     "data": {
      "text/plain": [
       "0    -302468.339549\n",
       "1    -298657.459197\n",
       "2    -297106.293347\n",
       "3    -297621.904691\n",
       "4    -300173.301726\n",
       "5    -301877.040389\n",
       "6    -303379.791056\n",
       "7    -306149.001576\n",
       "8    -311389.912717\n",
       "9    -312842.688003\n",
       "10   -316670.343380\n",
       "11   -321513.255495\n",
       "12   -326201.688520\n",
       "13   -329524.635624\n",
       "14   -334334.717270\n",
       "Name: Losses, dtype: float64"
      ]
     },
     "execution_count": 32,
     "metadata": {},
     "output_type": "execute_result"
    }
   ],
   "source": [
    "test_losses = df['Losses'].apply(lambda x: x[0])\n",
    "train_losses = df['Losses'].apply(lambda x: x[1])\n",
    "test_losses"
   ]
  },
  {
   "cell_type": "code",
   "execution_count": 33,
   "metadata": {
    "colab": {
     "base_uri": "https://localhost:8080/",
     "height": 290
    },
    "id": "3f1c684b",
    "outputId": "f6936bc1-889b-4a5e-e1d2-89eab56d1564"
   },
   "outputs": [
    {
     "data": {
      "image/png": "[encoded data removed]",
      "text/plain": [
       "<Figure size 432x288 with 1 Axes>"
      ]
     },
     "metadata": {
      "needs_background": "light"
     },
     "output_type": "display_data"
    }
   ],
   "source": [
    "%matplotlib inline\n",
    "plt.plot(C, train_losses, label = 'Train losses')\n",
    "plt.plot(C, test_losses, label = 'Test losses')\n",
    "plt.xlabel('Clusters')\n",
    "plt.xlim\n",
    "plt.ylabel('Loss')\n",
    "plt.show()"
   ]
  },
  {
   "cell_type": "code",
   "execution_count": 34,
   "metadata": {
    "colab": {
     "base_uri": "https://localhost:8080/",
     "height": 616
    },
    "id": "5920c0ee",
    "outputId": "94bdec3f-2b52-4413-98b2-c16e42f2c03b"
   },
   "outputs": [
    {
     "data": {
      "image/png": "[encoded data removed]",
      "text/plain": [
       "<Figure size 1080x720 with 1 Axes>"
      ]
     },
     "metadata": {
      "needs_background": "light"
     },
     "output_type": "display_data"
    }
   ],
   "source": [
    "%matplotlib inline\n",
    "fig, ax = plt.subplots(figsize = (15, 10))\n",
    "plt.plot(C, train_losses, label = 'Train losses')\n",
    "plt.plot(C, test_losses, label = 'Test losses')\n",
    "plt.xlabel('Clusters')\n",
    "plt.xticks(C)\n",
    "plt.xlim(0, 15)\n",
    "plt.ylabel('Loss')\n",
    "plt.axvline(C[np.argmax(test_losses)], color = 'r', label = 'Max Test Loss', linewidth = 5)\n",
    "plt.axvline(C[np.argmax(train_losses)], color = 'yellow', label = 'Max Train Loss')\n",
    "plt.legend()\n",
    "plt.show()"
   ]
  },
  {
   "cell_type": "markdown",
   "metadata": {
    "id": "52d1afa6"
   },
   "source": [
    "Функция ошибки для обучающей и тестовой выборки имеет схожую вогнутую форму с максимумом при 8-ми кластерах.\n",
    "Однако данный выввод является не физичным и скорее подводит к мысли, что нужно как-то усовершенствовать функционал качества. "
   ]
  },
  {
   "cell_type": "markdown",
   "metadata": {
    "id": "4205cc22"
   },
   "source": [
    "# Варьирование параметров.\n",
    "\n",
    "Варьируя количество итераций и порог затухания, постараемся улучшить модель.\n",
    "\n",
    "За функционал качества возьмем так же ошибку на тестовой выборке."
   ]
  },
  {
   "cell_type": "code",
   "execution_count": 35,
   "metadata": {
    "id": "a39h7Xo1dq1I"
   },
   "outputs": [],
   "source": [
    "def rand_pi(C):\n",
    "    #TO DO\n",
    "    pic = np.random.uniform(0.25, 0.75, size=(C))\n",
    "    return pic / pic.sum()\n",
    "\n",
    "\n",
    "def rand_mu(X, C, N):\n",
    "    #print('\\n', type(X), '\\n', type(C), '\\n', type(N))\n",
    "    mu = np.abs(np.random.uniform(0.25, 0.75, size=(C, N)))\n",
    "    mu /= mu.sum()\n",
    "    # TO DO\n",
    "    return mu\n",
    "\n",
    "\n",
    "\n",
    "def evaluate_EM(X, mu, pi, gamma):\n",
    "    gamma = E_step(X, pi, mu)\n",
    "    return compute_vlb(X, pi, mu, gamma)\n",
    "\n",
    "\n",
    "def train_EM(X, C=10, rtol=1e-3, max_iter=10, restarts=10):\n",
    "    '''\n",
    "    Starts with random initialization *restarts* times\n",
    "    Runs optimization until saturation with *rtol* reached\n",
    "    or *max_iter* iterations were made.\n",
    "    \n",
    "    X: (D, N), data points\n",
    "    C: int, number of clusters\n",
    "    '''\n",
    "\n",
    "    X_train, X_test, _, _ = train_test_split(X, X)\n",
    "\n",
    "    N = X.shape[0] # number of objects\n",
    "    d = X.shape[1] # dimension of each object\n",
    "    #print(N, '\\n', d)\n",
    "    best_loss = None\n",
    "    best_pi = None\n",
    "    best_mu = None\n",
    "    best_sigma = None\n",
    "    loss_prev = None\n",
    "    best_test = None\n",
    "    losses = {'train':[], 'test':[]}\n",
    "    \n",
    "    X = X_train\n",
    "\n",
    "    for iter_ in range(restarts):\n",
    "        train_losses = []\n",
    "        test_losses = []\n",
    "        #print(f'\\n\\nNew restart {iter_}')\n",
    "        loss = None\n",
    "        curr_rel_loss = None\n",
    "        pi0 = rand_pi(C)\n",
    "        mu0 = rand_mu(X, C, d) \n",
    "        loss = None\n",
    "        for i in range(max_iter):\n",
    "            gc.collect()\n",
    "            pi, mu = pi0, mu0\n",
    "            #print('\\nRun E - step')\n",
    "            gamma = E_step(X, pi, mu)\n",
    "            #print('Run M - step')\n",
    "            pi, mu  = M_step(X, gamma)\n",
    "            #print('Define Loss')\n",
    "            loss = compute_vlb(X, pi, mu, gamma)\n",
    "            if(np.isnan(loss)):\n",
    "                #print('Early stopping')\n",
    "                break;\n",
    "            #print(f'Step: {i} ', f'Loss {loss:.2f}\\n')\n",
    "            train_losses.append(loss)\n",
    "            test_losses.append(evaluate_EM(X_test, mu, pi, gamma))\n",
    "            pi0 = pi\n",
    "            mu0 = mu\n",
    "            if loss_prev != None:\n",
    "                curr_rel_loss = np.abs(loss_prev - loss)/np.abs(loss_prev)\n",
    "                loss_prev = loss\n",
    "            else:\n",
    "                loss_prev = loss\n",
    "            if curr_rel_loss!=None and curr_rel_loss < rtol:\n",
    "                break\n",
    "\n",
    "        if best_loss!=None:\n",
    "\n",
    "            if (loss_prev>best_loss):\n",
    "                best_loss = loss\n",
    "                best_test = evaluate_EM(X_test, mu, pi, gamma)\n",
    "                best_mu = mu\n",
    "                best_pi = pi\n",
    "        else:\n",
    "            best_loss = loss\n",
    "            best_test = evaluate_EM(X_test, mu, pi, gamma)\n",
    "            best_mu = mu\n",
    "            best_pi = pi\n",
    "        losses['train'] = np.concatenate([losses['train'], train_losses])\n",
    "        losses['test'] = np.concatenate([losses['test'], test_losses])\n",
    "    return  losses, best_pi, best_mu, best_test, best_loss\n",
    "\n",
    "\n",
    "\n",
    "    \n"
   ]
  },
  {
   "cell_type": "code",
   "execution_count": 36,
   "metadata": {
    "id": "MpsQKU13Ms6y"
   },
   "outputs": [],
   "source": [
    "def Get_Test_Loss_EM(iters = 10, rt = 1e-3, C = 10):\n",
    "    np.random.seed(42)\n",
    "    losses, _, _, _, _ = train_EM(X_train_var.reshape(-1, 28*28),  max_iter = iters, rtol= rt, C = C)\n",
    "    return np.amax(np.array(losses['test']).reshape(-1))"
   ]
  },
  {
   "cell_type": "code",
   "execution_count": null,
   "metadata": {
    "id": "f_gI01A6LNFC"
   },
   "outputs": [],
   "source": [
    "!pip install swifter\n",
    "import swifter\n",
    "import itertools\n",
    "import pandas as pd"
   ]
  },
  {
   "cell_type": "code",
   "execution_count": 37,
   "metadata": {
    "colab": {
     "base_uri": "https://localhost:8080/"
    },
    "id": "4t2LXg5gKzuh",
    "outputId": "e2feb342-34be-4b84-964a-714c7482ec76"
   },
   "outputs": [
    {
     "name": "stdout",
     "output_type": "stream",
     "text": [
      "[8, 10, 0.001]\n",
      "[8, 10, 1e-06]\n",
      "[8, 10, 1e-12]\n",
      "[8, 10, 1e-24]\n",
      "[8, 25, 0.001]\n",
      "[8, 25, 1e-06]\n",
      "[8, 25, 1e-12]\n",
      "[8, 25, 1e-24]\n",
      "[8, 50, 0.001]\n",
      "[8, 50, 1e-06]\n",
      "[8, 50, 1e-12]\n",
      "[8, 50, 1e-24]\n",
      "[10, 10, 0.001]\n",
      "[10, 10, 1e-06]\n",
      "[10, 10, 1e-12]\n",
      "[10, 10, 1e-24]\n",
      "[10, 25, 0.001]\n",
      "[10, 25, 1e-06]\n",
      "[10, 25, 1e-12]\n",
      "[10, 25, 1e-24]\n",
      "[10, 50, 0.001]\n",
      "[10, 50, 1e-06]\n",
      "[10, 50, 1e-12]\n",
      "[10, 50, 1e-24]\n",
      "[15, 10, 0.001]\n",
      "[15, 10, 1e-06]\n",
      "[15, 10, 1e-12]\n",
      "[15, 10, 1e-24]\n",
      "[15, 25, 0.001]\n",
      "[15, 25, 1e-06]\n",
      "[15, 25, 1e-12]\n",
      "[15, 25, 1e-24]\n",
      "[15, 50, 0.001]\n",
      "[15, 50, 1e-06]\n",
      "[15, 50, 1e-12]\n",
      "[15, 50, 1e-24]\n",
      "[20, 10, 0.001]\n",
      "[20, 10, 1e-06]\n",
      "[20, 10, 1e-12]\n",
      "[20, 10, 1e-24]\n",
      "[20, 25, 0.001]\n",
      "[20, 25, 1e-06]\n",
      "[20, 25, 1e-12]\n",
      "[20, 25, 1e-24]\n",
      "[20, 50, 0.001]\n",
      "[20, 50, 1e-06]\n",
      "[20, 50, 1e-12]\n",
      "[20, 50, 1e-24]\n"
     ]
    }
   ],
   "source": [
    "parameters = {'max_iter':[10, 25, 50]\n",
    "              , 'rtol':[1e-3, 1e-6, 1e-12, 1e-24]\n",
    "              , 'C':[8, 10, 15, 20]}\n",
    "df = pd.DataFrame({'C':[], 'max_iter':[], 'rtol':[]})\n",
    "for i in itertools.product(parameters['C'], parameters['max_iter'], parameters['rtol']):\n",
    "           print(list(i))\n",
    "           df.loc[df.shape[0]] = i"
   ]
  },
  {
   "cell_type": "code",
   "execution_count": 38,
   "metadata": {
    "colab": {
     "base_uri": "https://localhost:8080/",
     "height": 370,
     "referenced_widgets": [
      "1c25c6ab24d1490aa606ef79a72463c5",
      "4efc4e12a5984a6794fecc7a3f5c484a",
      "f75aac4d51d04c9ab55c31c4c569974a",
      "6416c9eafdd94bc594ac4187d34081da",
      "dc3cf00246904c66b815eb7ea68446f2",
      "045ce8b9cef74536becd641a8b5d9bdf",
      "3e9ada95a33047ce969d4fbb73941f95",
      "46fa886fd4d84f6fb151bc60341f80d5",
      "4a6c3698b9b4458694b0ae522a512527",
      "fea3e430513f4a6ab8d75a9807d94c1e",
      "914192c0f5bf4e969c7624b5a1b76a26"
     ]
    },
    "id": "tSvSUWrbNISu",
    "outputId": "bf5b4d71-2a93-430d-a797-52b6e99fdc8a"
   },
   "outputs": [
    {
     "data": {
      "application/vnd.jupyter.widget-view+json": {
       "model_id": "cb6479b721294740b991d6c2572f4aa3",
       "version_major": 2,
       "version_minor": 0
      },
      "text/plain": [
       "HBox(children=(HTML(value='Dask Apply'), FloatProgress(value=0.0, max=8.0), HTML(value='')))"
      ]
     },
     "metadata": {},
     "output_type": "display_data"
    },
    {
     "name": "stdout",
     "output_type": "stream",
     "text": [
      "\n",
      "Wall time: 50min 9s\n"
     ]
    },
    {
     "data": {
      "text/html": [
       "<div>\n",
       "<style scoped>\n",
       "    .dataframe tbody tr th:only-of-type {\n",
       "        vertical-align: middle;\n",
       "    }\n",
       "\n",
       "    .dataframe tbody tr th {\n",
       "        vertical-align: top;\n",
       "    }\n",
       "\n",
       "    .dataframe thead th {\n",
       "        text-align: right;\n",
       "    }\n",
       "</style>\n",
       "<table border=\"1\" class=\"dataframe\">\n",
       "  <thead>\n",
       "    <tr style=\"text-align: right;\">\n",
       "      <th></th>\n",
       "      <th>C</th>\n",
       "      <th>max_iter</th>\n",
       "      <th>rtol</th>\n",
       "      <th>loss</th>\n",
       "    </tr>\n",
       "  </thead>\n",
       "  <tbody>\n",
       "    <tr>\n",
       "      <th>9</th>\n",
       "      <td>8.0</td>\n",
       "      <td>50.0</td>\n",
       "      <td>1.000000e-06</td>\n",
       "      <td>-297621.904691</td>\n",
       "    </tr>\n",
       "    <tr>\n",
       "      <th>10</th>\n",
       "      <td>8.0</td>\n",
       "      <td>50.0</td>\n",
       "      <td>1.000000e-12</td>\n",
       "      <td>-297621.904691</td>\n",
       "    </tr>\n",
       "    <tr>\n",
       "      <th>11</th>\n",
       "      <td>8.0</td>\n",
       "      <td>50.0</td>\n",
       "      <td>1.000000e-24</td>\n",
       "      <td>-297621.904691</td>\n",
       "    </tr>\n",
       "    <tr>\n",
       "      <th>5</th>\n",
       "      <td>8.0</td>\n",
       "      <td>25.0</td>\n",
       "      <td>1.000000e-06</td>\n",
       "      <td>-297621.904691</td>\n",
       "    </tr>\n",
       "    <tr>\n",
       "      <th>6</th>\n",
       "      <td>8.0</td>\n",
       "      <td>25.0</td>\n",
       "      <td>1.000000e-12</td>\n",
       "      <td>-297621.904691</td>\n",
       "    </tr>\n",
       "  </tbody>\n",
       "</table>\n",
       "</div>"
      ],
      "text/plain": [
       "      C  max_iter          rtol           loss\n",
       "9   8.0      50.0  1.000000e-06 -297621.904691\n",
       "10  8.0      50.0  1.000000e-12 -297621.904691\n",
       "11  8.0      50.0  1.000000e-24 -297621.904691\n",
       "5   8.0      25.0  1.000000e-06 -297621.904691\n",
       "6   8.0      25.0  1.000000e-12 -297621.904691"
      ]
     },
     "execution_count": 38,
     "metadata": {},
     "output_type": "execute_result"
    }
   ],
   "source": [
    "%%time\n",
    "df['loss'] = df.swifter.apply(lambda x: Get_Test_Loss_EM(iters = int(x[1]), rt = x[2], C = int(x[0])), axis = 1)\n",
    "df = df.sort_values('loss', ascending = False)\n",
    "df.head()"
   ]
  },
  {
   "cell_type": "code",
   "execution_count": 39,
   "metadata": {
    "colab": {
     "base_uri": "https://localhost:8080/",
     "height": 206
    },
    "id": "aQOfoRDE_qEm",
    "outputId": "af4457f4-090e-45f2-8029-d78e76a89b20"
   },
   "outputs": [
    {
     "data": {
      "text/html": [
       "<div>\n",
       "<style scoped>\n",
       "    .dataframe tbody tr th:only-of-type {\n",
       "        vertical-align: middle;\n",
       "    }\n",
       "\n",
       "    .dataframe tbody tr th {\n",
       "        vertical-align: top;\n",
       "    }\n",
       "\n",
       "    .dataframe thead th {\n",
       "        text-align: right;\n",
       "    }\n",
       "</style>\n",
       "<table border=\"1\" class=\"dataframe\">\n",
       "  <thead>\n",
       "    <tr style=\"text-align: right;\">\n",
       "      <th></th>\n",
       "      <th>C</th>\n",
       "      <th>max_iter</th>\n",
       "      <th>rtol</th>\n",
       "      <th>loss</th>\n",
       "    </tr>\n",
       "  </thead>\n",
       "  <tbody>\n",
       "    <tr>\n",
       "      <th>9</th>\n",
       "      <td>8.0</td>\n",
       "      <td>50.0</td>\n",
       "      <td>1.000000e-06</td>\n",
       "      <td>-297621.904691</td>\n",
       "    </tr>\n",
       "    <tr>\n",
       "      <th>6</th>\n",
       "      <td>8.0</td>\n",
       "      <td>25.0</td>\n",
       "      <td>1.000000e-12</td>\n",
       "      <td>-297621.904691</td>\n",
       "    </tr>\n",
       "    <tr>\n",
       "      <th>7</th>\n",
       "      <td>8.0</td>\n",
       "      <td>25.0</td>\n",
       "      <td>1.000000e-24</td>\n",
       "      <td>-297621.904691</td>\n",
       "    </tr>\n",
       "    <tr>\n",
       "      <th>10</th>\n",
       "      <td>8.0</td>\n",
       "      <td>50.0</td>\n",
       "      <td>1.000000e-12</td>\n",
       "      <td>-297621.904691</td>\n",
       "    </tr>\n",
       "    <tr>\n",
       "      <th>5</th>\n",
       "      <td>8.0</td>\n",
       "      <td>25.0</td>\n",
       "      <td>1.000000e-06</td>\n",
       "      <td>-297621.904691</td>\n",
       "    </tr>\n",
       "  </tbody>\n",
       "</table>\n",
       "</div>"
      ],
      "text/plain": [
       "      C  max_iter          rtol           loss\n",
       "9   8.0      50.0  1.000000e-06 -297621.904691\n",
       "6   8.0      25.0  1.000000e-12 -297621.904691\n",
       "7   8.0      25.0  1.000000e-24 -297621.904691\n",
       "10  8.0      50.0  1.000000e-12 -297621.904691\n",
       "5   8.0      25.0  1.000000e-06 -297621.904691"
      ]
     },
     "execution_count": 39,
     "metadata": {},
     "output_type": "execute_result"
    }
   ],
   "source": [
    "df = df.sort_values('loss', ascending = False)\n",
    "df.head()"
   ]
  },
  {
   "cell_type": "code",
   "execution_count": 40,
   "metadata": {
    "colab": {
     "base_uri": "https://localhost:8080/",
     "height": 1000
    },
    "id": "PEBqwSD6Q8lj",
    "outputId": "bd95e308-f2aa-46c7-c5f8-1c628d41f3ca"
   },
   "outputs": [
    {
     "data": {
      "text/html": [
       "<div>\n",
       "<style scoped>\n",
       "    .dataframe tbody tr th:only-of-type {\n",
       "        vertical-align: middle;\n",
       "    }\n",
       "\n",
       "    .dataframe tbody tr th {\n",
       "        vertical-align: top;\n",
       "    }\n",
       "\n",
       "    .dataframe thead th {\n",
       "        text-align: right;\n",
       "    }\n",
       "</style>\n",
       "<table border=\"1\" class=\"dataframe\">\n",
       "  <thead>\n",
       "    <tr style=\"text-align: right;\">\n",
       "      <th></th>\n",
       "      <th>C</th>\n",
       "      <th>max_iter</th>\n",
       "      <th>rtol</th>\n",
       "      <th>loss</th>\n",
       "    </tr>\n",
       "  </thead>\n",
       "  <tbody>\n",
       "    <tr>\n",
       "      <th>9</th>\n",
       "      <td>8.0</td>\n",
       "      <td>50.0</td>\n",
       "      <td>1.000000e-06</td>\n",
       "      <td>-297621.904691</td>\n",
       "    </tr>\n",
       "    <tr>\n",
       "      <th>6</th>\n",
       "      <td>8.0</td>\n",
       "      <td>25.0</td>\n",
       "      <td>1.000000e-12</td>\n",
       "      <td>-297621.904691</td>\n",
       "    </tr>\n",
       "    <tr>\n",
       "      <th>7</th>\n",
       "      <td>8.0</td>\n",
       "      <td>25.0</td>\n",
       "      <td>1.000000e-24</td>\n",
       "      <td>-297621.904691</td>\n",
       "    </tr>\n",
       "    <tr>\n",
       "      <th>10</th>\n",
       "      <td>8.0</td>\n",
       "      <td>50.0</td>\n",
       "      <td>1.000000e-12</td>\n",
       "      <td>-297621.904691</td>\n",
       "    </tr>\n",
       "    <tr>\n",
       "      <th>5</th>\n",
       "      <td>8.0</td>\n",
       "      <td>25.0</td>\n",
       "      <td>1.000000e-06</td>\n",
       "      <td>-297621.904691</td>\n",
       "    </tr>\n",
       "    <tr>\n",
       "      <th>11</th>\n",
       "      <td>8.0</td>\n",
       "      <td>50.0</td>\n",
       "      <td>1.000000e-24</td>\n",
       "      <td>-297621.904691</td>\n",
       "    </tr>\n",
       "    <tr>\n",
       "      <th>4</th>\n",
       "      <td>8.0</td>\n",
       "      <td>25.0</td>\n",
       "      <td>1.000000e-03</td>\n",
       "      <td>-298084.111483</td>\n",
       "    </tr>\n",
       "    <tr>\n",
       "      <th>8</th>\n",
       "      <td>8.0</td>\n",
       "      <td>50.0</td>\n",
       "      <td>1.000000e-03</td>\n",
       "      <td>-298084.111483</td>\n",
       "    </tr>\n",
       "    <tr>\n",
       "      <th>1</th>\n",
       "      <td>8.0</td>\n",
       "      <td>10.0</td>\n",
       "      <td>1.000000e-06</td>\n",
       "      <td>-298332.135518</td>\n",
       "    </tr>\n",
       "    <tr>\n",
       "      <th>0</th>\n",
       "      <td>8.0</td>\n",
       "      <td>10.0</td>\n",
       "      <td>1.000000e-03</td>\n",
       "      <td>-298332.135518</td>\n",
       "    </tr>\n",
       "    <tr>\n",
       "      <th>3</th>\n",
       "      <td>8.0</td>\n",
       "      <td>10.0</td>\n",
       "      <td>1.000000e-24</td>\n",
       "      <td>-298332.135518</td>\n",
       "    </tr>\n",
       "    <tr>\n",
       "      <th>2</th>\n",
       "      <td>8.0</td>\n",
       "      <td>10.0</td>\n",
       "      <td>1.000000e-12</td>\n",
       "      <td>-298332.135518</td>\n",
       "    </tr>\n",
       "    <tr>\n",
       "      <th>21</th>\n",
       "      <td>10.0</td>\n",
       "      <td>50.0</td>\n",
       "      <td>1.000000e-06</td>\n",
       "      <td>-301877.040389</td>\n",
       "    </tr>\n",
       "    <tr>\n",
       "      <th>18</th>\n",
       "      <td>10.0</td>\n",
       "      <td>25.0</td>\n",
       "      <td>1.000000e-12</td>\n",
       "      <td>-301877.040389</td>\n",
       "    </tr>\n",
       "    <tr>\n",
       "      <th>17</th>\n",
       "      <td>10.0</td>\n",
       "      <td>25.0</td>\n",
       "      <td>1.000000e-06</td>\n",
       "      <td>-301877.040389</td>\n",
       "    </tr>\n",
       "    <tr>\n",
       "      <th>22</th>\n",
       "      <td>10.0</td>\n",
       "      <td>50.0</td>\n",
       "      <td>1.000000e-12</td>\n",
       "      <td>-301877.040389</td>\n",
       "    </tr>\n",
       "    <tr>\n",
       "      <th>23</th>\n",
       "      <td>10.0</td>\n",
       "      <td>50.0</td>\n",
       "      <td>1.000000e-24</td>\n",
       "      <td>-301877.040389</td>\n",
       "    </tr>\n",
       "    <tr>\n",
       "      <th>19</th>\n",
       "      <td>10.0</td>\n",
       "      <td>25.0</td>\n",
       "      <td>1.000000e-24</td>\n",
       "      <td>-301877.040389</td>\n",
       "    </tr>\n",
       "    <tr>\n",
       "      <th>20</th>\n",
       "      <td>10.0</td>\n",
       "      <td>50.0</td>\n",
       "      <td>1.000000e-03</td>\n",
       "      <td>-301926.258235</td>\n",
       "    </tr>\n",
       "    <tr>\n",
       "      <th>15</th>\n",
       "      <td>10.0</td>\n",
       "      <td>10.0</td>\n",
       "      <td>1.000000e-24</td>\n",
       "      <td>-301926.258235</td>\n",
       "    </tr>\n",
       "    <tr>\n",
       "      <th>16</th>\n",
       "      <td>10.0</td>\n",
       "      <td>25.0</td>\n",
       "      <td>1.000000e-03</td>\n",
       "      <td>-301926.258235</td>\n",
       "    </tr>\n",
       "    <tr>\n",
       "      <th>14</th>\n",
       "      <td>10.0</td>\n",
       "      <td>10.0</td>\n",
       "      <td>1.000000e-12</td>\n",
       "      <td>-301926.258235</td>\n",
       "    </tr>\n",
       "    <tr>\n",
       "      <th>13</th>\n",
       "      <td>10.0</td>\n",
       "      <td>10.0</td>\n",
       "      <td>1.000000e-06</td>\n",
       "      <td>-301926.258235</td>\n",
       "    </tr>\n",
       "    <tr>\n",
       "      <th>12</th>\n",
       "      <td>10.0</td>\n",
       "      <td>10.0</td>\n",
       "      <td>1.000000e-03</td>\n",
       "      <td>-301926.258235</td>\n",
       "    </tr>\n",
       "    <tr>\n",
       "      <th>33</th>\n",
       "      <td>15.0</td>\n",
       "      <td>50.0</td>\n",
       "      <td>1.000000e-06</td>\n",
       "      <td>-316670.343380</td>\n",
       "    </tr>\n",
       "    <tr>\n",
       "      <th>35</th>\n",
       "      <td>15.0</td>\n",
       "      <td>50.0</td>\n",
       "      <td>1.000000e-24</td>\n",
       "      <td>-316670.343380</td>\n",
       "    </tr>\n",
       "    <tr>\n",
       "      <th>34</th>\n",
       "      <td>15.0</td>\n",
       "      <td>50.0</td>\n",
       "      <td>1.000000e-12</td>\n",
       "      <td>-316670.343380</td>\n",
       "    </tr>\n",
       "    <tr>\n",
       "      <th>32</th>\n",
       "      <td>15.0</td>\n",
       "      <td>50.0</td>\n",
       "      <td>1.000000e-03</td>\n",
       "      <td>-317583.205123</td>\n",
       "    </tr>\n",
       "    <tr>\n",
       "      <th>31</th>\n",
       "      <td>15.0</td>\n",
       "      <td>25.0</td>\n",
       "      <td>1.000000e-24</td>\n",
       "      <td>-317583.205123</td>\n",
       "    </tr>\n",
       "    <tr>\n",
       "      <th>24</th>\n",
       "      <td>15.0</td>\n",
       "      <td>10.0</td>\n",
       "      <td>1.000000e-03</td>\n",
       "      <td>-317583.205123</td>\n",
       "    </tr>\n",
       "    <tr>\n",
       "      <th>29</th>\n",
       "      <td>15.0</td>\n",
       "      <td>25.0</td>\n",
       "      <td>1.000000e-06</td>\n",
       "      <td>-317583.205123</td>\n",
       "    </tr>\n",
       "    <tr>\n",
       "      <th>27</th>\n",
       "      <td>15.0</td>\n",
       "      <td>10.0</td>\n",
       "      <td>1.000000e-24</td>\n",
       "      <td>-317583.205123</td>\n",
       "    </tr>\n",
       "    <tr>\n",
       "      <th>26</th>\n",
       "      <td>15.0</td>\n",
       "      <td>10.0</td>\n",
       "      <td>1.000000e-12</td>\n",
       "      <td>-317583.205123</td>\n",
       "    </tr>\n",
       "    <tr>\n",
       "      <th>25</th>\n",
       "      <td>15.0</td>\n",
       "      <td>10.0</td>\n",
       "      <td>1.000000e-06</td>\n",
       "      <td>-317583.205123</td>\n",
       "    </tr>\n",
       "    <tr>\n",
       "      <th>28</th>\n",
       "      <td>15.0</td>\n",
       "      <td>25.0</td>\n",
       "      <td>1.000000e-03</td>\n",
       "      <td>-317583.205123</td>\n",
       "    </tr>\n",
       "    <tr>\n",
       "      <th>30</th>\n",
       "      <td>15.0</td>\n",
       "      <td>25.0</td>\n",
       "      <td>1.000000e-12</td>\n",
       "      <td>-317583.205123</td>\n",
       "    </tr>\n",
       "    <tr>\n",
       "      <th>41</th>\n",
       "      <td>20.0</td>\n",
       "      <td>25.0</td>\n",
       "      <td>1.000000e-06</td>\n",
       "      <td>-341431.669098</td>\n",
       "    </tr>\n",
       "    <tr>\n",
       "      <th>36</th>\n",
       "      <td>20.0</td>\n",
       "      <td>10.0</td>\n",
       "      <td>1.000000e-03</td>\n",
       "      <td>-341431.669098</td>\n",
       "    </tr>\n",
       "    <tr>\n",
       "      <th>37</th>\n",
       "      <td>20.0</td>\n",
       "      <td>10.0</td>\n",
       "      <td>1.000000e-06</td>\n",
       "      <td>-341431.669098</td>\n",
       "    </tr>\n",
       "    <tr>\n",
       "      <th>38</th>\n",
       "      <td>20.0</td>\n",
       "      <td>10.0</td>\n",
       "      <td>1.000000e-12</td>\n",
       "      <td>-341431.669098</td>\n",
       "    </tr>\n",
       "    <tr>\n",
       "      <th>40</th>\n",
       "      <td>20.0</td>\n",
       "      <td>25.0</td>\n",
       "      <td>1.000000e-03</td>\n",
       "      <td>-341431.669098</td>\n",
       "    </tr>\n",
       "    <tr>\n",
       "      <th>46</th>\n",
       "      <td>20.0</td>\n",
       "      <td>50.0</td>\n",
       "      <td>1.000000e-12</td>\n",
       "      <td>-341431.669098</td>\n",
       "    </tr>\n",
       "    <tr>\n",
       "      <th>39</th>\n",
       "      <td>20.0</td>\n",
       "      <td>10.0</td>\n",
       "      <td>1.000000e-24</td>\n",
       "      <td>-341431.669098</td>\n",
       "    </tr>\n",
       "    <tr>\n",
       "      <th>43</th>\n",
       "      <td>20.0</td>\n",
       "      <td>25.0</td>\n",
       "      <td>1.000000e-24</td>\n",
       "      <td>-341431.669098</td>\n",
       "    </tr>\n",
       "    <tr>\n",
       "      <th>44</th>\n",
       "      <td>20.0</td>\n",
       "      <td>50.0</td>\n",
       "      <td>1.000000e-03</td>\n",
       "      <td>-341431.669098</td>\n",
       "    </tr>\n",
       "    <tr>\n",
       "      <th>45</th>\n",
       "      <td>20.0</td>\n",
       "      <td>50.0</td>\n",
       "      <td>1.000000e-06</td>\n",
       "      <td>-341431.669098</td>\n",
       "    </tr>\n",
       "    <tr>\n",
       "      <th>42</th>\n",
       "      <td>20.0</td>\n",
       "      <td>25.0</td>\n",
       "      <td>1.000000e-12</td>\n",
       "      <td>-341431.669098</td>\n",
       "    </tr>\n",
       "    <tr>\n",
       "      <th>47</th>\n",
       "      <td>20.0</td>\n",
       "      <td>50.0</td>\n",
       "      <td>1.000000e-24</td>\n",
       "      <td>-341431.669098</td>\n",
       "    </tr>\n",
       "  </tbody>\n",
       "</table>\n",
       "</div>"
      ],
      "text/plain": [
       "       C  max_iter          rtol           loss\n",
       "9    8.0      50.0  1.000000e-06 -297621.904691\n",
       "6    8.0      25.0  1.000000e-12 -297621.904691\n",
       "7    8.0      25.0  1.000000e-24 -297621.904691\n",
       "10   8.0      50.0  1.000000e-12 -297621.904691\n",
       "5    8.0      25.0  1.000000e-06 -297621.904691\n",
       "11   8.0      50.0  1.000000e-24 -297621.904691\n",
       "4    8.0      25.0  1.000000e-03 -298084.111483\n",
       "8    8.0      50.0  1.000000e-03 -298084.111483\n",
       "1    8.0      10.0  1.000000e-06 -298332.135518\n",
       "0    8.0      10.0  1.000000e-03 -298332.135518\n",
       "3    8.0      10.0  1.000000e-24 -298332.135518\n",
       "2    8.0      10.0  1.000000e-12 -298332.135518\n",
       "21  10.0      50.0  1.000000e-06 -301877.040389\n",
       "18  10.0      25.0  1.000000e-12 -301877.040389\n",
       "17  10.0      25.0  1.000000e-06 -301877.040389\n",
       "22  10.0      50.0  1.000000e-12 -301877.040389\n",
       "23  10.0      50.0  1.000000e-24 -301877.040389\n",
       "19  10.0      25.0  1.000000e-24 -301877.040389\n",
       "20  10.0      50.0  1.000000e-03 -301926.258235\n",
       "15  10.0      10.0  1.000000e-24 -301926.258235\n",
       "16  10.0      25.0  1.000000e-03 -301926.258235\n",
       "14  10.0      10.0  1.000000e-12 -301926.258235\n",
       "13  10.0      10.0  1.000000e-06 -301926.258235\n",
       "12  10.0      10.0  1.000000e-03 -301926.258235\n",
       "33  15.0      50.0  1.000000e-06 -316670.343380\n",
       "35  15.0      50.0  1.000000e-24 -316670.343380\n",
       "34  15.0      50.0  1.000000e-12 -316670.343380\n",
       "32  15.0      50.0  1.000000e-03 -317583.205123\n",
       "31  15.0      25.0  1.000000e-24 -317583.205123\n",
       "24  15.0      10.0  1.000000e-03 -317583.205123\n",
       "29  15.0      25.0  1.000000e-06 -317583.205123\n",
       "27  15.0      10.0  1.000000e-24 -317583.205123\n",
       "26  15.0      10.0  1.000000e-12 -317583.205123\n",
       "25  15.0      10.0  1.000000e-06 -317583.205123\n",
       "28  15.0      25.0  1.000000e-03 -317583.205123\n",
       "30  15.0      25.0  1.000000e-12 -317583.205123\n",
       "41  20.0      25.0  1.000000e-06 -341431.669098\n",
       "36  20.0      10.0  1.000000e-03 -341431.669098\n",
       "37  20.0      10.0  1.000000e-06 -341431.669098\n",
       "38  20.0      10.0  1.000000e-12 -341431.669098\n",
       "40  20.0      25.0  1.000000e-03 -341431.669098\n",
       "46  20.0      50.0  1.000000e-12 -341431.669098\n",
       "39  20.0      10.0  1.000000e-24 -341431.669098\n",
       "43  20.0      25.0  1.000000e-24 -341431.669098\n",
       "44  20.0      50.0  1.000000e-03 -341431.669098\n",
       "45  20.0      50.0  1.000000e-06 -341431.669098\n",
       "42  20.0      25.0  1.000000e-12 -341431.669098\n",
       "47  20.0      50.0  1.000000e-24 -341431.669098"
      ]
     },
     "metadata": {},
     "output_type": "display_data"
    }
   ],
   "source": [
    "display(df)"
   ]
  },
  {
   "cell_type": "markdown",
   "metadata": {
    "id": "g8GvpNqprWR9"
   },
   "source": [
    "Как можно судить по таблице, наилучшие результаты достигаются при 50-ти итерациях вне зависимости от порога затухания и снова при 8-ми кластерах.\n",
    "\n"
   ]
  },
  {
   "cell_type": "markdown",
   "metadata": {
    "id": "fp1QiY8C8z9a"
   },
   "source": [
    "# Вывод\n",
    "\n",
    "Метод кластеризации рукописных цифр с помощью EM алгоритма, изученный в данной работе, действительно позволяет достаточно хорошо классифицировать рукописные цифры, хоть и с погрешностями.\n",
    "\n",
    "К сожалению, модель плохо борится с зашумлением изображенний.\n",
    "\n",
    "Возможно, так как поставлена задача обработки изображений, для функционала качества стоит использовать метрики, используемые в сегментациях изображения, такие как: коэффициент Серенса - Дайса (DICE coefficient) - мера подобия двух множеств, пересечение объединения (IoU - Intersection-Over-Union или  Jaccard Index)\n",
    "\n",
    "Для данного варианта задачи, 8 кластеров является наиболее оптималным количеством, если опираться на функцию потерь тестовой выборки.\n",
    "\n",
    "Так же, с помощью варьирования параметров был получен наилучший результат функции максимального правдоподобия на тестовой выборке при 8-ми классах, 50-ти итерациях алгоритма и порогом затухания в 1e-6."
   ]
  },
  {
   "cell_type": "code",
   "execution_count": null,
   "metadata": {
    "id": "5AP2M0B982ZN"
   },
   "outputs": [],
   "source": []
  }
 ],
 "metadata": {
  "colab": {
   "collapsed_sections": [],
   "name": "lab_descr_2022_05_11.ipynb",
   "provenance": []
  },
  "interpreter": {
   "hash": "f44b1d12d67a36c46179d86223962968914b65b7c7ad2cb271a366d124476f64"
  },
  "kernelspec": {
   "display_name": "Python 3",
   "language": "python",
   "name": "python3"
  },
  "language_info": {
   "codemirror_mode": {
    "name": "ipython",
    "version": 3
   },
   "file_extension": ".py",
   "mimetype": "text/x-python",
   "name": "python",
   "nbconvert_exporter": "python",
   "pygments_lexer": "ipython3",
   "version": "3.8.5"
  },
  "widgets": {
   "application/vnd.jupyter.widget-state+json": {
    "025db169f4804111809bc14d45d437c6": {
     "model_module": "@jupyter-widgets/controls",
     "model_module_version": "1.5.0",
     "model_name": "DescriptionStyleModel",
     "state": {
      "_model_module": "@jupyter-widgets/controls",
      "_model_module_version": "1.5.0",
      "_model_name": "DescriptionStyleModel",
      "_view_count": null,
      "_view_module": "@jupyter-widgets/base",
      "_view_module_version": "1.2.0",
      "_view_name": "StyleView",
      "description_width": ""
     }
    },
    "03246717f9bd4a3c84fb43ef48ee56d6": {
     "model_module": "@jupyter-widgets/controls",
     "model_module_version": "1.5.0",
     "model_name": "ProgressStyleModel",
     "state": {
      "_model_module": "@jupyter-widgets/controls",
      "_model_module_version": "1.5.0",
      "_model_name": "ProgressStyleModel",
      "_view_count": null,
      "_view_module": "@jupyter-widgets/base",
      "_view_module_version": "1.2.0",
      "_view_name": "StyleView",
      "bar_color": null,
      "description_width": ""
     }
    },
    "045ce8b9cef74536becd641a8b5d9bdf": {
     "model_module": "@jupyter-widgets/base",
     "model_module_version": "1.2.0",
     "model_name": "LayoutModel",
     "state": {
      "_model_module": "@jupyter-widgets/base",
      "_model_module_version": "1.2.0",
      "_model_name": "LayoutModel",
      "_view_count": null,
      "_view_module": "@jupyter-widgets/base",
      "_view_module_version": "1.2.0",
      "_view_name": "LayoutView",
      "align_content": null,
      "align_items": null,
      "align_self": null,
      "border": null,
      "bottom": null,
      "display": null,
      "flex": null,
      "flex_flow": null,
      "grid_area": null,
      "grid_auto_columns": null,
      "grid_auto_flow": null,
      "grid_auto_rows": null,
      "grid_column": null,
      "grid_gap": null,
      "grid_row": null,
      "grid_template_areas": null,
      "grid_template_columns": null,
      "grid_template_rows": null,
      "height": null,
      "justify_content": null,
      "justify_items": null,
      "left": null,
      "margin": null,
      "max_height": null,
      "max_width": null,
      "min_height": null,
      "min_width": null,
      "object_fit": null,
      "object_position": null,
      "order": null,
      "overflow": null,
      "overflow_x": null,
      "overflow_y": null,
      "padding": null,
      "right": null,
      "top": null,
      "visibility": null,
      "width": null
     }
    },
    "05b21ba706144243baeba506b9eb8264": {
     "model_module": "@jupyter-widgets/base",
     "model_module_version": "1.2.0",
     "model_name": "LayoutModel",
     "state": {
      "_model_module": "@jupyter-widgets/base",
      "_model_module_version": "1.2.0",
      "_model_name": "LayoutModel",
      "_view_count": null,
      "_view_module": "@jupyter-widgets/base",
      "_view_module_version": "1.2.0",
      "_view_name": "LayoutView",
      "align_content": null,
      "align_items": null,
      "align_self": null,
      "border": null,
      "bottom": null,
      "display": null,
      "flex": null,
      "flex_flow": null,
      "grid_area": null,
      "grid_auto_columns": null,
      "grid_auto_flow": null,
      "grid_auto_rows": null,
      "grid_column": null,
      "grid_gap": null,
      "grid_row": null,
      "grid_template_areas": null,
      "grid_template_columns": null,
      "grid_template_rows": null,
      "height": null,
      "justify_content": null,
      "justify_items": null,
      "left": null,
      "margin": null,
      "max_height": null,
      "max_width": null,
      "min_height": null,
      "min_width": null,
      "object_fit": null,
      "object_position": null,
      "order": null,
      "overflow": null,
      "overflow_x": null,
      "overflow_y": null,
      "padding": null,
      "right": null,
      "top": null,
      "visibility": null,
      "width": null
     }
    },
    "0cc64cb51fa24513bea389f69314289d": {
     "model_module": "@jupyter-widgets/controls",
     "model_module_version": "1.5.0",
     "model_name": "HTMLModel",
     "state": {
      "_dom_classes": [],
      "_model_module": "@jupyter-widgets/controls",
      "_model_module_version": "1.5.0",
      "_model_name": "HTMLModel",
      "_view_count": null,
      "_view_module": "@jupyter-widgets/controls",
      "_view_module_version": "1.5.0",
      "_view_name": "HTMLView",
      "description": "",
      "description_tooltip": null,
      "layout": "IPY_MODEL_6523df67253b40418489ea434126d42a",
      "placeholder": "​",
      "style": "IPY_MODEL_64e7486c6a0d4fcdbab268b421f38b40",
      "value": " 9913344/? [00:01&lt;00:00, 11966696.67it/s]"
     }
    },
    "10f8771ca50b45b9911a59b6ed1ebfbe": {
     "model_module": "@jupyter-widgets/controls",
     "model_module_version": "1.5.0",
     "model_name": "DescriptionStyleModel",
     "state": {
      "_model_module": "@jupyter-widgets/controls",
      "_model_module_version": "1.5.0",
      "_model_name": "DescriptionStyleModel",
      "_view_count": null,
      "_view_module": "@jupyter-widgets/base",
      "_view_module_version": "1.2.0",
      "_view_name": "StyleView",
      "description_width": ""
     }
    },
    "12a77cf9c04242bc890256a084048b32": {
     "model_module": "@jupyter-widgets/controls",
     "model_module_version": "1.5.0",
     "model_name": "DescriptionStyleModel",
     "state": {
      "_model_module": "@jupyter-widgets/controls",
      "_model_module_version": "1.5.0",
      "_model_name": "DescriptionStyleModel",
      "_view_count": null,
      "_view_module": "@jupyter-widgets/base",
      "_view_module_version": "1.2.0",
      "_view_name": "StyleView",
      "description_width": ""
     }
    },
    "1b761205ba49442083bfd0d5b0f5d530": {
     "model_module": "@jupyter-widgets/controls",
     "model_module_version": "1.5.0",
     "model_name": "DescriptionStyleModel",
     "state": {
      "_model_module": "@jupyter-widgets/controls",
      "_model_module_version": "1.5.0",
      "_model_name": "DescriptionStyleModel",
      "_view_count": null,
      "_view_module": "@jupyter-widgets/base",
      "_view_module_version": "1.2.0",
      "_view_name": "StyleView",
      "description_width": ""
     }
    },
    "1c25c6ab24d1490aa606ef79a72463c5": {
     "model_module": "@jupyter-widgets/controls",
     "model_module_version": "1.5.0",
     "model_name": "HBoxModel",
     "state": {
      "_dom_classes": [],
      "_model_module": "@jupyter-widgets/controls",
      "_model_module_version": "1.5.0",
      "_model_name": "HBoxModel",
      "_view_count": null,
      "_view_module": "@jupyter-widgets/controls",
      "_view_module_version": "1.5.0",
      "_view_name": "HBoxView",
      "box_style": "",
      "children": [
       "IPY_MODEL_4efc4e12a5984a6794fecc7a3f5c484a",
       "IPY_MODEL_f75aac4d51d04c9ab55c31c4c569974a",
       "IPY_MODEL_6416c9eafdd94bc594ac4187d34081da"
      ],
      "layout": "IPY_MODEL_dc3cf00246904c66b815eb7ea68446f2"
     }
    },
    "22928bb476c04140b5a323097798b931": {
     "model_module": "@jupyter-widgets/base",
     "model_module_version": "1.2.0",
     "model_name": "LayoutModel",
     "state": {
      "_model_module": "@jupyter-widgets/base",
      "_model_module_version": "1.2.0",
      "_model_name": "LayoutModel",
      "_view_count": null,
      "_view_module": "@jupyter-widgets/base",
      "_view_module_version": "1.2.0",
      "_view_name": "LayoutView",
      "align_content": null,
      "align_items": null,
      "align_self": null,
      "border": null,
      "bottom": null,
      "display": null,
      "flex": null,
      "flex_flow": null,
      "grid_area": null,
      "grid_auto_columns": null,
      "grid_auto_flow": null,
      "grid_auto_rows": null,
      "grid_column": null,
      "grid_gap": null,
      "grid_row": null,
      "grid_template_areas": null,
      "grid_template_columns": null,
      "grid_template_rows": null,
      "height": null,
      "justify_content": null,
      "justify_items": null,
      "left": null,
      "margin": null,
      "max_height": null,
      "max_width": null,
      "min_height": null,
      "min_width": null,
      "object_fit": null,
      "object_position": null,
      "order": null,
      "overflow": null,
      "overflow_x": null,
      "overflow_y": null,
      "padding": null,
      "right": null,
      "top": null,
      "visibility": null,
      "width": null
     }
    },
    "28e292e02cac433290c666f74f21067f": {
     "model_module": "@jupyter-widgets/base",
     "model_module_version": "1.2.0",
     "model_name": "LayoutModel",
     "state": {
      "_model_module": "@jupyter-widgets/base",
      "_model_module_version": "1.2.0",
      "_model_name": "LayoutModel",
      "_view_count": null,
      "_view_module": "@jupyter-widgets/base",
      "_view_module_version": "1.2.0",
      "_view_name": "LayoutView",
      "align_content": null,
      "align_items": null,
      "align_self": null,
      "border": null,
      "bottom": null,
      "display": null,
      "flex": null,
      "flex_flow": null,
      "grid_area": null,
      "grid_auto_columns": null,
      "grid_auto_flow": null,
      "grid_auto_rows": null,
      "grid_column": null,
      "grid_gap": null,
      "grid_row": null,
      "grid_template_areas": null,
      "grid_template_columns": null,
      "grid_template_rows": null,
      "height": null,
      "justify_content": null,
      "justify_items": null,
      "left": null,
      "margin": null,
      "max_height": null,
      "max_width": null,
      "min_height": null,
      "min_width": null,
      "object_fit": null,
      "object_position": null,
      "order": null,
      "overflow": null,
      "overflow_x": null,
      "overflow_y": null,
      "padding": null,
      "right": null,
      "top": null,
      "visibility": null,
      "width": null
     }
    },
    "2cb822c33ea64defa7b004c477d5d5e7": {
     "model_module": "@jupyter-widgets/controls",
     "model_module_version": "1.5.0",
     "model_name": "HTMLModel",
     "state": {
      "_dom_classes": [],
      "_model_module": "@jupyter-widgets/controls",
      "_model_module_version": "1.5.0",
      "_model_name": "HTMLModel",
      "_view_count": null,
      "_view_module": "@jupyter-widgets/controls",
      "_view_module_version": "1.5.0",
      "_view_name": "HTMLView",
      "description": "",
      "description_tooltip": null,
      "layout": "IPY_MODEL_5bcfba010f7749c18e2eebd5aa340949",
      "placeholder": "​",
      "style": "IPY_MODEL_e5beceed7a15444794c474c83da1472c",
      "value": " 5120/? [00:00&lt;00:00, 9173.32it/s]"
     }
    },
    "2d35f482d37c4753981885fd2deccd25": {
     "model_module": "@jupyter-widgets/controls",
     "model_module_version": "1.5.0",
     "model_name": "DescriptionStyleModel",
     "state": {
      "_model_module": "@jupyter-widgets/controls",
      "_model_module_version": "1.5.0",
      "_model_name": "DescriptionStyleModel",
      "_view_count": null,
      "_view_module": "@jupyter-widgets/base",
      "_view_module_version": "1.2.0",
      "_view_name": "StyleView",
      "description_width": ""
     }
    },
    "38b40535bce74fb89c8bd029e675fbbc": {
     "model_module": "@jupyter-widgets/controls",
     "model_module_version": "1.5.0",
     "model_name": "ProgressStyleModel",
     "state": {
      "_model_module": "@jupyter-widgets/controls",
      "_model_module_version": "1.5.0",
      "_model_name": "ProgressStyleModel",
      "_view_count": null,
      "_view_module": "@jupyter-widgets/base",
      "_view_module_version": "1.2.0",
      "_view_name": "StyleView",
      "bar_color": null,
      "description_width": ""
     }
    },
    "3cf8da8130fa46698d1e10ace8911a61": {
     "model_module": "@jupyter-widgets/controls",
     "model_module_version": "1.5.0",
     "model_name": "ProgressStyleModel",
     "state": {
      "_model_module": "@jupyter-widgets/controls",
      "_model_module_version": "1.5.0",
      "_model_name": "ProgressStyleModel",
      "_view_count": null,
      "_view_module": "@jupyter-widgets/base",
      "_view_module_version": "1.2.0",
      "_view_name": "StyleView",
      "bar_color": null,
      "description_width": ""
     }
    },
    "3e9ada95a33047ce969d4fbb73941f95": {
     "model_module": "@jupyter-widgets/controls",
     "model_module_version": "1.5.0",
     "model_name": "DescriptionStyleModel",
     "state": {
      "_model_module": "@jupyter-widgets/controls",
      "_model_module_version": "1.5.0",
      "_model_name": "DescriptionStyleModel",
      "_view_count": null,
      "_view_module": "@jupyter-widgets/base",
      "_view_module_version": "1.2.0",
      "_view_name": "StyleView",
      "description_width": ""
     }
    },
    "46fa886fd4d84f6fb151bc60341f80d5": {
     "model_module": "@jupyter-widgets/base",
     "model_module_version": "1.2.0",
     "model_name": "LayoutModel",
     "state": {
      "_model_module": "@jupyter-widgets/base",
      "_model_module_version": "1.2.0",
      "_model_name": "LayoutModel",
      "_view_count": null,
      "_view_module": "@jupyter-widgets/base",
      "_view_module_version": "1.2.0",
      "_view_name": "LayoutView",
      "align_content": null,
      "align_items": null,
      "align_self": null,
      "border": null,
      "bottom": null,
      "display": null,
      "flex": null,
      "flex_flow": null,
      "grid_area": null,
      "grid_auto_columns": null,
      "grid_auto_flow": null,
      "grid_auto_rows": null,
      "grid_column": null,
      "grid_gap": null,
      "grid_row": null,
      "grid_template_areas": null,
      "grid_template_columns": null,
      "grid_template_rows": null,
      "height": null,
      "justify_content": null,
      "justify_items": null,
      "left": null,
      "margin": null,
      "max_height": null,
      "max_width": null,
      "min_height": null,
      "min_width": null,
      "object_fit": null,
      "object_position": null,
      "order": null,
      "overflow": null,
      "overflow_x": null,
      "overflow_y": null,
      "padding": null,
      "right": null,
      "top": null,
      "visibility": null,
      "width": null
     }
    },
    "4a6c3698b9b4458694b0ae522a512527": {
     "model_module": "@jupyter-widgets/controls",
     "model_module_version": "1.5.0",
     "model_name": "ProgressStyleModel",
     "state": {
      "_model_module": "@jupyter-widgets/controls",
      "_model_module_version": "1.5.0",
      "_model_name": "ProgressStyleModel",
      "_view_count": null,
      "_view_module": "@jupyter-widgets/base",
      "_view_module_version": "1.2.0",
      "_view_name": "StyleView",
      "bar_color": null,
      "description_width": ""
     }
    },
    "4b85afd075f6414a8176994b4934dbaf": {
     "model_module": "@jupyter-widgets/controls",
     "model_module_version": "1.5.0",
     "model_name": "HBoxModel",
     "state": {
      "_dom_classes": [],
      "_model_module": "@jupyter-widgets/controls",
      "_model_module_version": "1.5.0",
      "_model_name": "HBoxModel",
      "_view_count": null,
      "_view_module": "@jupyter-widgets/controls",
      "_view_module_version": "1.5.0",
      "_view_name": "HBoxView",
      "box_style": "",
      "children": [
       "IPY_MODEL_4d35da2a9e694758a9c62cfff08b7b92",
       "IPY_MODEL_62f7dcacfad045a9ab1b261e8e44455d",
       "IPY_MODEL_c263e5ef6c074974b7a547cbf475be18"
      ],
      "layout": "IPY_MODEL_28e292e02cac433290c666f74f21067f"
     }
    },
    "4d35da2a9e694758a9c62cfff08b7b92": {
     "model_module": "@jupyter-widgets/controls",
     "model_module_version": "1.5.0",
     "model_name": "HTMLModel",
     "state": {
      "_dom_classes": [],
      "_model_module": "@jupyter-widgets/controls",
      "_model_module_version": "1.5.0",
      "_model_name": "HTMLModel",
      "_view_count": null,
      "_view_module": "@jupyter-widgets/controls",
      "_view_module_version": "1.5.0",
      "_view_name": "HTMLView",
      "description": "",
      "description_tooltip": null,
      "layout": "IPY_MODEL_05b21ba706144243baeba506b9eb8264",
      "placeholder": "​",
      "style": "IPY_MODEL_12a77cf9c04242bc890256a084048b32",
      "value": "Dask Apply: 100%"
     }
    },
    "4dcb77be2dec479ebadf92ad7cdcf3a1": {
     "model_module": "@jupyter-widgets/controls",
     "model_module_version": "1.5.0",
     "model_name": "FloatProgressModel",
     "state": {
      "_dom_classes": [],
      "_model_module": "@jupyter-widgets/controls",
      "_model_module_version": "1.5.0",
      "_model_name": "FloatProgressModel",
      "_view_count": null,
      "_view_module": "@jupyter-widgets/controls",
      "_view_module_version": "1.5.0",
      "_view_name": "ProgressView",
      "bar_style": "success",
      "description": "",
      "description_tooltip": null,
      "layout": "IPY_MODEL_ab852b092e314ebaa064f57d4db4a061",
      "max": 9912422,
      "min": 0,
      "orientation": "horizontal",
      "style": "IPY_MODEL_38b40535bce74fb89c8bd029e675fbbc",
      "value": 9912422
     }
    },
    "4efc4e12a5984a6794fecc7a3f5c484a": {
     "model_module": "@jupyter-widgets/controls",
     "model_module_version": "1.5.0",
     "model_name": "HTMLModel",
     "state": {
      "_dom_classes": [],
      "_model_module": "@jupyter-widgets/controls",
      "_model_module_version": "1.5.0",
      "_model_name": "HTMLModel",
      "_view_count": null,
      "_view_module": "@jupyter-widgets/controls",
      "_view_module_version": "1.5.0",
      "_view_name": "HTMLView",
      "description": "",
      "description_tooltip": null,
      "layout": "IPY_MODEL_045ce8b9cef74536becd641a8b5d9bdf",
      "placeholder": "​",
      "style": "IPY_MODEL_3e9ada95a33047ce969d4fbb73941f95",
      "value": "Dask Apply: 100%"
     }
    },
    "5550d07af775400485a45675c0de2aa5": {
     "model_module": "@jupyter-widgets/base",
     "model_module_version": "1.2.0",
     "model_name": "LayoutModel",
     "state": {
      "_model_module": "@jupyter-widgets/base",
      "_model_module_version": "1.2.0",
      "_model_name": "LayoutModel",
      "_view_count": null,
      "_view_module": "@jupyter-widgets/base",
      "_view_module_version": "1.2.0",
      "_view_name": "LayoutView",
      "align_content": null,
      "align_items": null,
      "align_self": null,
      "border": null,
      "bottom": null,
      "display": null,
      "flex": null,
      "flex_flow": null,
      "grid_area": null,
      "grid_auto_columns": null,
      "grid_auto_flow": null,
      "grid_auto_rows": null,
      "grid_column": null,
      "grid_gap": null,
      "grid_row": null,
      "grid_template_areas": null,
      "grid_template_columns": null,
      "grid_template_rows": null,
      "height": null,
      "justify_content": null,
      "justify_items": null,
      "left": null,
      "margin": null,
      "max_height": null,
      "max_width": null,
      "min_height": null,
      "min_width": null,
      "object_fit": null,
      "object_position": null,
      "order": null,
      "overflow": null,
      "overflow_x": null,
      "overflow_y": null,
      "padding": null,
      "right": null,
      "top": null,
      "visibility": null,
      "width": null
     }
    },
    "580803435ff94475bde32809a0dc9d59": {
     "model_module": "@jupyter-widgets/controls",
     "model_module_version": "1.5.0",
     "model_name": "HTMLModel",
     "state": {
      "_dom_classes": [],
      "_model_module": "@jupyter-widgets/controls",
      "_model_module_version": "1.5.0",
      "_model_name": "HTMLModel",
      "_view_count": null,
      "_view_module": "@jupyter-widgets/controls",
      "_view_module_version": "1.5.0",
      "_view_name": "HTMLView",
      "description": "",
      "description_tooltip": null,
      "layout": "IPY_MODEL_8d21a0330a5d40c6971fbae5a22a451d",
      "placeholder": "​",
      "style": "IPY_MODEL_10f8771ca50b45b9911a59b6ed1ebfbe",
      "value": ""
     }
    },
    "5bcfba010f7749c18e2eebd5aa340949": {
     "model_module": "@jupyter-widgets/base",
     "model_module_version": "1.2.0",
     "model_name": "LayoutModel",
     "state": {
      "_model_module": "@jupyter-widgets/base",
      "_model_module_version": "1.2.0",
      "_model_name": "LayoutModel",
      "_view_count": null,
      "_view_module": "@jupyter-widgets/base",
      "_view_module_version": "1.2.0",
      "_view_name": "LayoutView",
      "align_content": null,
      "align_items": null,
      "align_self": null,
      "border": null,
      "bottom": null,
      "display": null,
      "flex": null,
      "flex_flow": null,
      "grid_area": null,
      "grid_auto_columns": null,
      "grid_auto_flow": null,
      "grid_auto_rows": null,
      "grid_column": null,
      "grid_gap": null,
      "grid_row": null,
      "grid_template_areas": null,
      "grid_template_columns": null,
      "grid_template_rows": null,
      "height": null,
      "justify_content": null,
      "justify_items": null,
      "left": null,
      "margin": null,
      "max_height": null,
      "max_width": null,
      "min_height": null,
      "min_width": null,
      "object_fit": null,
      "object_position": null,
      "order": null,
      "overflow": null,
      "overflow_x": null,
      "overflow_y": null,
      "padding": null,
      "right": null,
      "top": null,
      "visibility": null,
      "width": null
     }
    },
    "61b548916d8548e49bd7fa424d56528c": {
     "model_module": "@jupyter-widgets/controls",
     "model_module_version": "1.5.0",
     "model_name": "HTMLModel",
     "state": {
      "_dom_classes": [],
      "_model_module": "@jupyter-widgets/controls",
      "_model_module_version": "1.5.0",
      "_model_name": "HTMLModel",
      "_view_count": null,
      "_view_module": "@jupyter-widgets/controls",
      "_view_module_version": "1.5.0",
      "_view_name": "HTMLView",
      "description": "",
      "description_tooltip": null,
      "layout": "IPY_MODEL_5550d07af775400485a45675c0de2aa5",
      "placeholder": "​",
      "style": "IPY_MODEL_edba68abad784110aca102b009aec369",
      "value": " 29696/? [00:00&lt;00:00, 318499.61it/s]"
     }
    },
    "62330091f3524320a9160d20ebeaca0f": {
     "model_module": "@jupyter-widgets/controls",
     "model_module_version": "1.5.0",
     "model_name": "DescriptionStyleModel",
     "state": {
      "_model_module": "@jupyter-widgets/controls",
      "_model_module_version": "1.5.0",
      "_model_name": "DescriptionStyleModel",
      "_view_count": null,
      "_view_module": "@jupyter-widgets/base",
      "_view_module_version": "1.2.0",
      "_view_name": "StyleView",
      "description_width": ""
     }
    },
    "62f7dcacfad045a9ab1b261e8e44455d": {
     "model_module": "@jupyter-widgets/controls",
     "model_module_version": "1.5.0",
     "model_name": "FloatProgressModel",
     "state": {
      "_dom_classes": [],
      "_model_module": "@jupyter-widgets/controls",
      "_model_module_version": "1.5.0",
      "_model_name": "FloatProgressModel",
      "_view_count": null,
      "_view_module": "@jupyter-widgets/controls",
      "_view_module_version": "1.5.0",
      "_view_name": "ProgressView",
      "bar_style": "success",
      "description": "",
      "description_tooltip": null,
      "layout": "IPY_MODEL_63cf1f9c70bc4a2887795ee531520a52",
      "max": 4,
      "min": 0,
      "orientation": "horizontal",
      "style": "IPY_MODEL_eb6fe6e931fd43339fa0c5bda742cf76",
      "value": 4
     }
    },
    "63cf1f9c70bc4a2887795ee531520a52": {
     "model_module": "@jupyter-widgets/base",
     "model_module_version": "1.2.0",
     "model_name": "LayoutModel",
     "state": {
      "_model_module": "@jupyter-widgets/base",
      "_model_module_version": "1.2.0",
      "_model_name": "LayoutModel",
      "_view_count": null,
      "_view_module": "@jupyter-widgets/base",
      "_view_module_version": "1.2.0",
      "_view_name": "LayoutView",
      "align_content": null,
      "align_items": null,
      "align_self": null,
      "border": null,
      "bottom": null,
      "display": null,
      "flex": null,
      "flex_flow": null,
      "grid_area": null,
      "grid_auto_columns": null,
      "grid_auto_flow": null,
      "grid_auto_rows": null,
      "grid_column": null,
      "grid_gap": null,
      "grid_row": null,
      "grid_template_areas": null,
      "grid_template_columns": null,
      "grid_template_rows": null,
      "height": null,
      "justify_content": null,
      "justify_items": null,
      "left": null,
      "margin": null,
      "max_height": null,
      "max_width": null,
      "min_height": null,
      "min_width": null,
      "object_fit": null,
      "object_position": null,
      "order": null,
      "overflow": null,
      "overflow_x": null,
      "overflow_y": null,
      "padding": null,
      "right": null,
      "top": null,
      "visibility": null,
      "width": null
     }
    },
    "6416c9eafdd94bc594ac4187d34081da": {
     "model_module": "@jupyter-widgets/controls",
     "model_module_version": "1.5.0",
     "model_name": "HTMLModel",
     "state": {
      "_dom_classes": [],
      "_model_module": "@jupyter-widgets/controls",
      "_model_module_version": "1.5.0",
      "_model_name": "HTMLModel",
      "_view_count": null,
      "_view_module": "@jupyter-widgets/controls",
      "_view_module_version": "1.5.0",
      "_view_name": "HTMLView",
      "description": "",
      "description_tooltip": null,
      "layout": "IPY_MODEL_fea3e430513f4a6ab8d75a9807d94c1e",
      "placeholder": "​",
      "style": "IPY_MODEL_914192c0f5bf4e969c7624b5a1b76a26",
      "value": " 4/4 [1:40:19&lt;00:00, 1075.53s/it]"
     }
    },
    "64e7486c6a0d4fcdbab268b421f38b40": {
     "model_module": "@jupyter-widgets/controls",
     "model_module_version": "1.5.0",
     "model_name": "DescriptionStyleModel",
     "state": {
      "_model_module": "@jupyter-widgets/controls",
      "_model_module_version": "1.5.0",
      "_model_name": "DescriptionStyleModel",
      "_view_count": null,
      "_view_module": "@jupyter-widgets/base",
      "_view_module_version": "1.2.0",
      "_view_name": "StyleView",
      "description_width": ""
     }
    },
    "6523df67253b40418489ea434126d42a": {
     "model_module": "@jupyter-widgets/base",
     "model_module_version": "1.2.0",
     "model_name": "LayoutModel",
     "state": {
      "_model_module": "@jupyter-widgets/base",
      "_model_module_version": "1.2.0",
      "_model_name": "LayoutModel",
      "_view_count": null,
      "_view_module": "@jupyter-widgets/base",
      "_view_module_version": "1.2.0",
      "_view_name": "LayoutView",
      "align_content": null,
      "align_items": null,
      "align_self": null,
      "border": null,
      "bottom": null,
      "display": null,
      "flex": null,
      "flex_flow": null,
      "grid_area": null,
      "grid_auto_columns": null,
      "grid_auto_flow": null,
      "grid_auto_rows": null,
      "grid_column": null,
      "grid_gap": null,
      "grid_row": null,
      "grid_template_areas": null,
      "grid_template_columns": null,
      "grid_template_rows": null,
      "height": null,
      "justify_content": null,
      "justify_items": null,
      "left": null,
      "margin": null,
      "max_height": null,
      "max_width": null,
      "min_height": null,
      "min_width": null,
      "object_fit": null,
      "object_position": null,
      "order": null,
      "overflow": null,
      "overflow_x": null,
      "overflow_y": null,
      "padding": null,
      "right": null,
      "top": null,
      "visibility": null,
      "width": null
     }
    },
    "65e4d13c4f7c4c199ae72c4024aa5289": {
     "model_module": "@jupyter-widgets/controls",
     "model_module_version": "1.5.0",
     "model_name": "HBoxModel",
     "state": {
      "_dom_classes": [],
      "_model_module": "@jupyter-widgets/controls",
      "_model_module_version": "1.5.0",
      "_model_name": "HBoxModel",
      "_view_count": null,
      "_view_module": "@jupyter-widgets/controls",
      "_view_module_version": "1.5.0",
      "_view_name": "HBoxView",
      "box_style": "",
      "children": [
       "IPY_MODEL_f58db2ee98e74244b8b893a3ba3ae326",
       "IPY_MODEL_c34a4c86321642c7b92d160c6111ca5e",
       "IPY_MODEL_61b548916d8548e49bd7fa424d56528c"
      ],
      "layout": "IPY_MODEL_b0ccc6b642134cdd82f7c79d72fe2b33"
     }
    },
    "6b0cc69b5dec47af95ed96e37af02b1b": {
     "model_module": "@jupyter-widgets/base",
     "model_module_version": "1.2.0",
     "model_name": "LayoutModel",
     "state": {
      "_model_module": "@jupyter-widgets/base",
      "_model_module_version": "1.2.0",
      "_model_name": "LayoutModel",
      "_view_count": null,
      "_view_module": "@jupyter-widgets/base",
      "_view_module_version": "1.2.0",
      "_view_name": "LayoutView",
      "align_content": null,
      "align_items": null,
      "align_self": null,
      "border": null,
      "bottom": null,
      "display": null,
      "flex": null,
      "flex_flow": null,
      "grid_area": null,
      "grid_auto_columns": null,
      "grid_auto_flow": null,
      "grid_auto_rows": null,
      "grid_column": null,
      "grid_gap": null,
      "grid_row": null,
      "grid_template_areas": null,
      "grid_template_columns": null,
      "grid_template_rows": null,
      "height": null,
      "justify_content": null,
      "justify_items": null,
      "left": null,
      "margin": null,
      "max_height": null,
      "max_width": null,
      "min_height": null,
      "min_width": null,
      "object_fit": null,
      "object_position": null,
      "order": null,
      "overflow": null,
      "overflow_x": null,
      "overflow_y": null,
      "padding": null,
      "right": null,
      "top": null,
      "visibility": null,
      "width": null
     }
    },
    "6c73e41b11d5460ca15a3598ebee33ed": {
     "model_module": "@jupyter-widgets/base",
     "model_module_version": "1.2.0",
     "model_name": "LayoutModel",
     "state": {
      "_model_module": "@jupyter-widgets/base",
      "_model_module_version": "1.2.0",
      "_model_name": "LayoutModel",
      "_view_count": null,
      "_view_module": "@jupyter-widgets/base",
      "_view_module_version": "1.2.0",
      "_view_name": "LayoutView",
      "align_content": null,
      "align_items": null,
      "align_self": null,
      "border": null,
      "bottom": null,
      "display": null,
      "flex": null,
      "flex_flow": null,
      "grid_area": null,
      "grid_auto_columns": null,
      "grid_auto_flow": null,
      "grid_auto_rows": null,
      "grid_column": null,
      "grid_gap": null,
      "grid_row": null,
      "grid_template_areas": null,
      "grid_template_columns": null,
      "grid_template_rows": null,
      "height": null,
      "justify_content": null,
      "justify_items": null,
      "left": null,
      "margin": null,
      "max_height": null,
      "max_width": null,
      "min_height": null,
      "min_width": null,
      "object_fit": null,
      "object_position": null,
      "order": null,
      "overflow": null,
      "overflow_x": null,
      "overflow_y": null,
      "padding": null,
      "right": null,
      "top": null,
      "visibility": null,
      "width": null
     }
    },
    "6f0ea91a228e4e4a93a636cafd4508a3": {
     "model_module": "@jupyter-widgets/base",
     "model_module_version": "1.2.0",
     "model_name": "LayoutModel",
     "state": {
      "_model_module": "@jupyter-widgets/base",
      "_model_module_version": "1.2.0",
      "_model_name": "LayoutModel",
      "_view_count": null,
      "_view_module": "@jupyter-widgets/base",
      "_view_module_version": "1.2.0",
      "_view_name": "LayoutView",
      "align_content": null,
      "align_items": null,
      "align_self": null,
      "border": null,
      "bottom": null,
      "display": null,
      "flex": null,
      "flex_flow": null,
      "grid_area": null,
      "grid_auto_columns": null,
      "grid_auto_flow": null,
      "grid_auto_rows": null,
      "grid_column": null,
      "grid_gap": null,
      "grid_row": null,
      "grid_template_areas": null,
      "grid_template_columns": null,
      "grid_template_rows": null,
      "height": null,
      "justify_content": null,
      "justify_items": null,
      "left": null,
      "margin": null,
      "max_height": null,
      "max_width": null,
      "min_height": null,
      "min_width": null,
      "object_fit": null,
      "object_position": null,
      "order": null,
      "overflow": null,
      "overflow_x": null,
      "overflow_y": null,
      "padding": null,
      "right": null,
      "top": null,
      "visibility": null,
      "width": null
     }
    },
    "7255a1b7e0b148f8ae8abdd581d9843b": {
     "model_module": "@jupyter-widgets/controls",
     "model_module_version": "1.5.0",
     "model_name": "FloatProgressModel",
     "state": {
      "_dom_classes": [],
      "_model_module": "@jupyter-widgets/controls",
      "_model_module_version": "1.5.0",
      "_model_name": "FloatProgressModel",
      "_view_count": null,
      "_view_module": "@jupyter-widgets/controls",
      "_view_module_version": "1.5.0",
      "_view_name": "ProgressView",
      "bar_style": "success",
      "description": "",
      "description_tooltip": null,
      "layout": "IPY_MODEL_b81ce3cc5b224a86853f2a9a3ae70cb8",
      "max": 1648877,
      "min": 0,
      "orientation": "horizontal",
      "style": "IPY_MODEL_03246717f9bd4a3c84fb43ef48ee56d6",
      "value": 1648877
     }
    },
    "753f20205d2b42ae86a14176da3d6810": {
     "model_module": "@jupyter-widgets/base",
     "model_module_version": "1.2.0",
     "model_name": "LayoutModel",
     "state": {
      "_model_module": "@jupyter-widgets/base",
      "_model_module_version": "1.2.0",
      "_model_name": "LayoutModel",
      "_view_count": null,
      "_view_module": "@jupyter-widgets/base",
      "_view_module_version": "1.2.0",
      "_view_name": "LayoutView",
      "align_content": null,
      "align_items": null,
      "align_self": null,
      "border": null,
      "bottom": null,
      "display": null,
      "flex": null,
      "flex_flow": null,
      "grid_area": null,
      "grid_auto_columns": null,
      "grid_auto_flow": null,
      "grid_auto_rows": null,
      "grid_column": null,
      "grid_gap": null,
      "grid_row": null,
      "grid_template_areas": null,
      "grid_template_columns": null,
      "grid_template_rows": null,
      "height": null,
      "justify_content": null,
      "justify_items": null,
      "left": null,
      "margin": null,
      "max_height": null,
      "max_width": null,
      "min_height": null,
      "min_width": null,
      "object_fit": null,
      "object_position": null,
      "order": null,
      "overflow": null,
      "overflow_x": null,
      "overflow_y": null,
      "padding": null,
      "right": null,
      "top": null,
      "visibility": null,
      "width": null
     }
    },
    "7b874672781940159028785549a343a2": {
     "model_module": "@jupyter-widgets/base",
     "model_module_version": "1.2.0",
     "model_name": "LayoutModel",
     "state": {
      "_model_module": "@jupyter-widgets/base",
      "_model_module_version": "1.2.0",
      "_model_name": "LayoutModel",
      "_view_count": null,
      "_view_module": "@jupyter-widgets/base",
      "_view_module_version": "1.2.0",
      "_view_name": "LayoutView",
      "align_content": null,
      "align_items": null,
      "align_self": null,
      "border": null,
      "bottom": null,
      "display": null,
      "flex": null,
      "flex_flow": null,
      "grid_area": null,
      "grid_auto_columns": null,
      "grid_auto_flow": null,
      "grid_auto_rows": null,
      "grid_column": null,
      "grid_gap": null,
      "grid_row": null,
      "grid_template_areas": null,
      "grid_template_columns": null,
      "grid_template_rows": null,
      "height": null,
      "justify_content": null,
      "justify_items": null,
      "left": null,
      "margin": null,
      "max_height": null,
      "max_width": null,
      "min_height": null,
      "min_width": null,
      "object_fit": null,
      "object_position": null,
      "order": null,
      "overflow": null,
      "overflow_x": null,
      "overflow_y": null,
      "padding": null,
      "right": null,
      "top": null,
      "visibility": null,
      "width": null
     }
    },
    "7d3ae67aee334da1a4d2f41de18cc5d9": {
     "model_module": "@jupyter-widgets/controls",
     "model_module_version": "1.5.0",
     "model_name": "HBoxModel",
     "state": {
      "_dom_classes": [],
      "_model_module": "@jupyter-widgets/controls",
      "_model_module_version": "1.5.0",
      "_model_name": "HBoxModel",
      "_view_count": null,
      "_view_module": "@jupyter-widgets/controls",
      "_view_module_version": "1.5.0",
      "_view_name": "HBoxView",
      "box_style": "",
      "children": [
       "IPY_MODEL_cf09668886bb4726b143c68a546b3985",
       "IPY_MODEL_7255a1b7e0b148f8ae8abdd581d9843b",
       "IPY_MODEL_b8a3ed41e8974b0b9970d02fc26126cf"
      ],
      "layout": "IPY_MODEL_753f20205d2b42ae86a14176da3d6810"
     }
    },
    "7e26456a1f4047e5bf9c2e467f63a687": {
     "model_module": "@jupyter-widgets/base",
     "model_module_version": "1.2.0",
     "model_name": "LayoutModel",
     "state": {
      "_model_module": "@jupyter-widgets/base",
      "_model_module_version": "1.2.0",
      "_model_name": "LayoutModel",
      "_view_count": null,
      "_view_module": "@jupyter-widgets/base",
      "_view_module_version": "1.2.0",
      "_view_name": "LayoutView",
      "align_content": null,
      "align_items": null,
      "align_self": null,
      "border": null,
      "bottom": null,
      "display": null,
      "flex": null,
      "flex_flow": null,
      "grid_area": null,
      "grid_auto_columns": null,
      "grid_auto_flow": null,
      "grid_auto_rows": null,
      "grid_column": null,
      "grid_gap": null,
      "grid_row": null,
      "grid_template_areas": null,
      "grid_template_columns": null,
      "grid_template_rows": null,
      "height": null,
      "justify_content": null,
      "justify_items": null,
      "left": null,
      "margin": null,
      "max_height": null,
      "max_width": null,
      "min_height": null,
      "min_width": null,
      "object_fit": null,
      "object_position": null,
      "order": null,
      "overflow": null,
      "overflow_x": null,
      "overflow_y": null,
      "padding": null,
      "right": null,
      "top": null,
      "visibility": null,
      "width": null
     }
    },
    "8d21a0330a5d40c6971fbae5a22a451d": {
     "model_module": "@jupyter-widgets/base",
     "model_module_version": "1.2.0",
     "model_name": "LayoutModel",
     "state": {
      "_model_module": "@jupyter-widgets/base",
      "_model_module_version": "1.2.0",
      "_model_name": "LayoutModel",
      "_view_count": null,
      "_view_module": "@jupyter-widgets/base",
      "_view_module_version": "1.2.0",
      "_view_name": "LayoutView",
      "align_content": null,
      "align_items": null,
      "align_self": null,
      "border": null,
      "bottom": null,
      "display": null,
      "flex": null,
      "flex_flow": null,
      "grid_area": null,
      "grid_auto_columns": null,
      "grid_auto_flow": null,
      "grid_auto_rows": null,
      "grid_column": null,
      "grid_gap": null,
      "grid_row": null,
      "grid_template_areas": null,
      "grid_template_columns": null,
      "grid_template_rows": null,
      "height": null,
      "justify_content": null,
      "justify_items": null,
      "left": null,
      "margin": null,
      "max_height": null,
      "max_width": null,
      "min_height": null,
      "min_width": null,
      "object_fit": null,
      "object_position": null,
      "order": null,
      "overflow": null,
      "overflow_x": null,
      "overflow_y": null,
      "padding": null,
      "right": null,
      "top": null,
      "visibility": null,
      "width": null
     }
    },
    "8e792860c7ab48aaa7170120419dfa1f": {
     "model_module": "@jupyter-widgets/base",
     "model_module_version": "1.2.0",
     "model_name": "LayoutModel",
     "state": {
      "_model_module": "@jupyter-widgets/base",
      "_model_module_version": "1.2.0",
      "_model_name": "LayoutModel",
      "_view_count": null,
      "_view_module": "@jupyter-widgets/base",
      "_view_module_version": "1.2.0",
      "_view_name": "LayoutView",
      "align_content": null,
      "align_items": null,
      "align_self": null,
      "border": null,
      "bottom": null,
      "display": null,
      "flex": null,
      "flex_flow": null,
      "grid_area": null,
      "grid_auto_columns": null,
      "grid_auto_flow": null,
      "grid_auto_rows": null,
      "grid_column": null,
      "grid_gap": null,
      "grid_row": null,
      "grid_template_areas": null,
      "grid_template_columns": null,
      "grid_template_rows": null,
      "height": null,
      "justify_content": null,
      "justify_items": null,
      "left": null,
      "margin": null,
      "max_height": null,
      "max_width": null,
      "min_height": null,
      "min_width": null,
      "object_fit": null,
      "object_position": null,
      "order": null,
      "overflow": null,
      "overflow_x": null,
      "overflow_y": null,
      "padding": null,
      "right": null,
      "top": null,
      "visibility": null,
      "width": null
     }
    },
    "914192c0f5bf4e969c7624b5a1b76a26": {
     "model_module": "@jupyter-widgets/controls",
     "model_module_version": "1.5.0",
     "model_name": "DescriptionStyleModel",
     "state": {
      "_model_module": "@jupyter-widgets/controls",
      "_model_module_version": "1.5.0",
      "_model_name": "DescriptionStyleModel",
      "_view_count": null,
      "_view_module": "@jupyter-widgets/base",
      "_view_module_version": "1.2.0",
      "_view_name": "StyleView",
      "description_width": ""
     }
    },
    "9259289e0bd842f0b259c377a09c72d9": {
     "model_module": "@jupyter-widgets/controls",
     "model_module_version": "1.5.0",
     "model_name": "HTMLModel",
     "state": {
      "_dom_classes": [],
      "_model_module": "@jupyter-widgets/controls",
      "_model_module_version": "1.5.0",
      "_model_name": "HTMLModel",
      "_view_count": null,
      "_view_module": "@jupyter-widgets/controls",
      "_view_module_version": "1.5.0",
      "_view_name": "HTMLView",
      "description": "",
      "description_tooltip": null,
      "layout": "IPY_MODEL_8e792860c7ab48aaa7170120419dfa1f",
      "placeholder": "​",
      "style": "IPY_MODEL_1b761205ba49442083bfd0d5b0f5d530",
      "value": ""
     }
    },
    "98e648f4798b4619a32a3c0d02d6cb29": {
     "model_module": "@jupyter-widgets/controls",
     "model_module_version": "1.5.0",
     "model_name": "HBoxModel",
     "state": {
      "_dom_classes": [],
      "_model_module": "@jupyter-widgets/controls",
      "_model_module_version": "1.5.0",
      "_model_name": "HBoxModel",
      "_view_count": null,
      "_view_module": "@jupyter-widgets/controls",
      "_view_module_version": "1.5.0",
      "_view_name": "HBoxView",
      "box_style": "",
      "children": [
       "IPY_MODEL_580803435ff94475bde32809a0dc9d59",
       "IPY_MODEL_4dcb77be2dec479ebadf92ad7cdcf3a1",
       "IPY_MODEL_0cc64cb51fa24513bea389f69314289d"
      ],
      "layout": "IPY_MODEL_9f126830065947f8a74dbbfea244842c"
     }
    },
    "9cec9333c48f491b8a367454308a9a64": {
     "model_module": "@jupyter-widgets/controls",
     "model_module_version": "1.5.0",
     "model_name": "DescriptionStyleModel",
     "state": {
      "_model_module": "@jupyter-widgets/controls",
      "_model_module_version": "1.5.0",
      "_model_name": "DescriptionStyleModel",
      "_view_count": null,
      "_view_module": "@jupyter-widgets/base",
      "_view_module_version": "1.2.0",
      "_view_name": "StyleView",
      "description_width": ""
     }
    },
    "9f126830065947f8a74dbbfea244842c": {
     "model_module": "@jupyter-widgets/base",
     "model_module_version": "1.2.0",
     "model_name": "LayoutModel",
     "state": {
      "_model_module": "@jupyter-widgets/base",
      "_model_module_version": "1.2.0",
      "_model_name": "LayoutModel",
      "_view_count": null,
      "_view_module": "@jupyter-widgets/base",
      "_view_module_version": "1.2.0",
      "_view_name": "LayoutView",
      "align_content": null,
      "align_items": null,
      "align_self": null,
      "border": null,
      "bottom": null,
      "display": null,
      "flex": null,
      "flex_flow": null,
      "grid_area": null,
      "grid_auto_columns": null,
      "grid_auto_flow": null,
      "grid_auto_rows": null,
      "grid_column": null,
      "grid_gap": null,
      "grid_row": null,
      "grid_template_areas": null,
      "grid_template_columns": null,
      "grid_template_rows": null,
      "height": null,
      "justify_content": null,
      "justify_items": null,
      "left": null,
      "margin": null,
      "max_height": null,
      "max_width": null,
      "min_height": null,
      "min_width": null,
      "object_fit": null,
      "object_position": null,
      "order": null,
      "overflow": null,
      "overflow_x": null,
      "overflow_y": null,
      "padding": null,
      "right": null,
      "top": null,
      "visibility": null,
      "width": null
     }
    },
    "ab852b092e314ebaa064f57d4db4a061": {
     "model_module": "@jupyter-widgets/base",
     "model_module_version": "1.2.0",
     "model_name": "LayoutModel",
     "state": {
      "_model_module": "@jupyter-widgets/base",
      "_model_module_version": "1.2.0",
      "_model_name": "LayoutModel",
      "_view_count": null,
      "_view_module": "@jupyter-widgets/base",
      "_view_module_version": "1.2.0",
      "_view_name": "LayoutView",
      "align_content": null,
      "align_items": null,
      "align_self": null,
      "border": null,
      "bottom": null,
      "display": null,
      "flex": null,
      "flex_flow": null,
      "grid_area": null,
      "grid_auto_columns": null,
      "grid_auto_flow": null,
      "grid_auto_rows": null,
      "grid_column": null,
      "grid_gap": null,
      "grid_row": null,
      "grid_template_areas": null,
      "grid_template_columns": null,
      "grid_template_rows": null,
      "height": null,
      "justify_content": null,
      "justify_items": null,
      "left": null,
      "margin": null,
      "max_height": null,
      "max_width": null,
      "min_height": null,
      "min_width": null,
      "object_fit": null,
      "object_position": null,
      "order": null,
      "overflow": null,
      "overflow_x": null,
      "overflow_y": null,
      "padding": null,
      "right": null,
      "top": null,
      "visibility": null,
      "width": null
     }
    },
    "ae04c097106e4ee5b437e2c9d668c130": {
     "model_module": "@jupyter-widgets/controls",
     "model_module_version": "1.5.0",
     "model_name": "ProgressStyleModel",
     "state": {
      "_model_module": "@jupyter-widgets/controls",
      "_model_module_version": "1.5.0",
      "_model_name": "ProgressStyleModel",
      "_view_count": null,
      "_view_module": "@jupyter-widgets/base",
      "_view_module_version": "1.2.0",
      "_view_name": "StyleView",
      "bar_color": null,
      "description_width": ""
     }
    },
    "b0ccc6b642134cdd82f7c79d72fe2b33": {
     "model_module": "@jupyter-widgets/base",
     "model_module_version": "1.2.0",
     "model_name": "LayoutModel",
     "state": {
      "_model_module": "@jupyter-widgets/base",
      "_model_module_version": "1.2.0",
      "_model_name": "LayoutModel",
      "_view_count": null,
      "_view_module": "@jupyter-widgets/base",
      "_view_module_version": "1.2.0",
      "_view_name": "LayoutView",
      "align_content": null,
      "align_items": null,
      "align_self": null,
      "border": null,
      "bottom": null,
      "display": null,
      "flex": null,
      "flex_flow": null,
      "grid_area": null,
      "grid_auto_columns": null,
      "grid_auto_flow": null,
      "grid_auto_rows": null,
      "grid_column": null,
      "grid_gap": null,
      "grid_row": null,
      "grid_template_areas": null,
      "grid_template_columns": null,
      "grid_template_rows": null,
      "height": null,
      "justify_content": null,
      "justify_items": null,
      "left": null,
      "margin": null,
      "max_height": null,
      "max_width": null,
      "min_height": null,
      "min_width": null,
      "object_fit": null,
      "object_position": null,
      "order": null,
      "overflow": null,
      "overflow_x": null,
      "overflow_y": null,
      "padding": null,
      "right": null,
      "top": null,
      "visibility": null,
      "width": null
     }
    },
    "b81ce3cc5b224a86853f2a9a3ae70cb8": {
     "model_module": "@jupyter-widgets/base",
     "model_module_version": "1.2.0",
     "model_name": "LayoutModel",
     "state": {
      "_model_module": "@jupyter-widgets/base",
      "_model_module_version": "1.2.0",
      "_model_name": "LayoutModel",
      "_view_count": null,
      "_view_module": "@jupyter-widgets/base",
      "_view_module_version": "1.2.0",
      "_view_name": "LayoutView",
      "align_content": null,
      "align_items": null,
      "align_self": null,
      "border": null,
      "bottom": null,
      "display": null,
      "flex": null,
      "flex_flow": null,
      "grid_area": null,
      "grid_auto_columns": null,
      "grid_auto_flow": null,
      "grid_auto_rows": null,
      "grid_column": null,
      "grid_gap": null,
      "grid_row": null,
      "grid_template_areas": null,
      "grid_template_columns": null,
      "grid_template_rows": null,
      "height": null,
      "justify_content": null,
      "justify_items": null,
      "left": null,
      "margin": null,
      "max_height": null,
      "max_width": null,
      "min_height": null,
      "min_width": null,
      "object_fit": null,
      "object_position": null,
      "order": null,
      "overflow": null,
      "overflow_x": null,
      "overflow_y": null,
      "padding": null,
      "right": null,
      "top": null,
      "visibility": null,
      "width": null
     }
    },
    "b8a3ed41e8974b0b9970d02fc26126cf": {
     "model_module": "@jupyter-widgets/controls",
     "model_module_version": "1.5.0",
     "model_name": "HTMLModel",
     "state": {
      "_dom_classes": [],
      "_model_module": "@jupyter-widgets/controls",
      "_model_module_version": "1.5.0",
      "_model_name": "HTMLModel",
      "_view_count": null,
      "_view_module": "@jupyter-widgets/controls",
      "_view_module_version": "1.5.0",
      "_view_name": "HTMLView",
      "description": "",
      "description_tooltip": null,
      "layout": "IPY_MODEL_7e26456a1f4047e5bf9c2e467f63a687",
      "placeholder": "​",
      "style": "IPY_MODEL_62330091f3524320a9160d20ebeaca0f",
      "value": " 1649664/? [00:00&lt;00:00, 3116890.25it/s]"
     }
    },
    "c263e5ef6c074974b7a547cbf475be18": {
     "model_module": "@jupyter-widgets/controls",
     "model_module_version": "1.5.0",
     "model_name": "HTMLModel",
     "state": {
      "_dom_classes": [],
      "_model_module": "@jupyter-widgets/controls",
      "_model_module_version": "1.5.0",
      "_model_name": "HTMLModel",
      "_view_count": null,
      "_view_module": "@jupyter-widgets/controls",
      "_view_module_version": "1.5.0",
      "_view_name": "HTMLView",
      "description": "",
      "description_tooltip": null,
      "layout": "IPY_MODEL_c7fbaafc58904eefb4cdbd4a3f4afdd8",
      "placeholder": "​",
      "style": "IPY_MODEL_025db169f4804111809bc14d45d437c6",
      "value": " 4/4 [51:27&lt;00:00, 517.12s/it]"
     }
    },
    "c34a4c86321642c7b92d160c6111ca5e": {
     "model_module": "@jupyter-widgets/controls",
     "model_module_version": "1.5.0",
     "model_name": "FloatProgressModel",
     "state": {
      "_dom_classes": [],
      "_model_module": "@jupyter-widgets/controls",
      "_model_module_version": "1.5.0",
      "_model_name": "FloatProgressModel",
      "_view_count": null,
      "_view_module": "@jupyter-widgets/controls",
      "_view_module_version": "1.5.0",
      "_view_name": "ProgressView",
      "bar_style": "success",
      "description": "",
      "description_tooltip": null,
      "layout": "IPY_MODEL_22928bb476c04140b5a323097798b931",
      "max": 28881,
      "min": 0,
      "orientation": "horizontal",
      "style": "IPY_MODEL_3cf8da8130fa46698d1e10ace8911a61",
      "value": 28881
     }
    },
    "c7fbaafc58904eefb4cdbd4a3f4afdd8": {
     "model_module": "@jupyter-widgets/base",
     "model_module_version": "1.2.0",
     "model_name": "LayoutModel",
     "state": {
      "_model_module": "@jupyter-widgets/base",
      "_model_module_version": "1.2.0",
      "_model_name": "LayoutModel",
      "_view_count": null,
      "_view_module": "@jupyter-widgets/base",
      "_view_module_version": "1.2.0",
      "_view_name": "LayoutView",
      "align_content": null,
      "align_items": null,
      "align_self": null,
      "border": null,
      "bottom": null,
      "display": null,
      "flex": null,
      "flex_flow": null,
      "grid_area": null,
      "grid_auto_columns": null,
      "grid_auto_flow": null,
      "grid_auto_rows": null,
      "grid_column": null,
      "grid_gap": null,
      "grid_row": null,
      "grid_template_areas": null,
      "grid_template_columns": null,
      "grid_template_rows": null,
      "height": null,
      "justify_content": null,
      "justify_items": null,
      "left": null,
      "margin": null,
      "max_height": null,
      "max_width": null,
      "min_height": null,
      "min_width": null,
      "object_fit": null,
      "object_position": null,
      "order": null,
      "overflow": null,
      "overflow_x": null,
      "overflow_y": null,
      "padding": null,
      "right": null,
      "top": null,
      "visibility": null,
      "width": null
     }
    },
    "c8be7284b2a245b4a88ddbe2e44d848b": {
     "model_module": "@jupyter-widgets/controls",
     "model_module_version": "1.5.0",
     "model_name": "HBoxModel",
     "state": {
      "_dom_classes": [],
      "_model_module": "@jupyter-widgets/controls",
      "_model_module_version": "1.5.0",
      "_model_name": "HBoxModel",
      "_view_count": null,
      "_view_module": "@jupyter-widgets/controls",
      "_view_module_version": "1.5.0",
      "_view_name": "HBoxView",
      "box_style": "",
      "children": [
       "IPY_MODEL_9259289e0bd842f0b259c377a09c72d9",
       "IPY_MODEL_e5a7fe2dece740c8bf6f71c48c41ac40",
       "IPY_MODEL_2cb822c33ea64defa7b004c477d5d5e7"
      ],
      "layout": "IPY_MODEL_6b0cc69b5dec47af95ed96e37af02b1b"
     }
    },
    "cf09668886bb4726b143c68a546b3985": {
     "model_module": "@jupyter-widgets/controls",
     "model_module_version": "1.5.0",
     "model_name": "HTMLModel",
     "state": {
      "_dom_classes": [],
      "_model_module": "@jupyter-widgets/controls",
      "_model_module_version": "1.5.0",
      "_model_name": "HTMLModel",
      "_view_count": null,
      "_view_module": "@jupyter-widgets/controls",
      "_view_module_version": "1.5.0",
      "_view_name": "HTMLView",
      "description": "",
      "description_tooltip": null,
      "layout": "IPY_MODEL_7b874672781940159028785549a343a2",
      "placeholder": "​",
      "style": "IPY_MODEL_2d35f482d37c4753981885fd2deccd25",
      "value": ""
     }
    },
    "dc3cf00246904c66b815eb7ea68446f2": {
     "model_module": "@jupyter-widgets/base",
     "model_module_version": "1.2.0",
     "model_name": "LayoutModel",
     "state": {
      "_model_module": "@jupyter-widgets/base",
      "_model_module_version": "1.2.0",
      "_model_name": "LayoutModel",
      "_view_count": null,
      "_view_module": "@jupyter-widgets/base",
      "_view_module_version": "1.2.0",
      "_view_name": "LayoutView",
      "align_content": null,
      "align_items": null,
      "align_self": null,
      "border": null,
      "bottom": null,
      "display": null,
      "flex": null,
      "flex_flow": null,
      "grid_area": null,
      "grid_auto_columns": null,
      "grid_auto_flow": null,
      "grid_auto_rows": null,
      "grid_column": null,
      "grid_gap": null,
      "grid_row": null,
      "grid_template_areas": null,
      "grid_template_columns": null,
      "grid_template_rows": null,
      "height": null,
      "justify_content": null,
      "justify_items": null,
      "left": null,
      "margin": null,
      "max_height": null,
      "max_width": null,
      "min_height": null,
      "min_width": null,
      "object_fit": null,
      "object_position": null,
      "order": null,
      "overflow": null,
      "overflow_x": null,
      "overflow_y": null,
      "padding": null,
      "right": null,
      "top": null,
      "visibility": null,
      "width": null
     }
    },
    "e5a7fe2dece740c8bf6f71c48c41ac40": {
     "model_module": "@jupyter-widgets/controls",
     "model_module_version": "1.5.0",
     "model_name": "FloatProgressModel",
     "state": {
      "_dom_classes": [],
      "_model_module": "@jupyter-widgets/controls",
      "_model_module_version": "1.5.0",
      "_model_name": "FloatProgressModel",
      "_view_count": null,
      "_view_module": "@jupyter-widgets/controls",
      "_view_module_version": "1.5.0",
      "_view_name": "ProgressView",
      "bar_style": "success",
      "description": "",
      "description_tooltip": null,
      "layout": "IPY_MODEL_6c73e41b11d5460ca15a3598ebee33ed",
      "max": 4542,
      "min": 0,
      "orientation": "horizontal",
      "style": "IPY_MODEL_ae04c097106e4ee5b437e2c9d668c130",
      "value": 4542
     }
    },
    "e5beceed7a15444794c474c83da1472c": {
     "model_module": "@jupyter-widgets/controls",
     "model_module_version": "1.5.0",
     "model_name": "DescriptionStyleModel",
     "state": {
      "_model_module": "@jupyter-widgets/controls",
      "_model_module_version": "1.5.0",
      "_model_name": "DescriptionStyleModel",
      "_view_count": null,
      "_view_module": "@jupyter-widgets/base",
      "_view_module_version": "1.2.0",
      "_view_name": "StyleView",
      "description_width": ""
     }
    },
    "eb6fe6e931fd43339fa0c5bda742cf76": {
     "model_module": "@jupyter-widgets/controls",
     "model_module_version": "1.5.0",
     "model_name": "ProgressStyleModel",
     "state": {
      "_model_module": "@jupyter-widgets/controls",
      "_model_module_version": "1.5.0",
      "_model_name": "ProgressStyleModel",
      "_view_count": null,
      "_view_module": "@jupyter-widgets/base",
      "_view_module_version": "1.2.0",
      "_view_name": "StyleView",
      "bar_color": null,
      "description_width": ""
     }
    },
    "edba68abad784110aca102b009aec369": {
     "model_module": "@jupyter-widgets/controls",
     "model_module_version": "1.5.0",
     "model_name": "DescriptionStyleModel",
     "state": {
      "_model_module": "@jupyter-widgets/controls",
      "_model_module_version": "1.5.0",
      "_model_name": "DescriptionStyleModel",
      "_view_count": null,
      "_view_module": "@jupyter-widgets/base",
      "_view_module_version": "1.2.0",
      "_view_name": "StyleView",
      "description_width": ""
     }
    },
    "f58db2ee98e74244b8b893a3ba3ae326": {
     "model_module": "@jupyter-widgets/controls",
     "model_module_version": "1.5.0",
     "model_name": "HTMLModel",
     "state": {
      "_dom_classes": [],
      "_model_module": "@jupyter-widgets/controls",
      "_model_module_version": "1.5.0",
      "_model_name": "HTMLModel",
      "_view_count": null,
      "_view_module": "@jupyter-widgets/controls",
      "_view_module_version": "1.5.0",
      "_view_name": "HTMLView",
      "description": "",
      "description_tooltip": null,
      "layout": "IPY_MODEL_6f0ea91a228e4e4a93a636cafd4508a3",
      "placeholder": "​",
      "style": "IPY_MODEL_9cec9333c48f491b8a367454308a9a64",
      "value": ""
     }
    },
    "f75aac4d51d04c9ab55c31c4c569974a": {
     "model_module": "@jupyter-widgets/controls",
     "model_module_version": "1.5.0",
     "model_name": "FloatProgressModel",
     "state": {
      "_dom_classes": [],
      "_model_module": "@jupyter-widgets/controls",
      "_model_module_version": "1.5.0",
      "_model_name": "FloatProgressModel",
      "_view_count": null,
      "_view_module": "@jupyter-widgets/controls",
      "_view_module_version": "1.5.0",
      "_view_name": "ProgressView",
      "bar_style": "success",
      "description": "",
      "description_tooltip": null,
      "layout": "IPY_MODEL_46fa886fd4d84f6fb151bc60341f80d5",
      "max": 4,
      "min": 0,
      "orientation": "horizontal",
      "style": "IPY_MODEL_4a6c3698b9b4458694b0ae522a512527",
      "value": 4
     }
    },
    "fea3e430513f4a6ab8d75a9807d94c1e": {
     "model_module": "@jupyter-widgets/base",
     "model_module_version": "1.2.0",
     "model_name": "LayoutModel",
     "state": {
      "_model_module": "@jupyter-widgets/base",
      "_model_module_version": "1.2.0",
      "_model_name": "LayoutModel",
      "_view_count": null,
      "_view_module": "@jupyter-widgets/base",
      "_view_module_version": "1.2.0",
      "_view_name": "LayoutView",
      "align_content": null,
      "align_items": null,
      "align_self": null,
      "border": null,
      "bottom": null,
      "display": null,
      "flex": null,
      "flex_flow": null,
      "grid_area": null,
      "grid_auto_columns": null,
      "grid_auto_flow": null,
      "grid_auto_rows": null,
      "grid_column": null,
      "grid_gap": null,
      "grid_row": null,
      "grid_template_areas": null,
      "grid_template_columns": null,
      "grid_template_rows": null,
      "height": null,
      "justify_content": null,
      "justify_items": null,
      "left": null,
      "margin": null,
      "max_height": null,
      "max_width": null,
      "min_height": null,
      "min_width": null,
      "object_fit": null,
      "object_position": null,
      "order": null,
      "overflow": null,
      "overflow_x": null,
      "overflow_y": null,
      "padding": null,
      "right": null,
      "top": null,
      "visibility": null,
      "width": null
     }
    }
   }
  }
 },
 "nbformat": 4,
 "nbformat_minor": 5
}
