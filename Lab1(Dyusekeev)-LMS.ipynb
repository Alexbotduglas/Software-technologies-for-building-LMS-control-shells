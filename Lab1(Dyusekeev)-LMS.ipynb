{
 "cells": [
  {
   "cell_type": "code",
   "execution_count": 1,
   "metadata": {},
   "outputs": [],
   "source": [
    "import numpy as np\n",
    "import pandas as pd\n",
    "from scipy import stats\n",
    "import seaborn as sns\n",
    "import matplotlib.pyplot as plt"
   ]
  },
  {
   "cell_type": "markdown",
   "metadata": {},
   "source": [
    "### 1. Датасет\n",
    "Строки - № задания (i = 1, 2, ...)  \n",
    "Стобцы - № студента (j = 1, 2, ...)  \n",
    "Ячейки - время выполнения i-го задания j-м студентом"
   ]
  },
  {
   "cell_type": "markdown",
   "metadata": {},
   "source": [
    "Загрузим датасет:"
   ]
  },
  {
   "cell_type": "code",
   "execution_count": 2,
   "metadata": {},
   "outputs": [
    {
     "data": {
      "text/html": [
       "<div>\n",
       "<style scoped>\n",
       "    .dataframe tbody tr th:only-of-type {\n",
       "        vertical-align: middle;\n",
       "    }\n",
       "\n",
       "    .dataframe tbody tr th {\n",
       "        vertical-align: top;\n",
       "    }\n",
       "\n",
       "    .dataframe thead th {\n",
       "        text-align: right;\n",
       "    }\n",
       "</style>\n",
       "<table border=\"1\" class=\"dataframe\">\n",
       "  <thead>\n",
       "    <tr style=\"text-align: right;\">\n",
       "      <th></th>\n",
       "      <th>0</th>\n",
       "      <th>1</th>\n",
       "      <th>2</th>\n",
       "      <th>3</th>\n",
       "      <th>4</th>\n",
       "      <th>5</th>\n",
       "      <th>6</th>\n",
       "      <th>7</th>\n",
       "      <th>8</th>\n",
       "      <th>9</th>\n",
       "      <th>...</th>\n",
       "      <th>990</th>\n",
       "      <th>991</th>\n",
       "      <th>992</th>\n",
       "      <th>993</th>\n",
       "      <th>994</th>\n",
       "      <th>995</th>\n",
       "      <th>996</th>\n",
       "      <th>997</th>\n",
       "      <th>998</th>\n",
       "      <th>999</th>\n",
       "    </tr>\n",
       "  </thead>\n",
       "  <tbody>\n",
       "    <tr>\n",
       "      <th>0</th>\n",
       "      <td>362.495451</td>\n",
       "      <td>261.912010</td>\n",
       "      <td>452.409086</td>\n",
       "      <td>346.583589</td>\n",
       "      <td>454.259111</td>\n",
       "      <td>457.851592</td>\n",
       "      <td>358.655184</td>\n",
       "      <td>320.894829</td>\n",
       "      <td>625.262571</td>\n",
       "      <td>248.611441</td>\n",
       "      <td>...</td>\n",
       "      <td>283.737426</td>\n",
       "      <td>274.342793</td>\n",
       "      <td>381.920269</td>\n",
       "      <td>425.988655</td>\n",
       "      <td>278.903988</td>\n",
       "      <td>440.998550</td>\n",
       "      <td>506.301274</td>\n",
       "      <td>281.887457</td>\n",
       "      <td>268.148068</td>\n",
       "      <td>230.138295</td>\n",
       "    </tr>\n",
       "    <tr>\n",
       "      <th>1</th>\n",
       "      <td>631.398467</td>\n",
       "      <td>710.765846</td>\n",
       "      <td>605.316568</td>\n",
       "      <td>1216.133860</td>\n",
       "      <td>1134.422486</td>\n",
       "      <td>564.802756</td>\n",
       "      <td>819.929449</td>\n",
       "      <td>742.284766</td>\n",
       "      <td>509.238808</td>\n",
       "      <td>570.952604</td>\n",
       "      <td>...</td>\n",
       "      <td>342.104231</td>\n",
       "      <td>491.532015</td>\n",
       "      <td>988.080655</td>\n",
       "      <td>535.282993</td>\n",
       "      <td>653.289098</td>\n",
       "      <td>1178.932996</td>\n",
       "      <td>1088.792362</td>\n",
       "      <td>583.098163</td>\n",
       "      <td>711.283520</td>\n",
       "      <td>787.105772</td>\n",
       "    </tr>\n",
       "    <tr>\n",
       "      <th>2</th>\n",
       "      <td>281.413007</td>\n",
       "      <td>239.861253</td>\n",
       "      <td>574.897845</td>\n",
       "      <td>334.552514</td>\n",
       "      <td>343.164792</td>\n",
       "      <td>535.038139</td>\n",
       "      <td>276.519075</td>\n",
       "      <td>250.362000</td>\n",
       "      <td>274.697806</td>\n",
       "      <td>292.236369</td>\n",
       "      <td>...</td>\n",
       "      <td>321.063724</td>\n",
       "      <td>312.547334</td>\n",
       "      <td>226.792794</td>\n",
       "      <td>361.505097</td>\n",
       "      <td>490.687675</td>\n",
       "      <td>266.717564</td>\n",
       "      <td>221.932938</td>\n",
       "      <td>284.093587</td>\n",
       "      <td>298.722878</td>\n",
       "      <td>253.425116</td>\n",
       "    </tr>\n",
       "    <tr>\n",
       "      <th>3</th>\n",
       "      <td>246.741026</td>\n",
       "      <td>774.327973</td>\n",
       "      <td>533.211943</td>\n",
       "      <td>501.859696</td>\n",
       "      <td>446.271275</td>\n",
       "      <td>552.804659</td>\n",
       "      <td>301.875465</td>\n",
       "      <td>458.305384</td>\n",
       "      <td>479.481328</td>\n",
       "      <td>589.897871</td>\n",
       "      <td>...</td>\n",
       "      <td>413.909437</td>\n",
       "      <td>528.007977</td>\n",
       "      <td>365.941545</td>\n",
       "      <td>326.519927</td>\n",
       "      <td>621.538776</td>\n",
       "      <td>426.009559</td>\n",
       "      <td>263.126396</td>\n",
       "      <td>514.265309</td>\n",
       "      <td>545.742830</td>\n",
       "      <td>507.889405</td>\n",
       "    </tr>\n",
       "    <tr>\n",
       "      <th>4</th>\n",
       "      <td>706.856361</td>\n",
       "      <td>691.299675</td>\n",
       "      <td>609.206074</td>\n",
       "      <td>362.399712</td>\n",
       "      <td>787.262660</td>\n",
       "      <td>636.891045</td>\n",
       "      <td>878.911501</td>\n",
       "      <td>866.620990</td>\n",
       "      <td>567.574418</td>\n",
       "      <td>402.611757</td>\n",
       "      <td>...</td>\n",
       "      <td>670.746989</td>\n",
       "      <td>869.709853</td>\n",
       "      <td>821.751524</td>\n",
       "      <td>624.395534</td>\n",
       "      <td>307.567076</td>\n",
       "      <td>642.629935</td>\n",
       "      <td>667.865726</td>\n",
       "      <td>538.187006</td>\n",
       "      <td>706.410774</td>\n",
       "      <td>652.486298</td>\n",
       "    </tr>\n",
       "    <tr>\n",
       "      <th>5</th>\n",
       "      <td>1400.250476</td>\n",
       "      <td>1558.808482</td>\n",
       "      <td>2159.848391</td>\n",
       "      <td>1905.817175</td>\n",
       "      <td>1230.104503</td>\n",
       "      <td>1023.112957</td>\n",
       "      <td>1012.230745</td>\n",
       "      <td>1353.420786</td>\n",
       "      <td>835.213658</td>\n",
       "      <td>1163.953785</td>\n",
       "      <td>...</td>\n",
       "      <td>1657.397187</td>\n",
       "      <td>659.037512</td>\n",
       "      <td>1049.466644</td>\n",
       "      <td>1243.790513</td>\n",
       "      <td>962.089691</td>\n",
       "      <td>669.000044</td>\n",
       "      <td>1172.856605</td>\n",
       "      <td>2245.648024</td>\n",
       "      <td>866.071132</td>\n",
       "      <td>1805.840194</td>\n",
       "    </tr>\n",
       "    <tr>\n",
       "      <th>6</th>\n",
       "      <td>569.530312</td>\n",
       "      <td>351.989841</td>\n",
       "      <td>201.780903</td>\n",
       "      <td>430.995262</td>\n",
       "      <td>321.084511</td>\n",
       "      <td>801.220890</td>\n",
       "      <td>493.617537</td>\n",
       "      <td>338.943365</td>\n",
       "      <td>506.080837</td>\n",
       "      <td>295.570499</td>\n",
       "      <td>...</td>\n",
       "      <td>573.032878</td>\n",
       "      <td>324.814683</td>\n",
       "      <td>214.412391</td>\n",
       "      <td>574.976331</td>\n",
       "      <td>404.988376</td>\n",
       "      <td>573.771516</td>\n",
       "      <td>433.634789</td>\n",
       "      <td>735.168388</td>\n",
       "      <td>273.060834</td>\n",
       "      <td>282.110748</td>\n",
       "    </tr>\n",
       "    <tr>\n",
       "      <th>7</th>\n",
       "      <td>748.308126</td>\n",
       "      <td>1187.227164</td>\n",
       "      <td>554.533211</td>\n",
       "      <td>313.674779</td>\n",
       "      <td>1157.835703</td>\n",
       "      <td>562.426626</td>\n",
       "      <td>1277.615377</td>\n",
       "      <td>1263.204140</td>\n",
       "      <td>1138.818193</td>\n",
       "      <td>1319.677819</td>\n",
       "      <td>...</td>\n",
       "      <td>652.611191</td>\n",
       "      <td>806.772167</td>\n",
       "      <td>1110.556922</td>\n",
       "      <td>1294.683259</td>\n",
       "      <td>951.098773</td>\n",
       "      <td>1469.068069</td>\n",
       "      <td>1137.078752</td>\n",
       "      <td>923.531459</td>\n",
       "      <td>663.395600</td>\n",
       "      <td>740.393344</td>\n",
       "    </tr>\n",
       "    <tr>\n",
       "      <th>8</th>\n",
       "      <td>566.932393</td>\n",
       "      <td>280.782629</td>\n",
       "      <td>282.885275</td>\n",
       "      <td>274.613090</td>\n",
       "      <td>260.521006</td>\n",
       "      <td>363.671290</td>\n",
       "      <td>396.116294</td>\n",
       "      <td>348.379876</td>\n",
       "      <td>400.013695</td>\n",
       "      <td>364.542148</td>\n",
       "      <td>...</td>\n",
       "      <td>338.623858</td>\n",
       "      <td>312.926906</td>\n",
       "      <td>218.007961</td>\n",
       "      <td>285.480938</td>\n",
       "      <td>358.156160</td>\n",
       "      <td>520.418553</td>\n",
       "      <td>403.208479</td>\n",
       "      <td>341.678064</td>\n",
       "      <td>296.780328</td>\n",
       "      <td>384.068296</td>\n",
       "    </tr>\n",
       "    <tr>\n",
       "      <th>9</th>\n",
       "      <td>602.551469</td>\n",
       "      <td>321.303545</td>\n",
       "      <td>436.671619</td>\n",
       "      <td>455.943324</td>\n",
       "      <td>408.721661</td>\n",
       "      <td>765.712161</td>\n",
       "      <td>471.475482</td>\n",
       "      <td>423.911404</td>\n",
       "      <td>740.414941</td>\n",
       "      <td>452.356388</td>\n",
       "      <td>...</td>\n",
       "      <td>446.325520</td>\n",
       "      <td>398.361774</td>\n",
       "      <td>442.584069</td>\n",
       "      <td>409.568395</td>\n",
       "      <td>361.049170</td>\n",
       "      <td>514.775968</td>\n",
       "      <td>512.752782</td>\n",
       "      <td>636.238282</td>\n",
       "      <td>407.832107</td>\n",
       "      <td>511.640080</td>\n",
       "    </tr>\n",
       "  </tbody>\n",
       "</table>\n",
       "<p>10 rows × 1000 columns</p>\n",
       "</div>"
      ],
      "text/plain": [
       "           0            1            2            3            4    \\\n",
       "0   362.495451   261.912010   452.409086   346.583589   454.259111   \n",
       "1   631.398467   710.765846   605.316568  1216.133860  1134.422486   \n",
       "2   281.413007   239.861253   574.897845   334.552514   343.164792   \n",
       "3   246.741026   774.327973   533.211943   501.859696   446.271275   \n",
       "4   706.856361   691.299675   609.206074   362.399712   787.262660   \n",
       "5  1400.250476  1558.808482  2159.848391  1905.817175  1230.104503   \n",
       "6   569.530312   351.989841   201.780903   430.995262   321.084511   \n",
       "7   748.308126  1187.227164   554.533211   313.674779  1157.835703   \n",
       "8   566.932393   280.782629   282.885275   274.613090   260.521006   \n",
       "9   602.551469   321.303545   436.671619   455.943324   408.721661   \n",
       "\n",
       "           5            6            7            8            9    ...  \\\n",
       "0   457.851592   358.655184   320.894829   625.262571   248.611441  ...   \n",
       "1   564.802756   819.929449   742.284766   509.238808   570.952604  ...   \n",
       "2   535.038139   276.519075   250.362000   274.697806   292.236369  ...   \n",
       "3   552.804659   301.875465   458.305384   479.481328   589.897871  ...   \n",
       "4   636.891045   878.911501   866.620990   567.574418   402.611757  ...   \n",
       "5  1023.112957  1012.230745  1353.420786   835.213658  1163.953785  ...   \n",
       "6   801.220890   493.617537   338.943365   506.080837   295.570499  ...   \n",
       "7   562.426626  1277.615377  1263.204140  1138.818193  1319.677819  ...   \n",
       "8   363.671290   396.116294   348.379876   400.013695   364.542148  ...   \n",
       "9   765.712161   471.475482   423.911404   740.414941   452.356388  ...   \n",
       "\n",
       "           990         991          992          993         994          995  \\\n",
       "0   283.737426  274.342793   381.920269   425.988655  278.903988   440.998550   \n",
       "1   342.104231  491.532015   988.080655   535.282993  653.289098  1178.932996   \n",
       "2   321.063724  312.547334   226.792794   361.505097  490.687675   266.717564   \n",
       "3   413.909437  528.007977   365.941545   326.519927  621.538776   426.009559   \n",
       "4   670.746989  869.709853   821.751524   624.395534  307.567076   642.629935   \n",
       "5  1657.397187  659.037512  1049.466644  1243.790513  962.089691   669.000044   \n",
       "6   573.032878  324.814683   214.412391   574.976331  404.988376   573.771516   \n",
       "7   652.611191  806.772167  1110.556922  1294.683259  951.098773  1469.068069   \n",
       "8   338.623858  312.926906   218.007961   285.480938  358.156160   520.418553   \n",
       "9   446.325520  398.361774   442.584069   409.568395  361.049170   514.775968   \n",
       "\n",
       "           996          997         998          999  \n",
       "0   506.301274   281.887457  268.148068   230.138295  \n",
       "1  1088.792362   583.098163  711.283520   787.105772  \n",
       "2   221.932938   284.093587  298.722878   253.425116  \n",
       "3   263.126396   514.265309  545.742830   507.889405  \n",
       "4   667.865726   538.187006  706.410774   652.486298  \n",
       "5  1172.856605  2245.648024  866.071132  1805.840194  \n",
       "6   433.634789   735.168388  273.060834   282.110748  \n",
       "7  1137.078752   923.531459  663.395600   740.393344  \n",
       "8   403.208479   341.678064  296.780328   384.068296  \n",
       "9   512.752782   636.238282  407.832107   511.640080  \n",
       "\n",
       "[10 rows x 1000 columns]"
      ]
     },
     "execution_count": 2,
     "metadata": {},
     "output_type": "execute_result"
    }
   ],
   "source": [
    "ds = pd.read_csv('first_task.csv', header=None)\n",
    "ds"
   ]
  },
  {
   "cell_type": "markdown",
   "metadata": {},
   "source": [
    "Транспонируем его для удобства"
   ]
  },
  {
   "cell_type": "code",
   "execution_count": 3,
   "metadata": {},
   "outputs": [
    {
     "data": {
      "text/html": [
       "<div>\n",
       "<style scoped>\n",
       "    .dataframe tbody tr th:only-of-type {\n",
       "        vertical-align: middle;\n",
       "    }\n",
       "\n",
       "    .dataframe tbody tr th {\n",
       "        vertical-align: top;\n",
       "    }\n",
       "\n",
       "    .dataframe thead th {\n",
       "        text-align: right;\n",
       "    }\n",
       "</style>\n",
       "<table border=\"1\" class=\"dataframe\">\n",
       "  <thead>\n",
       "    <tr style=\"text-align: right;\">\n",
       "      <th></th>\n",
       "      <th>0</th>\n",
       "      <th>1</th>\n",
       "      <th>2</th>\n",
       "      <th>3</th>\n",
       "      <th>4</th>\n",
       "      <th>5</th>\n",
       "      <th>6</th>\n",
       "      <th>7</th>\n",
       "      <th>8</th>\n",
       "      <th>9</th>\n",
       "    </tr>\n",
       "  </thead>\n",
       "  <tbody>\n",
       "    <tr>\n",
       "      <th>0</th>\n",
       "      <td>362.495451</td>\n",
       "      <td>631.398467</td>\n",
       "      <td>281.413007</td>\n",
       "      <td>246.741026</td>\n",
       "      <td>706.856361</td>\n",
       "      <td>1400.250476</td>\n",
       "      <td>569.530312</td>\n",
       "      <td>748.308126</td>\n",
       "      <td>566.932393</td>\n",
       "      <td>602.551469</td>\n",
       "    </tr>\n",
       "    <tr>\n",
       "      <th>1</th>\n",
       "      <td>261.912010</td>\n",
       "      <td>710.765846</td>\n",
       "      <td>239.861253</td>\n",
       "      <td>774.327973</td>\n",
       "      <td>691.299675</td>\n",
       "      <td>1558.808482</td>\n",
       "      <td>351.989841</td>\n",
       "      <td>1187.227164</td>\n",
       "      <td>280.782629</td>\n",
       "      <td>321.303545</td>\n",
       "    </tr>\n",
       "    <tr>\n",
       "      <th>2</th>\n",
       "      <td>452.409086</td>\n",
       "      <td>605.316568</td>\n",
       "      <td>574.897845</td>\n",
       "      <td>533.211943</td>\n",
       "      <td>609.206074</td>\n",
       "      <td>2159.848391</td>\n",
       "      <td>201.780903</td>\n",
       "      <td>554.533211</td>\n",
       "      <td>282.885275</td>\n",
       "      <td>436.671619</td>\n",
       "    </tr>\n",
       "    <tr>\n",
       "      <th>3</th>\n",
       "      <td>346.583589</td>\n",
       "      <td>1216.133860</td>\n",
       "      <td>334.552514</td>\n",
       "      <td>501.859696</td>\n",
       "      <td>362.399712</td>\n",
       "      <td>1905.817175</td>\n",
       "      <td>430.995262</td>\n",
       "      <td>313.674779</td>\n",
       "      <td>274.613090</td>\n",
       "      <td>455.943324</td>\n",
       "    </tr>\n",
       "    <tr>\n",
       "      <th>4</th>\n",
       "      <td>454.259111</td>\n",
       "      <td>1134.422486</td>\n",
       "      <td>343.164792</td>\n",
       "      <td>446.271275</td>\n",
       "      <td>787.262660</td>\n",
       "      <td>1230.104503</td>\n",
       "      <td>321.084511</td>\n",
       "      <td>1157.835703</td>\n",
       "      <td>260.521006</td>\n",
       "      <td>408.721661</td>\n",
       "    </tr>\n",
       "    <tr>\n",
       "      <th>...</th>\n",
       "      <td>...</td>\n",
       "      <td>...</td>\n",
       "      <td>...</td>\n",
       "      <td>...</td>\n",
       "      <td>...</td>\n",
       "      <td>...</td>\n",
       "      <td>...</td>\n",
       "      <td>...</td>\n",
       "      <td>...</td>\n",
       "      <td>...</td>\n",
       "    </tr>\n",
       "    <tr>\n",
       "      <th>995</th>\n",
       "      <td>440.998550</td>\n",
       "      <td>1178.932996</td>\n",
       "      <td>266.717564</td>\n",
       "      <td>426.009559</td>\n",
       "      <td>642.629935</td>\n",
       "      <td>669.000044</td>\n",
       "      <td>573.771516</td>\n",
       "      <td>1469.068069</td>\n",
       "      <td>520.418553</td>\n",
       "      <td>514.775968</td>\n",
       "    </tr>\n",
       "    <tr>\n",
       "      <th>996</th>\n",
       "      <td>506.301274</td>\n",
       "      <td>1088.792362</td>\n",
       "      <td>221.932938</td>\n",
       "      <td>263.126396</td>\n",
       "      <td>667.865726</td>\n",
       "      <td>1172.856605</td>\n",
       "      <td>433.634789</td>\n",
       "      <td>1137.078752</td>\n",
       "      <td>403.208479</td>\n",
       "      <td>512.752782</td>\n",
       "    </tr>\n",
       "    <tr>\n",
       "      <th>997</th>\n",
       "      <td>281.887457</td>\n",
       "      <td>583.098163</td>\n",
       "      <td>284.093587</td>\n",
       "      <td>514.265309</td>\n",
       "      <td>538.187006</td>\n",
       "      <td>2245.648024</td>\n",
       "      <td>735.168388</td>\n",
       "      <td>923.531459</td>\n",
       "      <td>341.678064</td>\n",
       "      <td>636.238282</td>\n",
       "    </tr>\n",
       "    <tr>\n",
       "      <th>998</th>\n",
       "      <td>268.148068</td>\n",
       "      <td>711.283520</td>\n",
       "      <td>298.722878</td>\n",
       "      <td>545.742830</td>\n",
       "      <td>706.410774</td>\n",
       "      <td>866.071132</td>\n",
       "      <td>273.060834</td>\n",
       "      <td>663.395600</td>\n",
       "      <td>296.780328</td>\n",
       "      <td>407.832107</td>\n",
       "    </tr>\n",
       "    <tr>\n",
       "      <th>999</th>\n",
       "      <td>230.138295</td>\n",
       "      <td>787.105772</td>\n",
       "      <td>253.425116</td>\n",
       "      <td>507.889405</td>\n",
       "      <td>652.486298</td>\n",
       "      <td>1805.840194</td>\n",
       "      <td>282.110748</td>\n",
       "      <td>740.393344</td>\n",
       "      <td>384.068296</td>\n",
       "      <td>511.640080</td>\n",
       "    </tr>\n",
       "  </tbody>\n",
       "</table>\n",
       "<p>1000 rows × 10 columns</p>\n",
       "</div>"
      ],
      "text/plain": [
       "              0            1           2           3           4            5  \\\n",
       "0    362.495451   631.398467  281.413007  246.741026  706.856361  1400.250476   \n",
       "1    261.912010   710.765846  239.861253  774.327973  691.299675  1558.808482   \n",
       "2    452.409086   605.316568  574.897845  533.211943  609.206074  2159.848391   \n",
       "3    346.583589  1216.133860  334.552514  501.859696  362.399712  1905.817175   \n",
       "4    454.259111  1134.422486  343.164792  446.271275  787.262660  1230.104503   \n",
       "..          ...          ...         ...         ...         ...          ...   \n",
       "995  440.998550  1178.932996  266.717564  426.009559  642.629935   669.000044   \n",
       "996  506.301274  1088.792362  221.932938  263.126396  667.865726  1172.856605   \n",
       "997  281.887457   583.098163  284.093587  514.265309  538.187006  2245.648024   \n",
       "998  268.148068   711.283520  298.722878  545.742830  706.410774   866.071132   \n",
       "999  230.138295   787.105772  253.425116  507.889405  652.486298  1805.840194   \n",
       "\n",
       "              6            7           8           9  \n",
       "0    569.530312   748.308126  566.932393  602.551469  \n",
       "1    351.989841  1187.227164  280.782629  321.303545  \n",
       "2    201.780903   554.533211  282.885275  436.671619  \n",
       "3    430.995262   313.674779  274.613090  455.943324  \n",
       "4    321.084511  1157.835703  260.521006  408.721661  \n",
       "..          ...          ...         ...         ...  \n",
       "995  573.771516  1469.068069  520.418553  514.775968  \n",
       "996  433.634789  1137.078752  403.208479  512.752782  \n",
       "997  735.168388   923.531459  341.678064  636.238282  \n",
       "998  273.060834   663.395600  296.780328  407.832107  \n",
       "999  282.110748   740.393344  384.068296  511.640080  \n",
       "\n",
       "[1000 rows x 10 columns]"
      ]
     },
     "execution_count": 3,
     "metadata": {},
     "output_type": "execute_result"
    }
   ],
   "source": [
    "ds = ds.transpose()\n",
    "ds"
   ]
  },
  {
   "cell_type": "markdown",
   "metadata": {},
   "source": [
    "### 2. Гистограммы распределения"
   ]
  },
  {
   "cell_type": "markdown",
   "metadata": {},
   "source": [
    "Построим гистграммы распределения времени по каждому из заданий:"
   ]
  },
  {
   "cell_type": "code",
   "execution_count": 4,
   "metadata": {},
   "outputs": [
    {
     "data": {
      "image/png": "[encoded data removed]",
      "text/plain": [
       "<Figure size 720x720 with 12 Axes>"
      ]
     },
     "metadata": {
      "needs_background": "light"
     },
     "output_type": "display_data"
    }
   ],
   "source": [
    "ds.hist(figsize=(10, 10), bins = 20);"
   ]
  },
  {
   "cell_type": "markdown",
   "metadata": {},
   "source": [
    "Можно заметить, что большинство распределений по форме напоминают распределение хи-квадрат Пирсона."
   ]
  },
  {
   "cell_type": "markdown",
   "metadata": {},
   "source": [
    "### 3. Проверяемая гипотеза\n",
    "По классической схеме, выдвенем нулевую гипотезу $H_0$ и альтернативную $H_1$:\n",
    "- $H_0$: Время выполнения задания подчиняется закону распределния $\\chi^2$-Пирсона.\n",
    "- $H_1$: Не подчиняется.\n",
    "\n",
    "И сразу же зададимся уровнем значимости $\\alpha=0.05$"
   ]
  },
  {
   "cell_type": "markdown",
   "metadata": {},
   "source": [
    "### 4. Проверка гипотезы"
   ]
  },
  {
   "cell_type": "markdown",
   "metadata": {},
   "source": [
    "Чтобы проверить данную гипотезу можно воспользоватья критерием согласия хи-квадрат. При этом, так как мы проверяем сложную гипотезу (хотим проверить принадлежность к целому классу распределений), то нам необходимо сначала оценить параметры данного распределения. Сделаем это с помощью метода максимального правдоподобия (теоретически доказано, что это лучший способ оценки параметров для таких задач) по таблице частотности.  \n",
    "Составим таблицу частотности - разобьем выборку по каждому заданию на 10 интервалов (воспользуемся 10-ю последовательными квантилями), а затем посчитаем частоты попадания в каждый интервал:"
   ]
  },
  {
   "cell_type": "code",
   "execution_count": 5,
   "metadata": {},
   "outputs": [],
   "source": [
    "# Разбиваем на интервалы\n",
    "task_number = 0 # Номер задания, для которого проверяем гипотезу\n",
    "intervals = [ds[task_number].min()]\n",
    "for q in np.arange(0.1, 1, 0.1):\n",
    "    intervals.append(round(np.quantile(ds[task_number], q), 0))\n",
    "intervals.append(ds[task_number].max())"
   ]
  },
  {
   "cell_type": "code",
   "execution_count": 6,
   "metadata": {},
   "outputs": [
    {
     "data": {
      "text/plain": [
       "[133.8991133036702,\n",
       " 250.0,\n",
       " 282.0,\n",
       " 314.0,\n",
       " 338.0,\n",
       " 365.0,\n",
       " 398.0,\n",
       " 429.0,\n",
       " 474.0,\n",
       " 547.0,\n",
       " 917.0939751554976]"
      ]
     },
     "execution_count": 6,
     "metadata": {},
     "output_type": "execute_result"
    }
   ],
   "source": [
    "intervals # Полученные границы интервалов"
   ]
  },
  {
   "cell_type": "code",
   "execution_count": 7,
   "metadata": {},
   "outputs": [
    {
     "data": {
      "text/plain": [
       "[100, 103, 97, 99, 99, 101, 98, 103, 98, 102]"
      ]
     },
     "execution_count": 7,
     "metadata": {},
     "output_type": "execute_result"
    }
   ],
   "source": [
    "# Сотавляем вектор наблюдений (таблица частотности)\n",
    "observations = []\n",
    "for i in range(len(intervals) - 1):\n",
    "    observations.append(len(ds[task_number][(ds[task_number] >= intervals[i])&(ds[task_number] <=intervals[i + 1])]))\n",
    "observations"
   ]
  },
  {
   "cell_type": "markdown",
   "metadata": {},
   "source": [
    "### 5. Получение оценок параметров"
   ]
  },
  {
   "cell_type": "markdown",
   "metadata": {},
   "source": [
    "Оценим неизвестные параметры распределения хи-квадрат с помощью ММП (воспользуемся специальной функцией `stats.chi2.fit`):"
   ]
  },
  {
   "cell_type": "code",
   "execution_count": 8,
   "metadata": {},
   "outputs": [
    {
     "name": "stdout",
     "output_type": "stream",
     "text": [
      "df1 = 10, loc1 = 117.4, scale1 = 26.7\n"
     ]
    }
   ],
   "source": [
    "df1, loc1, scale1 = stats.chi2.fit(ds[task_number], fdf=10)\n",
    "print(f'df1 = {df1}, loc1 = {loc1:.4}, scale1 = {scale1:.3}')"
   ]
  },
  {
   "cell_type": "markdown",
   "metadata": {},
   "source": [
    "Построим на графике эмпиричускую плотность распреления (наблюдаемую нами) и теоретическую (построенную с использованием оцененных параметров):"
   ]
  },
  {
   "cell_type": "code",
   "execution_count": 9,
   "metadata": {},
   "outputs": [
    {
     "data": {
      "image/png": "[encoded data removed]",
      "text/plain": [
       "<Figure size 432x288 with 1 Axes>"
      ]
     },
     "metadata": {
      "needs_background": "light"
     },
     "output_type": "display_data"
    }
   ],
   "source": [
    "fig, ax = plt.subplots()\n",
    "\n",
    "sns.histplot(data=ds[task_number], color='b', element='poly', fill=False, stat='density', label='task 0', ax=ax)\n",
    "\n",
    "chi2_rv1 = stats.chi2(df1, loc1, scale1)\n",
    "x = np.linspace(min(intervals), max(intervals), 1000)\n",
    "sns.lineplot(x=x, y=chi2_rv1.pdf(x), color='r', label='pdf(task 0)', ax=ax)\n",
    "ax.set_xlabel('time');"
   ]
  },
  {
   "cell_type": "markdown",
   "metadata": {},
   "source": [
    "Видим, что мы довольно хорошо приближаем наблюдаемые значения распределением $\\chi^2$ с оцененными параметрами, поэтому вряд ли есть основания отвергать $H_0$.  \n",
    "Но все равно выполним статистическую проверку гипотезы методом $\\chi^2$ - для этого сформируем теоретический вектор частот и воспользуемся функцией (`stats.chisquare`):"
   ]
  },
  {
   "cell_type": "code",
   "execution_count": 10,
   "metadata": {},
   "outputs": [],
   "source": [
    "# Составляем теоретический вектор частот\n",
    "n = np.sum(observations)\n",
    "theory = []\n",
    "for i in range(len(intervals) - 2):\n",
    "    p = stats.chi2.cdf(x=intervals[i + 1], df=df1, loc=loc1, scale=scale1) - stats.chi2.cdf(x=intervals[i], df=df1, loc=loc1, scale=scale1)\n",
    "    theory.append(int(round(p*n, 0)))\n",
    "p = 1 - stats.chi2.cdf(x=intervals[-2], df=df1, loc=loc1, scale=scale1)\n",
    "theory.append(n - np.sum(theory))"
   ]
  },
  {
   "cell_type": "code",
   "execution_count": 11,
   "metadata": {},
   "outputs": [
    {
     "data": {
      "text/plain": [
       "True"
      ]
     },
     "execution_count": 11,
     "metadata": {},
     "output_type": "execute_result"
    }
   ],
   "source": [
    "# важно, чтобы суммы значений обоих векторов совпадали (иначе функция не заработает)\n",
    "sum(observations) == sum(theory)"
   ]
  },
  {
   "cell_type": "code",
   "execution_count": 12,
   "metadata": {},
   "outputs": [
    {
     "data": {
      "text/plain": [
       "Power_divergenceResult(statistic=7.401716536060914, pvalue=0.38828416182152853)"
      ]
     },
     "execution_count": 12,
     "metadata": {},
     "output_type": "execute_result"
    }
   ],
   "source": [
    "# Проверяем гипотезу\n",
    "stats.chisquare(\n",
    "    f_obs=observations, \n",
    "    f_exp=theory, \n",
    "    ddof=2 # не забываем, что мы оценили 2 параметра по выборке\n",
    ")"
   ]
  },
  {
   "cell_type": "markdown",
   "metadata": {},
   "source": [
    "Видим, что pvalue $ > \\alpha=0.05$ -> у нас нет оснований отвергать $H_0$. Можем сделать выводд о том, что время выполнения задания 0 подчиняется распределению $\\chi^2$-Пирсона."
   ]
  },
  {
   "cell_type": "markdown",
   "metadata": {},
   "source": [
    "Проверим данную гипотезу для всех заданий:"
   ]
  },
  {
   "cell_type": "code",
   "execution_count": 13,
   "metadata": {},
   "outputs": [
    {
     "name": "stdout",
     "output_type": "stream",
     "text": [
      "Для задания 0 H0 не отвергнута (p_value = 0.388)\n",
      "Для задания 1 H0 не отвергнута (p_value = 0.294)\n",
      "Для задания 2 H0 не отвергнута (p_value = 0.512)\n",
      "Для задания 3 H0 не отвергнута (p_value = 0.354)\n",
      "Для задания 4 H0 не отвергнута (p_value = 0.265)\n",
      "Для задания 5 H0 не отвергнута (p_value = 0.439)\n",
      "Для задания 6 H0 отвергнута (p_value = 0.035)\n",
      "Для задания 7 H0 отвергнута (p_value = 0.000)\n",
      "Для задания 8 H0 не отвергнута (p_value = 0.428)\n",
      "Для задания 9 H0 не отвергнута (p_value = 0.886)\n"
     ]
    }
   ],
   "source": [
    "alpha = 0.05 # уровень значимости\n",
    "\n",
    "for task in range(len(ds.transpose())):\n",
    "    intervals = [ds[task].min()]\n",
    "    for q in np.arange(0.1, 1, 0.1):\n",
    "        intervals.append(round(np.quantile(ds[task], q), 0))\n",
    "    intervals.append(ds[task].max())\n",
    "\n",
    "    # составляем вектор наблюдаемых частот\n",
    "    observations = []\n",
    "    for i in range(len(intervals) - 1):\n",
    "        observations.append(len(ds[task][(ds[task] >= intervals[i]) & (ds[task] <= intervals[i + 1])]))\n",
    "\n",
    "    # Определяем оценки параметров методом ММП\n",
    "    df1, loc1, scale1 = stats.chi2.fit(ds[task], fdf=10)\n",
    "\n",
    "    # Составляем теоретических ветор частот\n",
    "    n = np.sum(observations)\n",
    "    theory = []\n",
    "    for i in range(len(intervals) - 2):\n",
    "        p = stats.chi2.cdf(x=intervals[i + 1], df=df1, loc=loc1, scale=scale1) - stats.chi2.cdf(x=intervals[i], df=df1, loc=loc1, scale=scale1)\n",
    "        theory.append(int(round(p*n, 0)))\n",
    "    p = 1 - stats.chi2.cdf(x=intervals[-2], df=df1, loc=loc1, scale=scale1)\n",
    "    theory.append(n - np.sum(theory))\n",
    "\n",
    "    # Проверяем гипотезу\n",
    "    stat, p_value = stats.chisquare(\n",
    "        f_obs=observations, \n",
    "        f_exp=theory, \n",
    "        ddof=2\n",
    "    )\n",
    "    if p_value > alpha:\n",
    "        print(f'Для задания {task} H0 не отвергнута (p_value = {p_value:.3f})')\n",
    "    else:\n",
    "        print(f'Для задания {task} H0 отвергнута (p_value = {p_value:.3f})')\n"
   ]
  },
  {
   "cell_type": "markdown",
   "metadata": {},
   "source": [
    "Видим, что для всех заданий (кроме 6 и 7) мы можем сделать вывод о $\\chi^2$-распределении времени их выполнения.  \n",
    "Посмотрим на графики для 7 задания:"
   ]
  },
  {
   "cell_type": "code",
   "execution_count": 14,
   "metadata": {},
   "outputs": [
    {
     "data": {
      "image/png": "[encoded data removed]",
      "text/plain": [
       "<Figure size 432x288 with 1 Axes>"
      ]
     },
     "metadata": {
      "needs_background": "light"
     },
     "output_type": "display_data"
    }
   ],
   "source": [
    "task_number = 7\n",
    "intervals = [ds[task_number].min()]\n",
    "for q in np.arange(0.1, 1, 0.1):\n",
    "    intervals.append(round(np.quantile(ds[task_number], q), 0))\n",
    "intervals.append(ds[task_number].max())\n",
    "\n",
    "observations = []\n",
    "for i in range(len(intervals) - 1):\n",
    "    observations.append(len(ds[task_number][(ds[task_number] >= intervals[i]) & (ds[task_number] <= intervals[i + 1])]))\n",
    "\n",
    "df1, loc1, scale1 = stats.chi2.fit(ds[task_number], fdf=10)\n",
    "\n",
    "n = np.sum(observations)\n",
    "theory = []\n",
    "for i in range(len(intervals) - 2):\n",
    "    p = stats.chi2.cdf(x=intervals[i + 1], df=df1, loc=loc1, scale=scale1) - stats.chi2.cdf(x=intervals[i], df=df1, loc=loc1, scale=scale1)\n",
    "    theory.append(int(round(p*n, 0)))\n",
    "p = 1 - stats.chi2.cdf(x=intervals[-2], df=df1, loc=loc1, scale=scale1)\n",
    "theory.append(n - np.sum(theory))\n",
    "\n",
    "fig, ax = plt.subplots()\n",
    "sns.histplot(data=ds[task_number], color='b', element='poly', fill=False, stat='density', label=f'task {task_number}', ax=ax)\n",
    "\n",
    "chi2_rv1 = stats.chi2(df1, loc1, scale1)\n",
    "x = np.linspace(min(intervals), max(intervals), 1000)\n",
    "sns.lineplot(x=x, y=chi2_rv1.pdf(x), color='r', label=f'pdf(task {task_number})', ax=ax)\n",
    "ax.set_xlabel('time');"
   ]
  },
  {
   "cell_type": "markdown",
   "metadata": {},
   "source": [
    "Видим, что различия между 2 графиками заметно, поэтому неудивительно, что мы отвергаем $H_0$."
   ]
  }
 ],
 "metadata": {
  "kernelspec": {
   "display_name": "Python 3",
   "language": "python",
   "name": "python3"
  },
  "language_info": {
   "codemirror_mode": {
    "name": "ipython",
    "version": 3
   },
   "file_extension": ".py",
   "mimetype": "text/x-python",
   "name": "python",
   "nbconvert_exporter": "python",
   "pygments_lexer": "ipython3",
   "version": "3.8.5"
  }
 },
 "nbformat": 4,
 "nbformat_minor": 4
}
